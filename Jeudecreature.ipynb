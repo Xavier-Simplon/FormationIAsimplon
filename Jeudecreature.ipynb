{
 "cells": [
  {
   "cell_type": "code",
   "execution_count": 153,
   "metadata": {},
   "outputs": [],
   "source": [
    "import random \n",
    "\n",
    "\n",
    "class Case:\n",
    "    def __init__(self,x,y):\n",
    "        self.x=x\n",
    "        self.y=y\n",
    "    def adjacentes(self,jeu):\n",
    "        #(i.x-1 <= self.x <= i.x+1) and (i.y-1 <= self.y <= i.y+1) and not(self.x==i.x and self.y==i.x)\n",
    "        l=[]\n",
    "        for i in jeu.listeDesCases:\n",
    "            if i.x == self.x and i.y == self.y:\n",
    "                None\n",
    "            else :\n",
    "                if ( i.x == self.x or i.x==(self.x+1) or i.x==(self.x-1)) and ( i.y == self.y or i.y==(self.y+1) or i.y==(self.y-1)):\n",
    "                    l.append(i)\n",
    "        print(l)\n",
    "        return l\n",
    "    def __repr__(self):\n",
    "        return repr((self.x,self.y))"
   ]
  },
  {
   "cell_type": "code",
   "execution_count": 154,
   "metadata": {},
   "outputs": [],
   "source": [
    "\n",
    "\n",
    "class Jeu:\n",
    "    def __init__(self,listeDesCases,listeDesCreatures,tour,actif):\n",
    "        self.listeDesCases=listeDesCases\n",
    "        self.listeDesCreatures=listeDesCreatures\n",
    "        self.tour=tour\n",
    "        self.actif=actif\n",
    "    def estOccuper(self,case):\n",
    "        for i in self.listeDesCreatures:\n",
    "            if i.position == case:\n",
    "                return True \n",
    "        return False\n",
    "    def deplacer(self,Creature,Case):\n",
    "        while self.tour<20:\n",
    "            None\n",
    "    def __repr__(self):\n",
    "        return repr((self.listeDesCases,self.listeDesCreatures,self.tour,self.actif))\n",
    "\n",
    "class Creature:\n",
    "    def __init__(self,nom,position):\n",
    "        self.nom=nom\n",
    "        self.position=position\n",
    "    def choisirCible(self,jeu):\n",
    "        for i in self.position.adjacentes(jeu):\n",
    "            if jeu.estOccuper(i):\n",
    "                return i\n",
    "        return random.choice(self.position.adjacentes(jeu))\n",
    "    def __repr__(self):\n",
    "        return repr((self.nom,self.position))\n",
    "\n"
   ]
  },
  {
   "cell_type": "code",
   "execution_count": 155,
   "metadata": {},
   "outputs": [
    {
     "name": "stdout",
     "output_type": "stream",
     "text": [
      "(4, 4)\n"
     ]
    }
   ],
   "source": [
    "\n",
    "case1=Case(4,4)\n",
    "print(case1)"
   ]
  },
  {
   "cell_type": "code",
   "execution_count": 156,
   "metadata": {},
   "outputs": [],
   "source": [
    "x1=1\n",
    "x2=2\n",
    "y1=1\n",
    "y2=1\n",
    "\n"
   ]
  },
  {
   "cell_type": "code",
   "execution_count": 157,
   "metadata": {},
   "outputs": [
    {
     "name": "stdout",
     "output_type": "stream",
     "text": [
      "[(1, 1), (1, 2), (1, 3), (1, 4), (2, 1), (2, 2), (2, 3), (2, 4), (3, 1), (3, 2), (3, 3), (3, 4), (4, 1), (4, 2), (4, 3), (4, 4)]\n"
     ]
    }
   ],
   "source": [
    "listeCase=[]\n",
    "for i in range(1,5):\n",
    "    for j in range(1,5):\n",
    "        l=Case(i,j)\n",
    "        listeCase.append(l)\n",
    "print(listeCase)\n",
    "listeCreature=[Creature('Chien à 3 têtes',Case(1,1)),Creature('Tirex à 3 têtes',Case(4,4))]"
   ]
  },
  {
   "cell_type": "code",
   "execution_count": 158,
   "metadata": {},
   "outputs": [
    {
     "name": "stdout",
     "output_type": "stream",
     "text": [
      "[(1, 1), (1, 2), (1, 3), (2, 1), (2, 3), (3, 1), (3, 2), (3, 3)]\n"
     ]
    },
    {
     "data": {
      "text/plain": "[(1, 1), (1, 2), (1, 3), (2, 1), (2, 3), (3, 1), (3, 2), (3, 3)]"
     },
     "execution_count": 158,
     "metadata": {},
     "output_type": "execute_result"
    }
   ],
   "source": [
    "C1=Case(2,2)\n",
    "jeu1=Jeu(listeCase,listeCreature,0,listeCreature[0])\n",
    "C1.adjacentes(jeu1)\n",
    "\n"
   ]
  },
  {
   "cell_type": "code",
   "execution_count": null,
   "metadata": {},
   "outputs": [],
   "source": []
  }
 ],
 "metadata": {
  "kernelspec": {
   "display_name": "Python 3.8.5 64-bit ('base': conda)",
   "name": "python385jvsc74a57bd064b474f71659f9be32f34132c3eef93d33d176ead871b80ca6db3fa26bc83f65"
  },
  "language_info": {
   "name": "python",
   "version": ""
  },
  "metadata": {
   "interpreter": {
    "hash": "64b474f71659f9be32f34132c3eef93d33d176ead871b80ca6db3fa26bc83f65"
   }
  },
  "orig_nbformat": 2
 },
 "nbformat": 4,
 "nbformat_minor": 2
}