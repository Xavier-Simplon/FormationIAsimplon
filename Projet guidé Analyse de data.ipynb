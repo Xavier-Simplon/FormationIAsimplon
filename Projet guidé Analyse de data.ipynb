{
 "cells": [
  {
   "cell_type": "code",
   "execution_count": 155,
   "metadata": {},
   "outputs": [],
   "source": [
    "import pandas as pd\n",
    "import numpy as np\n",
    "from re import *\n",
    "data = pd.read_csv('/home/simplon/Téléchargements/thanksgiving.csv',encoding='latin-1')"
   ]
  },
  {
   "cell_type": "code",
   "execution_count": 181,
   "metadata": {},
   "outputs": [
    {
     "name": "stdout",
     "output_type": "stream",
     "text": [
      "      RespondentID Do you celebrate Thanksgiving?  \\\n",
      "0       4337954960                            Yes   \n",
      "1       4337951949                            Yes   \n",
      "2       4337935621                            Yes   \n",
      "3       4337933040                            Yes   \n",
      "4       4337931983                            Yes   \n",
      "...            ...                            ...   \n",
      "1053    4335944082                            Yes   \n",
      "1054    4335943173                            Yes   \n",
      "1055    4335943060                            Yes   \n",
      "1056    4335934708                            Yes   \n",
      "1057    4335894916                            Yes   \n",
      "\n",
      "     What is typically the main dish at your Thanksgiving dinner?  \\\n",
      "0                                                Turkey             \n",
      "1                                                Turkey             \n",
      "2                                                Turkey             \n",
      "3                                                Turkey             \n",
      "4                                              Tofurkey             \n",
      "...                                                 ...             \n",
      "1053                                             Turkey             \n",
      "1054                                             Turkey             \n",
      "1055                             Other (please specify)             \n",
      "1056                                             Turkey             \n",
      "1057                                             Turkey             \n",
      "\n",
      "     What is typically the main dish at your Thanksgiving dinner? - Other (please specify)  \\\n",
      "0                                                   NaN                                      \n",
      "1                                                   NaN                                      \n",
      "2                                                   NaN                                      \n",
      "3                                                   NaN                                      \n",
      "4                                                   NaN                                      \n",
      "...                                                 ...                                      \n",
      "1053                                                NaN                                      \n",
      "1054                                                NaN                                      \n",
      "1055                                               Duck                                      \n",
      "1056                                                NaN                                      \n",
      "1057                                                NaN                                      \n",
      "\n",
      "     How is the main dish typically cooked?  \\\n",
      "0                                     Baked   \n",
      "1                                     Baked   \n",
      "2                                   Roasted   \n",
      "3                                     Baked   \n",
      "4                                     Baked   \n",
      "...                                     ...   \n",
      "1053                                Roasted   \n",
      "1054                                  Baked   \n",
      "1055                                  Baked   \n",
      "1056                                  Baked   \n",
      "1057                                  Baked   \n",
      "\n",
      "     How is the main dish typically cooked? - Other (please specify)  \\\n",
      "0                                                   NaN                \n",
      "1                                                   NaN                \n",
      "2                                                   NaN                \n",
      "3                                                   NaN                \n",
      "4                                                   NaN                \n",
      "...                                                 ...                \n",
      "1053                                                NaN                \n",
      "1054                                                NaN                \n",
      "1055                                                NaN                \n",
      "1056                                                NaN                \n",
      "1057                                                NaN                \n",
      "\n",
      "     What kind of stuffing/dressing do you typically have?  \\\n",
      "0                                           Bread-based      \n",
      "1                                           Bread-based      \n",
      "2                                            Rice-based      \n",
      "3                                           Bread-based      \n",
      "4                                           Bread-based      \n",
      "...                                                 ...      \n",
      "1053                                        Bread-based      \n",
      "1054                                        Bread-based      \n",
      "1055                                         Rice-based      \n",
      "1056                                               None      \n",
      "1057                                        Bread-based      \n",
      "\n",
      "     What kind of stuffing/dressing do you typically have? - Other (please specify)  \\\n",
      "0                                                   NaN                               \n",
      "1                                                   NaN                               \n",
      "2                                                   NaN                               \n",
      "3                                                   NaN                               \n",
      "4                                                   NaN                               \n",
      "...                                                 ...                               \n",
      "1053                                                NaN                               \n",
      "1054                                                NaN                               \n",
      "1055                                                NaN                               \n",
      "1056                                                NaN                               \n",
      "1057                                                NaN                               \n",
      "\n",
      "     What type of cranberry saucedo you typically have?  \\\n",
      "0                                                  None   \n",
      "1                                Other (please specify)   \n",
      "2                                              Homemade   \n",
      "3                                              Homemade   \n",
      "4                                                Canned   \n",
      "...                                                 ...   \n",
      "1053                                           Homemade   \n",
      "1054                                             Canned   \n",
      "1055                                               None   \n",
      "1056                                           Homemade   \n",
      "1057                                             Canned   \n",
      "\n",
      "     What type of cranberry saucedo you typically have? - Other (please specify)  \\\n",
      "0                                                   NaN                            \n",
      "1                       Homemade cranberry gelatin ring                            \n",
      "2                                                   NaN                            \n",
      "3                                                   NaN                            \n",
      "4                                                   NaN                            \n",
      "...                                                 ...                            \n",
      "1053                                                NaN                            \n",
      "1054                                                NaN                            \n",
      "1055                                                NaN                            \n",
      "1056                                                NaN                            \n",
      "1057                                                NaN                            \n",
      "\n",
      "      ... Will you shop any Black Friday sales on Thanksgiving Day?  \\\n",
      "0     ...                                                 No          \n",
      "1     ...                                                Yes          \n",
      "2     ...                                                Yes          \n",
      "3     ...                                                 No          \n",
      "4     ...                                                 No          \n",
      "...   ...                                                ...          \n",
      "1053  ...                                                 No          \n",
      "1054  ...                                                 No          \n",
      "1055  ...                                                Yes          \n",
      "1056  ...                                                Yes          \n",
      "1057  ...                                                Yes          \n",
      "\n",
      "     Do you work in retail? Will you employer make you work on Black Friday?  \\\n",
      "0                        No                                              NaN   \n",
      "1                        No                                              NaN   \n",
      "2                        No                                              NaN   \n",
      "3                        No                                              NaN   \n",
      "4                        No                                              NaN   \n",
      "...                     ...                                              ...   \n",
      "1053                     No                                              NaN   \n",
      "1054                     No                                              NaN   \n",
      "1055                     No                                              NaN   \n",
      "1056                    Yes                                              Yes   \n",
      "1057                     No                                              NaN   \n",
      "\n",
      "     How would you describe where you live?      Age What is your gender?  \\\n",
      "0                                  Suburban  18 - 29                 Male   \n",
      "1                                     Rural  18 - 29               Female   \n",
      "2                                  Suburban  18 - 29                 Male   \n",
      "3                                     Urban  30 - 44                 Male   \n",
      "4                                     Urban  30 - 44                 Male   \n",
      "...                                     ...      ...                  ...   \n",
      "1053                                  Rural  30 - 44               Female   \n",
      "1054                               Suburban      60+               Female   \n",
      "1055                                  Urban      60+                 Male   \n",
      "1056                                    NaN      NaN                  NaN   \n",
      "1057                                    NaN      NaN                  NaN   \n",
      "\n",
      "     How much total combined money did all members of your HOUSEHOLD earn last year?  \\\n",
      "0                                    $75,000 to $99,999                                \n",
      "1                                    $50,000 to $74,999                                \n",
      "2                                          $0 to $9,999                                \n",
      "3                                       $200,000 and up                                \n",
      "4                                  $100,000 to $124,999                                \n",
      "...                                                 ...                                \n",
      "1053                               $100,000 to $124,999                                \n",
      "1054                                 $50,000 to $74,999                                \n",
      "1055                               $100,000 to $124,999                                \n",
      "1056                                                NaN                                \n",
      "1057                                                NaN                                \n",
      "\n",
      "               US Region int_age int_income  \n",
      "0        Middle Atlantic    18.0    75000.0  \n",
      "1     East South Central    18.0    50000.0  \n",
      "2               Mountain    18.0        0.0  \n",
      "3                Pacific    30.0   200000.0  \n",
      "4                Pacific    30.0   100000.0  \n",
      "...                  ...     ...        ...  \n",
      "1053            Mountain    30.0   100000.0  \n",
      "1054             Pacific    60.0    50000.0  \n",
      "1055             Pacific    60.0   100000.0  \n",
      "1056                 NaN     NaN        NaN  \n",
      "1057                 NaN     NaN        NaN  \n",
      "\n",
      "[980 rows x 67 columns]\n"
     ]
    }
   ],
   "source": [
    "celebrate_thanksgiving_yes_bol= data['Do you celebrate Thanksgiving?'] == 'Yes'\n",
    "celebrate_thanksgiving_yes_bol.value_counts()\n",
    "data=data[celebrate_thanksgiving_yes_bol].copy()\n",
    "print(data)"
   ]
  },
  {
   "cell_type": "code",
   "execution_count": 182,
   "metadata": {},
   "outputs": [],
   "source": [
    "age_str=data['Age']"
   ]
  },
  {
   "cell_type": "code",
   "execution_count": 183,
   "metadata": {},
   "outputs": [],
   "source": [
    "def convertStrInt(S):\n",
    "    if pd.isnull(S)==True:\n",
    "        return None\n",
    "    else:\n",
    "        s=S.split()\n",
    "        s=s[0]\n",
    "        s=s.replace('+','')\n",
    "        s=int(s)\n",
    "        return s"
   ]
  },
  {
   "cell_type": "code",
   "execution_count": 184,
   "metadata": {
    "scrolled": true
   },
   "outputs": [],
   "source": [
    "data['int_age']=data['Age'].apply(convertStrInt)"
   ]
  },
  {
   "cell_type": "code",
   "execution_count": 185,
   "metadata": {},
   "outputs": [
    {
     "data": {
      "text/plain": [
       "count    947.000000\n",
       "mean      40.089757\n",
       "std       15.352014\n",
       "min       18.000000\n",
       "25%       30.000000\n",
       "50%       45.000000\n",
       "75%       60.000000\n",
       "max       60.000000\n",
       "Name: int_age, dtype: float64"
      ]
     },
     "execution_count": 185,
     "metadata": {},
     "output_type": "execute_result"
    }
   ],
   "source": [
    "data['int_age'].describe()"
   ]
  },
  {
   "cell_type": "code",
   "execution_count": 186,
   "metadata": {},
   "outputs": [],
   "source": [
    "def convertrevenu(X):\n",
    "    if pd.isnull(X)==True:\n",
    "        return None\n",
    "    X=X.split()\n",
    "    X=X[0]\n",
    "    if X == 'Prefer':\n",
    "        return None\n",
    "    X=X.replace(\"$\",\"\")\n",
    "    X=X.replace(\",\",\"\")\n",
    "    X=int(X)\n",
    "    return X\n",
    "\n",
    "data['int_income']=data['How much total combined money did all members of your HOUSEHOLD earn last year?'].apply(convertrevenu)"
   ]
  },
  {
   "cell_type": "code",
   "execution_count": 187,
   "metadata": {},
   "outputs": [
    {
     "data": {
      "text/plain": [
       "count       829.000000\n",
       "mean      75965.018094\n",
       "std       59068.636748\n",
       "min           0.000000\n",
       "25%       25000.000000\n",
       "50%       75000.000000\n",
       "75%      100000.000000\n",
       "max      200000.000000\n",
       "Name: int_income, dtype: float64"
      ]
     },
     "execution_count": 187,
     "metadata": {},
     "output_type": "execute_result"
    }
   ],
   "source": [
    "data['int_income'].describe()"
   ]
  },
  {
   "cell_type": "code",
   "execution_count": 188,
   "metadata": {},
   "outputs": [],
   "source": [
    "inf_150000 = data[:]['int_income']<150000\n",
    "sup_150000 = data[:]['int_income']>=150000"
   ]
  },
  {
   "cell_type": "code",
   "execution_count": 189,
   "metadata": {},
   "outputs": [
    {
     "data": {
      "text/plain": [
       "0        True\n",
       "1        True\n",
       "2        True\n",
       "3       False\n",
       "4        True\n",
       "        ...  \n",
       "1053     True\n",
       "1054     True\n",
       "1055     True\n",
       "1056    False\n",
       "1057    False\n",
       "Name: int_income, Length: 980, dtype: bool"
      ]
     },
     "execution_count": 189,
     "metadata": {},
     "output_type": "execute_result"
    }
   ],
   "source": [
    "inf_150000"
   ]
  },
  {
   "cell_type": "code",
   "execution_count": 190,
   "metadata": {},
   "outputs": [
    {
     "data": {
      "text/plain": [
       "Thanksgiving is happening at my home--I won't travel at all                         281\n",
       "Thanksgiving is local--it will take place in the town I live in                     203\n",
       "Thanksgiving is out of town but not too far--it's a drive of a few hours or less    150\n",
       "Thanksgiving is out of town and far away--I have to drive several hours or fly       55\n",
       "Name: How far will you travel for Thanksgiving?, dtype: int64"
      ]
     },
     "execution_count": 190,
     "metadata": {},
     "output_type": "execute_result"
    }
   ],
   "source": [
    "data['How far will you travel for Thanksgiving?'][inf_150000].value_counts()"
   ]
  },
  {
   "cell_type": "code",
   "execution_count": 191,
   "metadata": {},
   "outputs": [
    {
     "data": {
      "text/plain": [
       "Thanksgiving is happening at my home--I won't travel at all                         66\n",
       "Thanksgiving is local--it will take place in the town I live in                     34\n",
       "Thanksgiving is out of town but not too far--it's a drive of a few hours or less    25\n",
       "Thanksgiving is out of town and far away--I have to drive several hours or fly      15\n",
       "Name: How far will you travel for Thanksgiving?, dtype: int64"
      ]
     },
     "execution_count": 191,
     "metadata": {},
     "output_type": "execute_result"
    }
   ],
   "source": [
    "data['How far will you travel for Thanksgiving?'][sup_150000].value_counts()"
   ]
  },
  {
   "cell_type": "code",
   "execution_count": 192,
   "metadata": {},
   "outputs": [
    {
     "data": {
      "text/html": [
       "<div>\n",
       "<style scoped>\n",
       "    .dataframe tbody tr th:only-of-type {\n",
       "        vertical-align: middle;\n",
       "    }\n",
       "\n",
       "    .dataframe tbody tr th {\n",
       "        vertical-align: top;\n",
       "    }\n",
       "\n",
       "    .dataframe thead th {\n",
       "        text-align: right;\n",
       "    }\n",
       "</style>\n",
       "<table border=\"1\" class=\"dataframe\">\n",
       "  <thead>\n",
       "    <tr style=\"text-align: right;\">\n",
       "      <th>Have you ever attended a \"Friendsgiving?\"</th>\n",
       "      <th>No</th>\n",
       "      <th>Yes</th>\n",
       "    </tr>\n",
       "    <tr>\n",
       "      <th>Have you ever tried to meet up with hometown friends on Thanksgiving night?</th>\n",
       "      <th></th>\n",
       "      <th></th>\n",
       "    </tr>\n",
       "  </thead>\n",
       "  <tbody>\n",
       "    <tr>\n",
       "      <th>No</th>\n",
       "      <td>42.283702</td>\n",
       "      <td>37.010526</td>\n",
       "    </tr>\n",
       "    <tr>\n",
       "      <th>Yes</th>\n",
       "      <td>41.475410</td>\n",
       "      <td>33.976744</td>\n",
       "    </tr>\n",
       "  </tbody>\n",
       "</table>\n",
       "</div>"
      ],
      "text/plain": [
       "Have you ever attended a \"Friendsgiving?\"                  No        Yes\n",
       "Have you ever tried to meet up with hometown fr...                      \n",
       "No                                                  42.283702  37.010526\n",
       "Yes                                                 41.475410  33.976744"
      ]
     },
     "execution_count": 192,
     "metadata": {},
     "output_type": "execute_result"
    }
   ],
   "source": [
    "data.pivot_table(index='Have you ever tried to meet up with hometown friends on Thanksgiving night?', columns='Have you ever attended a \"Friendsgiving?\"',values='int_age')"
   ]
  },
  {
   "cell_type": "code",
   "execution_count": 193,
   "metadata": {
    "scrolled": true
   },
   "outputs": [
    {
     "data": {
      "text/html": [
       "<div>\n",
       "<style scoped>\n",
       "    .dataframe tbody tr th:only-of-type {\n",
       "        vertical-align: middle;\n",
       "    }\n",
       "\n",
       "    .dataframe tbody tr th {\n",
       "        vertical-align: top;\n",
       "    }\n",
       "\n",
       "    .dataframe thead th {\n",
       "        text-align: right;\n",
       "    }\n",
       "</style>\n",
       "<table border=\"1\" class=\"dataframe\">\n",
       "  <thead>\n",
       "    <tr style=\"text-align: right;\">\n",
       "      <th>Have you ever attended a \"Friendsgiving?\"</th>\n",
       "      <th>No</th>\n",
       "      <th>Yes</th>\n",
       "    </tr>\n",
       "    <tr>\n",
       "      <th>Have you ever tried to meet up with hometown friends on Thanksgiving night?</th>\n",
       "      <th></th>\n",
       "      <th></th>\n",
       "    </tr>\n",
       "  </thead>\n",
       "  <tbody>\n",
       "    <tr>\n",
       "      <th>No</th>\n",
       "      <td>78914.549654</td>\n",
       "      <td>72894.736842</td>\n",
       "    </tr>\n",
       "    <tr>\n",
       "      <th>Yes</th>\n",
       "      <td>78750.000000</td>\n",
       "      <td>66019.736842</td>\n",
       "    </tr>\n",
       "  </tbody>\n",
       "</table>\n",
       "</div>"
      ],
      "text/plain": [
       "Have you ever attended a \"Friendsgiving?\"                     No           Yes\n",
       "Have you ever tried to meet up with hometown fr...                            \n",
       "No                                                  78914.549654  72894.736842\n",
       "Yes                                                 78750.000000  66019.736842"
      ]
     },
     "execution_count": 193,
     "metadata": {},
     "output_type": "execute_result"
    }
   ],
   "source": [
    "data.pivot_table(index='Have you ever tried to meet up with hometown friends on Thanksgiving night?', columns='Have you ever attended a \"Friendsgiving?\"',values='int_income')"
   ]
  },
  {
   "cell_type": "code",
   "execution_count": null,
   "metadata": {},
   "outputs": [],
   "source": []
  },
  {
   "cell_type": "code",
   "execution_count": null,
   "metadata": {},
   "outputs": [],
   "source": []
  },
  {
   "cell_type": "code",
   "execution_count": null,
   "metadata": {},
   "outputs": [],
   "source": []
  }
 ],
 "metadata": {
  "kernelspec": {
   "display_name": "Python 3",
   "language": "python",
   "name": "python3"
  },
  "language_info": {
   "codemirror_mode": {
    "name": "ipython",
    "version": 3
   },
   "file_extension": ".py",
   "mimetype": "text/x-python",
   "name": "python",
   "nbconvert_exporter": "python",
   "pygments_lexer": "ipython3",
   "version": "3.8.5"
  }
 },
 "nbformat": 4,
 "nbformat_minor": 4
}
