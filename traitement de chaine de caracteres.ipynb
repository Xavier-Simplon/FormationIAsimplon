{
 "cells": [
  {
   "cell_type": "code",
   "execution_count": 33,
   "metadata": {},
   "outputs": [
    {
     "name": "stdout",
     "output_type": "stream",
     "text": [
      "interieur de test 3\n",
      "après test 3\n"
     ]
    }
   ],
   "source": [
    "a = 2\n",
    "def test():\n",
    "    global a\n",
    "    a=3\n",
    "    print(\"interieur de test\", a)\n",
    "test()\n",
    "print(\"après test\", a)"
   ]
  },
  {
   "cell_type": "code",
   "execution_count": 34,
   "metadata": {},
   "outputs": [
    {
     "name": "stdout",
     "output_type": "stream",
     "text": [
      "je m'appelle pour x =  10\n",
      "je m'appelle pour x =  5.0\n",
      "je m'appelle pour x =  2.5\n",
      "je ne m'appelle pas pour x =  1.25\n"
     ]
    },
    {
     "data": {
      "text/plain": [
       "4"
      ]
     },
     "execution_count": 34,
     "metadata": {},
     "output_type": "execute_result"
    }
   ],
   "source": [
    "def recursive(x):\n",
    "    if x/2<1:\n",
    "        print(\"je ne m'appelle pas pour x = \",x)\n",
    "        return 1\n",
    "    else :\n",
    "        print(\"je m'appelle pour x = \",x)\n",
    "        return recursive (x/2)+1\n",
    "\n",
    "recursive(10)"
   ]
  },
  {
   "cell_type": "code",
   "execution_count": 60,
   "metadata": {},
   "outputs": [
    {
     "name": "stdout",
     "output_type": "stream",
     "text": [
      "  D u  \n",
      "[' Du p', 'se faisons table r', 'e']\n",
      "['Du', 'passe', 'faisons', 'table', 'rase']\n"
     ]
    }
   ],
   "source": [
    "\n",
    "s1= \" Du passe faisons table rase\"\n",
    "l1= [i for i in s1]\n",
    "l2= s1.split(\"as\")\n",
    "l3=s1.split()\n",
    "print(l1[0],l1[1],l1[2],l1[3],)\n",
    "print(l2)\n",
    "print(l3)"
   ]
  },
  {
   "cell_type": "code",
   "execution_count": 36,
   "metadata": {},
   "outputs": [
    {
     "name": "stdout",
     "output_type": "stream",
     "text": [
      "Hello W\n",
      "Du passe faisons table rase\n"
     ]
    }
   ],
   "source": [
    "l1=['H','e','l','l','o',' ','W']\n",
    "l2= ['Du','passe','faisons','table','rase']\n",
    "s1=\"\".join(l1)\n",
    "s2=\" \".join(l2)\n",
    "print(s1)\n",
    "print(s2)"
   ]
  },
  {
   "cell_type": "code",
   "execution_count": 37,
   "metadata": {},
   "outputs": [
    {
     "name": "stdout",
     "output_type": "stream",
     "text": [
      "faisons TABLE\n"
     ]
    }
   ],
   "source": [
    "s1=\"faisons table rase\"\n",
    "s2=s1[:8].lower()+s1[8:13].upper()\n",
    "print(s2)"
   ]
  },
  {
   "cell_type": "code",
   "execution_count": 38,
   "metadata": {},
   "outputs": [
    {
     "name": "stdout",
     "output_type": "stream",
     "text": [
      "3\n"
     ]
    }
   ],
   "source": [
    "s1= \"Ce texte contient deux fois le mot texte.\"\n",
    "print(s1.find('texte',0))"
   ]
  },
  {
   "cell_type": "code",
   "execution_count": 39,
   "metadata": {},
   "outputs": [
    {
     "name": "stdout",
     "output_type": "stream",
     "text": [
      "35\n"
     ]
    }
   ],
   "source": [
    "print(s1.find('texte',4))"
   ]
  },
  {
   "cell_type": "code",
   "execution_count": 40,
   "metadata": {},
   "outputs": [
    {
     "name": "stdout",
     "output_type": "stream",
     "text": [
      "-1\n"
     ]
    }
   ],
   "source": [
    "print(s1.find('texte',36))"
   ]
  },
  {
   "cell_type": "code",
   "execution_count": 41,
   "metadata": {},
   "outputs": [
    {
     "name": "stdout",
     "output_type": "stream",
     "text": [
      "3\n",
      "35\n",
      "-1\n"
     ]
    }
   ],
   "source": [
    "max=0\n",
    "while max >-1:\n",
    "    max=s1.find('texte',max+1)\n",
    "    print(max)"
   ]
  },
  {
   "cell_type": "code",
   "execution_count": 42,
   "metadata": {},
   "outputs": [
    {
     "name": "stdout",
     "output_type": "stream",
     "text": [
      "Le prix est de $2.15 \n"
     ]
    }
   ],
   "source": [
    "s1='Le prix est de deux euros.'\n",
    "if 'euros' in s1:\n",
    "    i=s1.index('euros')\n",
    "    s2=s1[:i-5]+'$'+s1[i-5:i]\n",
    "    j=s2.find('deux')\n",
    "    s3=s2[:j]+'2.15'+s2[j+4:]\n",
    "    print(s3)"
   ]
  },
  {
   "cell_type": "code",
   "execution_count": 43,
   "metadata": {},
   "outputs": [
    {
     "name": "stdout",
     "output_type": "stream",
     "text": [
      "Le prix est de $2.15.\n"
     ]
    }
   ],
   "source": [
    "s2= s1.replace('deux euros','$2.15')\n",
    "print(s2)"
   ]
  },
  {
   "cell_type": "code",
   "execution_count": 44,
   "metadata": {},
   "outputs": [
    {
     "name": "stdout",
     "output_type": "stream",
     "text": [
      "nombre\n",
      "mot\n",
      "?\n"
     ]
    }
   ],
   "source": [
    "s='300 seulement ?'\n",
    "l=s.split()\n",
    "for mot in l:\n",
    "    if mot.isalpha():\n",
    "        print('mot')\n",
    "    if mot.isnumeric():\n",
    "        print('nombre')\n",
    "    if not mot.isalnum():\n",
    "        print('?')"
   ]
  },
  {
   "cell_type": "code",
   "execution_count": 45,
   "metadata": {},
   "outputs": [
    {
     "name": "stdout",
     "output_type": "stream",
     "text": [
      "['Le', 'Argentine']\n",
      "['PIB', 'Argentine', 'baisse', 'depuis']\n"
     ]
    }
   ],
   "source": [
    "from re import findall\n",
    "\n",
    "s=\"Le PIB de l'Argentine baisse depuis 3 ans\"\n",
    "l1= findall('[A-Z][a-z]+',s)\n",
    "l2=findall('[a-zA-Z]*[iI][a-zA-Z]*',s)\n",
    "print(l1)\n",
    "print(l2)"
   ]
  },
  {
   "cell_type": "code",
   "execution_count": null,
   "metadata": {},
   "outputs": [],
   "source": []
  },
  {
   "cell_type": "code",
   "execution_count": null,
   "metadata": {},
   "outputs": [],
   "source": []
  },
  {
   "cell_type": "code",
   "execution_count": 46,
   "metadata": {},
   "outputs": [
    {
     "data": {
      "text/plain": [
       "'Le,PIB,IB,B,Argentine,'"
      ]
     },
     "execution_count": 46,
     "metadata": {},
     "output_type": "execute_result"
    }
   ],
   "source": [
    "#Question 1 :\n",
    "\n",
    "def hascap(s):\n",
    "    L=''\n",
    "    for i in range(len(s)):\n",
    "        if ord(s[i])<=90 and ord(s[i])>=65:\n",
    "            k=s.find(' ', i)\n",
    "            L=L+s[i:k]+ ','\n",
    "    return L\n",
    "hascap(\"Le PIB de l'Argentine baisse depuis 3 ans\")\n"
   ]
  },
  {
   "cell_type": "code",
   "execution_count": 47,
   "metadata": {},
   "outputs": [
    {
     "data": {
      "text/plain": [
       "['Le', 'PIB', 'Argentine']"
      ]
     },
     "execution_count": 47,
     "metadata": {},
     "output_type": "execute_result"
    }
   ],
   "source": [
    "def hascap2(s):\n",
    "    l1= findall('[A-Z][A-Za-z]+',s)\n",
    "    return l1\n",
    "hascap2(\"Le PIB de l'Argentine baisse depuis 3 ans\")"
   ]
  },
  {
   "cell_type": "code",
   "execution_count": 48,
   "metadata": {},
   "outputs": [
    {
     "data": {
      "text/plain": [
       "'Le prix est de 54 euros'"
      ]
     },
     "execution_count": 48,
     "metadata": {},
     "output_type": "execute_result"
    }
   ],
   "source": [
    "#Question 2\n",
    "from re import sub\n",
    "def inflation(s):\n",
    "    \n",
    "    r=findall('[0-9]+',s)\n",
    "    for i in r:\n",
    "        r1=int(i)\n",
    "        r1=r1*2\n",
    "        r1=str(r1)\n",
    "    R=sub(i,r1,s)\n",
    "    return R\n",
    "\n",
    "inflation('Le prix est de 27 euros')"
   ]
  },
  {
   "cell_type": "code",
   "execution_count": 49,
   "metadata": {},
   "outputs": [],
   "source": [
    "s =\"Onze ans déjà que cela passe vite Vous \"\n",
    "s +=\"vous étiez servis simplement de vos armes la \"\n",
    "s +=\"mort n‘éblouit pas les yeux des partisans Vous \"\n",
    "s +=\"aviez vos portraits sur les murs de nos villes \""
   ]
  },
  {
   "cell_type": "code",
   "execution_count": 50,
   "metadata": {},
   "outputs": [
    {
     "name": "stdout",
     "output_type": "stream",
     "text": [
      "['Onze ans déjà que cela ', 'passe vite Vous vous ', 'étiez servis simplement ', 'de vos armes la mort ', 'n‘éblouit pas les yeux ', 'des partisans Vous ', 'aviez vos portraits sur ', 'les murs de nos villes ']\n"
     ]
    }
   ],
   "source": [
    "#Question 3\n",
    "\n",
    "def lignes(s):\n",
    "    s1=''\n",
    "    lignes =[]\n",
    "    L=findall('[^ ]{2,}',s)\n",
    "    for i in L:\n",
    "        if len(i)+len(s1)+1<=24:\n",
    "            s1+=i+' '\n",
    "        else :\n",
    "            lignes.append(s1)\n",
    "            s1=i+' '\n",
    "    lignes.append(s1)\n",
    "    return lignes\n",
    "\n",
    "Resultat=lignes(s)\n",
    "print(Resultat)"
   ]
  },
  {
   "cell_type": "code",
   "execution_count": 51,
   "metadata": {},
   "outputs": [],
   "source": [
    "s=\"Les 2 maquereaux valent -6.50 euros\"\n",
    "L=findall('[-]?[0-9]+[.]?[0-9]*',s)"
   ]
  },
  {
   "cell_type": "code",
   "execution_count": 52,
   "metadata": {},
   "outputs": [
    {
     "data": {
      "text/plain": [
       "['2', '-6.50']"
      ]
     },
     "execution_count": 52,
     "metadata": {},
     "output_type": "execute_result"
    }
   ],
   "source": [
    "L"
   ]
  },
  {
   "cell_type": "code",
   "execution_count": 53,
   "metadata": {},
   "outputs": [
    {
     "name": "stdout",
     "output_type": "stream",
     "text": [
      "Les 2 maquereaux valent -6 euros\n"
     ]
    }
   ],
   "source": [
    "def arrondi(s):\n",
    "    l=findall('[-]?[0-9]+[.][0-9]+',s)\n",
    "    for e in l:\n",
    "        r=round(float(e))\n",
    "        R=sub(e,str(r),s)\n",
    "    return R\n",
    "a=arrondi(s)\n",
    "print(a)"
   ]
  },
  {
   "cell_type": "code",
   "execution_count": 54,
   "metadata": {},
   "outputs": [
    {
     "name": "stdout",
     "output_type": "stream",
     "text": [
      "['Il', 'Divine', 'Enfant']\n"
     ]
    }
   ],
   "source": [
    "#correction\n",
    "\n",
    "#Q1\n",
    "def hascap(s):\n",
    "    mots = s.split()\n",
    "    majs = []\n",
    "    for m in mots:\n",
    "        if ord(m[0]) in range(65, 91):\n",
    "            majs.append(m)\n",
    "    return majs\n",
    "print(hascap(\"Il est venu le Divine Enfant\"))\n"
   ]
  },
  {
   "cell_type": "code",
   "execution_count": 55,
   "metadata": {},
   "outputs": [
    {
     "name": "stdout",
     "output_type": "stream",
     "text": [
      "Le prix est de 54 euros\n"
     ]
    }
   ],
   "source": [
    "#Q2\n",
    "from re import *\n",
    "def inflation(s):\n",
    "    mots = s.split()\n",
    "    for i, m in enumerate(mots):\n",
    "        if m.isnumeric():\n",
    "            mots[i]  = str(2*int(m))\n",
    "    return \" \".join(mots)\n",
    "print(inflation(\"Le prix est de 27 euros\"))"
   ]
  },
  {
   "cell_type": "code",
   "execution_count": 56,
   "metadata": {},
   "outputs": [
    {
     "name": "stdout",
     "output_type": "stream",
     "text": [
      "['Onze ans déjà que cela ', 'passe vite Vous vous ', 'étiez servis ', 'simplement de vos ', 'armes la mort ', \"n'eblouit pas les yeux \", 'des partisants Vous ', 'aviez vos portraits ', 'sur les murs de nos ', 'villes ']\n"
     ]
    }
   ],
   "source": [
    "#Q3\n",
    "\n",
    "def lignes(s):\n",
    "    mots = s.split()\n",
    "    lignes  = ['']\n",
    "    for m in mots:\n",
    "        m += \" \"\n",
    "        if len(lignes[-1])+len(m)<24:\n",
    "            lignes[-1] += (m)\n",
    "        else:\n",
    "            lignes.append(m)\n",
    "    return lignes\n",
    "s = \"Onze ans déjà que cela passe vite Vous \"\n",
    "s += \"vous étiez servis simplement de vos armes la \"\n",
    "s += \"mort n'eblouit pas les yeux des partisants Vous \"\n",
    "s += \"aviez vos portraits sur les murs de nos villes\"\n",
    "print(lignes(s))"
   ]
  },
  {
   "cell_type": "code",
   "execution_count": 57,
   "metadata": {},
   "outputs": [
    {
     "name": "stdout",
     "output_type": "stream",
     "text": [
      "[]\n"
     ]
    }
   ],
   "source": [
    "#Q4\n",
    "\n",
    "l=findall('-?[0-9]+[.,]?[0-9]*',s)\n",
    "print(l)"
   ]
  },
  {
   "cell_type": "code",
   "execution_count": 58,
   "metadata": {},
   "outputs": [
    {
     "name": "stdout",
     "output_type": "stream",
     "text": [
      "L'evolution sur 3 jours est de 7 points\n"
     ]
    }
   ],
   "source": [
    "#Q5\n",
    "\n",
    "from re import *\n",
    "\n",
    "def tronc(s):\n",
    "    motif = r\"(-?)([0-9]+)[,.]?[0-9]*\"\n",
    "    return sub(motif, r\"\\1\\2\", s)\n",
    "s = \"L'evolution sur 3,5 jours est de 7.23 points\"\n",
    "print(tronc(s))"
   ]
  }
 ],
 "metadata": {
  "kernelspec": {
   "display_name": "Python 3",
   "language": "python",
   "name": "python3"
  },
  "language_info": {
   "codemirror_mode": {
    "name": "ipython",
    "version": 3
   },
   "file_extension": ".py",
   "mimetype": "text/x-python",
   "name": "python",
   "nbconvert_exporter": "python",
   "pygments_lexer": "ipython3",
   "version": "3.8.5"
  }
 },
 "nbformat": 4,
 "nbformat_minor": 4
}
