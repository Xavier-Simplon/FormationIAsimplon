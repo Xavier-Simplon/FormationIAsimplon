{
 "cells": [
  {
   "cell_type": "code",
   "execution_count": 1,
   "metadata": {},
   "outputs": [],
   "source": [
    "from re import findall\n",
    "from re import sub"
   ]
  },
  {
   "cell_type": "code",
   "execution_count": 4,
   "metadata": {},
   "outputs": [],
   "source": [
    "#1\n",
    "\n",
    "def almost(mot,s):\n",
    "    s=\" \"+sub('[.,]','',s)+' '\n",
    "    L=findall('\\s'+mot+'\\s',s)\n",
    "    for i in range(len(mot)):\n",
    "        L+=findall('\\s'+mot[:i]+mot[i+1:]+'\\s',s)\n",
    "    return L"
   ]
  },
  {
   "cell_type": "code",
   "execution_count": 3,
   "metadata": {
    "scrolled": true
   },
   "outputs": [
    {
     "data": {
      "text/plain": [
       "[' trois ', ' tris ']"
      ]
     },
     "execution_count": 3,
     "metadata": {},
     "output_type": "execute_result"
    }
   ],
   "source": [
    "mot='trois'\n",
    "s= \"Les etrois tris, lys trois gros, les troisx roi.\"\n",
    "almost(mot,s)"
   ]
  },
  {
   "cell_type": "code",
   "execution_count": 22,
   "metadata": {},
   "outputs": [],
   "source": [
    "#2\n",
    "\n",
    "def pluslarge(mot,s):\n",
    "    s=\" \"+sub('[.,]','',s)+' '\n",
    "    #mot exact\n",
    "    L=findall('\\s'+mot+'\\s',s)\n",
    "    #mot avec une lettre en plus a la fin\n",
    "    L+=findall('\\s'+mot+\"[^\\s]\"+\"\\s\",s)\n",
    "    for i in range(len(mot)):\n",
    "        #remplacée ou manquante\n",
    "        L+=findall('\\s'+mot[:i]+\"[^\"+mot[i]+\"]?\"+mot[i+1:]+'\\s',s)\n",
    "        #lettre en plus\n",
    "        L+=findall('\\s'+mot[:i]+\"[^\\s]\"+mot[i:]+'\\s',s)\n",
    "    return L\n",
    "\n",
    "#2 avec dictionnaire\n",
    "def pluslargedic(mot,s):\n",
    "    D={'exact':[],'ap':[]}\n",
    "    s=\" \"+sub('[.’,]','',s)+' '\n",
    "    D['exact']+=findall('\\s'+mot+'\\s',s)\n",
    "    D[\"ap\"]+=findall('\\s'+mot+\"[^\\s]\"+\"\\s\",s)\n",
    "    for i in range(len(mot)):\n",
    "        D[\"ap\"]+=findall('\\s'+mot[:i]+\"[^\"+mot[i]+\"]?\"+mot[i+1:]+'\\s',s)\n",
    "        D[\"ap\"]+=findall('\\s'+mot[:i]+\"[^\\s]\"+mot[i:]+'\\s',s)\n",
    "    print(D)\n",
    "    (exact,ap)=(len(D['exact']),len(D['ap']))\n",
    "    print((exact,ap),mot)\n",
    "    return (exact,ap)"
   ]
  },
  {
   "cell_type": "code",
   "execution_count": 23,
   "metadata": {},
   "outputs": [
    {
     "name": "stdout",
     "output_type": "stream",
     "text": [
      "{'exact': [' trois '], 'ap': [' troisx ', ' etrois ', ' tris ']}\n",
      "(1, 3) trois\n",
      "(1, 3)\n"
     ]
    }
   ],
   "source": [
    "y=pluslargedic(mot,s)\n",
    "print(y)"
   ]
  },
  {
   "cell_type": "code",
   "execution_count": 24,
   "metadata": {},
   "outputs": [
    {
     "name": "stdout",
     "output_type": "stream",
     "text": [
      "[' trois ', ' troisx ', ' etrois ', ' tris ']\n"
     ]
    }
   ],
   "source": [
    "x=pluslarge(mot,s)\n",
    "print(x)"
   ]
  },
  {
   "cell_type": "code",
   "execution_count": 43,
   "metadata": {},
   "outputs": [
    {
     "name": "stdout",
     "output_type": "stream",
     "text": [
      "{'exact': [' chiffres '], 'ap': [' chiffes ']}\n",
      "(1, 1) chiffres\n",
      "{'exact': [' trois '], 'ap': []}\n",
      "(1, 0) trois\n"
     ]
    },
    {
     "data": {
      "text/plain": [
       "11"
      ]
     },
     "execution_count": 43,
     "metadata": {},
     "output_type": "execute_result"
    }
   ],
   "source": [
    "#3\n",
    "\n",
    "p=\"chiffres trois\"\n",
    "s=\"il existe des chiffres chiffes trois quatres cinq\"\n",
    "def score(p,s):\n",
    "    s=\" \"+sub('[.’,]','',s)+' '\n",
    "    p=sub('[.’,]','',p)\n",
    "    score=0\n",
    "    for i in p.split():\n",
    "        (exact,ap)=pluslargedic(i,s)\n",
    "        score += (exact)*5\n",
    "        score+=ap\n",
    "    return score\n",
    "score(p,s)"
   ]
  },
  {
   "cell_type": "code",
   "execution_count": 44,
   "metadata": {},
   "outputs": [
    {
     "name": "stdout",
     "output_type": "stream",
     "text": [
      "{'exact': [' chiffres '], 'ap': [' chiffes ']}\n",
      "(1, 1) chiffres\n",
      "{'exact': [' trois '], 'ap': []}\n",
      "(1, 0) trois\n"
     ]
    }
   ],
   "source": [
    "score_p_s=score(p,s)"
   ]
  },
  {
   "cell_type": "code",
   "execution_count": 45,
   "metadata": {},
   "outputs": [
    {
     "data": {
      "text/plain": [
       "11"
      ]
     },
     "execution_count": 45,
     "metadata": {},
     "output_type": "execute_result"
    }
   ],
   "source": [
    "score_p_s"
   ]
  },
  {
   "cell_type": "code",
   "execution_count": 104,
   "metadata": {},
   "outputs": [],
   "source": [
    "#4\n",
    "\n",
    "def scoreavec20(p,s):\n",
    "    s=\" \"+sub('[.’,(?:\\n)]','',s)+' '\n",
    "    s=sub('(?:\\n)',' ',s)\n",
    "    s=sub('[’]',' ',s)\n",
    "    s=sub('[()]',' ',s)\n",
    "    s= sub('(?:\\W)',' ',s)\n",
    "    score=0\n",
    "    t=p.split()\n",
    "    for i in t:\n",
    "        (exact,ap)=pluslargedic(i,s)\n",
    "        score += (exact)*5\n",
    "        score+=ap\n",
    "    for i in range(len(t)-1):\n",
    "        if (' '+p.split()[i]+' '+p.split()[i+1]+' ') in s:\n",
    "            score+=20\n",
    "    return score\n"
   ]
  },
  {
   "cell_type": "code",
   "execution_count": 105,
   "metadata": {},
   "outputs": [
    {
     "name": "stdout",
     "output_type": "stream",
     "text": [
      "{'exact': [], 'ap': [' Ce ']}\n",
      "(0, 1) Le\n",
      "{'exact': [], 'ap': []}\n",
      "(0, 0) petit\n",
      "{'exact': [], 'ap': []}\n",
      "(0, 0) bonhomme\n",
      "{'exact': [' en '], 'ap': []}\n",
      "(1, 0) en\n",
      "{'exact': [' mousse '], 'ap': []}\n",
      "(1, 0) mousse\n"
     ]
    },
    {
     "data": {
      "text/plain": [
       "31"
      ]
     },
     "execution_count": 105,
     "metadata": {},
     "output_type": "execute_result"
    }
   ],
   "source": [
    "l='Ce superbe matelas en mousse naturelle'\n",
    "e='Le petit bonhomme en mousse'\n",
    "T=scoreavec20(e,l)\n",
    "T"
   ]
  },
  {
   "cell_type": "code",
   "execution_count": 106,
   "metadata": {},
   "outputs": [
    {
     "data": {
      "text/plain": [
       "31"
      ]
     },
     "execution_count": 106,
     "metadata": {},
     "output_type": "execute_result"
    }
   ],
   "source": [
    "T"
   ]
  },
  {
   "cell_type": "code",
   "execution_count": 107,
   "metadata": {},
   "outputs": [],
   "source": [
    "# Création des fichiers ['Matplotlib.txt', 'Seaborn.txt', 'Pandas.txt', 'Numpy.txt']\n",
    "import os"
   ]
  },
  {
   "cell_type": "code",
   "execution_count": 108,
   "metadata": {},
   "outputs": [
    {
     "data": {
      "text/plain": [
       "['Matplotlib.txt', 'Seaborn.txt', 'Pandas.txt', 'Numpy.txt']"
      ]
     },
     "execution_count": 108,
     "metadata": {},
     "output_type": "execute_result"
    }
   ],
   "source": [
    "# Création des fichiers \n",
    "fichiertxt = os.listdir(\"/home/simplon/Téléchargements/Fichiertxt\")\n",
    "fichiertxt"
   ]
  },
  {
   "cell_type": "code",
   "execution_count": 109,
   "metadata": {},
   "outputs": [],
   "source": [
    "# Création des fichiers \n",
    "d={}\n",
    "for i in fichiertxt:\n",
    "    l=open(\"/home/simplon/Téléchargements/Fichiertxt/\"+i,encoding=\"utf-8\")\n",
    "    d[i]=l.read().lower()"
   ]
  },
  {
   "cell_type": "code",
   "execution_count": 110,
   "metadata": {},
   "outputs": [
    {
     "data": {
      "text/plain": [
       "{'Matplotlib.txt': 'matplotlib : introduction\\nmatplotlib est une librairie graphique très connue en python, car elle est puissante, facile à prendre en main et chaque élément de la figure peut être configuré finement via un grand nombre de paramètres disponibles. il est possible de paramétrer la taille de la figure, sa qualité, les couleurs, les styles, les axes, les titres, etc. de plus, les figures en sortie peuvent être de différents formats comme les formats png, pdf, svg ou encore eps. \\nen analyse de données, en plus d’explorer les données avec la librairie pandas et ses différentes fonctions et méthodes, la visualisation est une étape tout aussi importante. elle va permettre de visualiser et de mettre en avant des informations, des tendances dans ses données. \\nil faut savoir que la librairie matplotlib, qui est une librairie orientée objet, est rarement utilisée en tant que telle pour générer les graphiques, car le code à écrire est très lourd. on utilisera un module de la librairie matplotlib qui fonctionne comme une interface pour cette librairie et qui permet d’alléger grandement l’écriture du code python.\\nainsi, c’est le module pyplot qui est fréquemment utilisé c’est une interface pour l’utilisation de matplotlib qui permet de créer des figures avec une syntaxe très proche de celle utilisée par le très connu matlab (un langage de programmation pour le calcul numérique). grâce à pyplot et à ses fonctions simples d’utilisation, nous pourrons créer une figure, créer une zone graphique, créer des axes, tracer des points, etc.\\nil faut savoir que matplotlib, avec son interface pyplot, est la base de tout graphique en python. toutefois, les graphiques générés par défaut ne sont pas très jolis ni modernes. pour cela, un autre package a été développé, appelé seaborn, qui se base sur la librairie matplotlib et qui fournit des fonctions permettant de générer des graphiques à l’allure moderne. toutefois, seaborn est donc basé sur matplotlib et il est donc important de comprendre le fonctionnement de matplotlib, notamment la création des bases du graphique, comme la figure ou encore les axes, avant de passer à l’utilisation de seaborn. pour des graphiques plus avancés et travaillés, il faudra utiliser la librairie seaborn.\\n\\n',\n",
       " 'Seaborn.txt': 'introduction à seaborn\\nla librairie matplotlib permet de visualiser des données et de détecter des tendances. la deuxième librairie graphique la plus populaire est seaborn.\\nen réalité, cette librairie s’appuie sur matplotlib et apporte des fonctions supplémentaires permettant de générer des graphiques plus travaillés, plus modernes, et ce de manière très simple. nous avons vu avec la librairie matplotlib que lorsque nous souhaitons personnaliser nos graphiques et générer des graphiques plus complets, le code devient dense et parfois compliqué à écrire. l’objectif du développement de la librairie seaborn était de rendre la génération de graphiques complexes plus facile, par l’appel de fonctions seaborn.\\ntoutefois, cette librairie s’appuyant grandement sur la librairie matplotlib, ses fonctions sont un complément de la librairie matplotlib et son fonctionnement en est proche. par exemple, on utilise toujours le module pyplot pour créer des figures, donner des étiquettes aux axes, etc. mais on utilise simplement des fonctions seaborn pour tracer le graphique. seaborn a été développée pour travailler avec des objets de classe dataframe et nécessite beaucoup moins de formatage des données avant de pouvoir tracer les graphiques, contrairement à matplotlib. c’est pourquoi cette librairie est devenue si populaire auprès des analystes de données.\\n\\n',\n",
       " 'Pandas.txt': 'introduction à la librairie pandas\\npandas est une librairie python dédiée à la data science (science des données, en français). il s’agit d’ailleurs de la librairie python la plus populaire et la plus performante pour faire de l’analyse de données. \\ncette librairie amène avec elle deux nouvelles structures essentielles pour l’analyse de données, appelées series et dataframe. un objet de type dataframe, ou plus vulgairement un dataframe, peut être assimilé à un tableau à deux dimensions ou encore une feuille excel, ce qui correspond à la structure de données la plus utilisée en data science. cette structure est composée de lignes représentant des observations ou individus et de colonnes correspondant aux variables décrivant ces observations/individus.\\n \\n\\n\\n\\u2003\\nun objet de type \"series\", ou plus simplement une série, peut être assimilé à un vecteur, c’est-à-dire à une suite de valeurs. la série correspond aussi à une colonne d’un dataframe. en réalité, le dataframe est constitué d’autant de séries qu’il a de colonnes. ci-dessous, voici comment des séries peuvent être représentées visuellement.\\n \\nc’est seulement avec l’arrivée de pandas et ses structures de données que python a réellement commencé à être utilisé pour faire de l’analyse de données. cette librairie apporte non seulement de nouvelles structures ultra performantes pour stocker des données, mais elle apporte aussi un ensemble de méthodes et fonctions associées, permettant d’explorer les dataframes et séries, de les nettoyer, transformer, manipuler ou encore de les visualiser de manière très efficace et rapide.\\n\\u2003\\nil faut savoir que la librairie pandas s’appuie fortement sur la librairie numpy, puisque ses structures de données sont basées sur les tableaux numpy (ndarrays). ainsi, en plus de la structure ndarrays, la librairie pandas profite aussi des performances de calcul de numpy.\\nl’avantage de pandas par rapport à numpy est que l’objet de type dataframe permet de stocker des données de types différents, donc des données hétérogènes. cela signifie que dans un dataframe, on pourra avoir une colonne contenant des chiffres, une autre contenant du texte, une autre des booléens, etc. cette possibilité de stocker des données hétérogènes vient du fait qu’un dataframe est constitué d’un ensemble de séries qui sont indépendantes entre elles et peuvent donc contenir des types de données différents de l’une à l’autre. en revanche, au sein d’une colonne, les données doivent être de même type.\\nde plus, les dataframes et les séries sont fournis avec la possibilité d’assigner des étiquettes aux données, plutôt que de travailler avec des index numériques, comme c’était le cas avec les ndarrays de numpy. avec pandas, les lignes et les colonnes peuvent être identifiées avec des étiquettes plutôt que des nombres.\\n\\nenfin, pandas permet de manipuler efficacement les données manquantes ainsi que les données de séries temporelles (time series data), deux types de données souvent rencontrées en data science et dont la manipulation serait complexe sans pandas.\\nvous l’aurez compris, les séries et les dataframes sont des structures bien mieux adaptées au travail de l’analyste de données que ne le sont les ndarrays de numpy. ainsi, pour pouvoir faire de l’analyse de données avec python, il est impératif de maîtriser cette librairie essentielle qu’est pandas.\\n',\n",
       " 'Numpy.txt': 'introduction à numpy\\nnumpy est la librairie python dédiée au calcul scientifique fournissant des fonctions très performantes de calcul, mais aussi des structures de données, tout aussi performantes. \\nen data science, il est essentiel d’avoir des structures adaptées pour stocker et manipuler de grandes quantités de données. c’est là qu’intervient numpy, qui intègre une nouvelle structure de données en python, les ndarrays (tableaux à n dimensions, en français, n représentant un chiffre), qui sont des tableaux multidimensionnels ou matrices. il est important de noter que cette structure de données permet de stocker des données uniquement de même type (uniquement des nombres entiers par exemple).\\nles ndarrays sont optimisés pour le stockage de données, mais aussi pour leur manipulation et plus encore pour les calculs, car ceux-ci peuvent être vectorisés. numpy peut gérer de très gros tableaux et est très performante en temps de calcul sur ces tableaux : les ndarrays prennent en effet moins de place mémoire que d’autres objets python, comme par exemple les listes. c’est pour cela que cette librairie a été développée et qu’elle est si utilisée : elle est très performante. c’est également pour cette raison que de nombreuses librairies ont été développées au-dessus de celle-ci, telle que pandas.\\nles ndarrays de numpy peuvent être unidimensionnels (aussi appelés 1d array, ce qu’on peut voir comme une liste), bidimensionnels (2d array) donc un tableau avec des lignes et des colonnes, ou encore des tableaux à plus de deux dimensions (3d array, 4d array, 5d array...). les ndarrays à deux dimensions est la structure de données la plus utilisées en data science pour manipuler de grands jeux de données.\\nlorsque vous souhaitez effectuer des opérations mathématiques ou logiques rapides sur un grand jeu de données, numpy est votre allié. pour pouvoir utiliser numpy sous python, il suffit de charger la librairie sous jupyter, celle-ci étant déjà installée dans la distribution anaconda.\\n'}"
      ]
     },
     "execution_count": 110,
     "metadata": {},
     "output_type": "execute_result"
    }
   ],
   "source": [
    "d"
   ]
  },
  {
   "cell_type": "code",
   "execution_count": 111,
   "metadata": {},
   "outputs": [
    {
     "name": "stdout",
     "output_type": "stream",
     "text": [
      "Matplotlib.txt\n",
      "{'exact': [], 'ap': [' analyse ']}\n",
      "(0, 1) Analyse\n",
      "{'exact': [' et ', ' et ', ' et ', ' et ', ' et ', ' et ', ' et ', ' et ', ' et '], 'ap': [' etc ', ' en ', ' en ', ' en ', ' en ', ' en ', ' en ', ' en ', ' en ', ' est ', ' est ', ' est ', ' est ', ' est ', ' est ', ' est ', ' est ', ' est ', ' est ', ' est ']}\n",
      "(9, 20) et\n",
      "{'exact': [' visualisation '], 'ap': []}\n",
      "(1, 0) visualisation\n",
      "Seaborn.txt\n",
      "{'exact': [], 'ap': []}\n",
      "(0, 0) Analyse\n",
      "{'exact': [' et ', ' et ', ' et ', ' et ', ' et ', ' et ', ' et '], 'ap': [' etc ', ' en ', ' est ', ' est ', ' est ']}\n",
      "(7, 5) et\n",
      "{'exact': [], 'ap': []}\n",
      "(0, 0) visualisation\n",
      "Pandas.txt\n",
      "{'exact': [], 'ap': []}\n",
      "(0, 0) Analyse\n",
      "{'exact': [' et ', ' et ', ' et ', ' et ', ' et ', ' et ', ' et ', ' et ', ' et ', ' et ', ' et ', ' et '], 'ap': [' etc ', ' en ', ' en ', ' en ', ' en ', ' en ', ' en ', ' est ', ' est ', ' est ', ' est ', ' est ', ' est ']}\n",
      "(12, 13) et\n",
      "{'exact': [], 'ap': []}\n",
      "(0, 0) visualisation\n",
      "Numpy.txt\n",
      "{'exact': [], 'ap': []}\n",
      "(0, 0) Analyse\n",
      "{'exact': [' et ', ' et ', ' et ', ' et ', ' et '], 'ap': [' en ', ' en ', ' en ', ' en ', ' en ', ' en ', ' est ', ' est ', ' est ', ' est ', ' est ', ' est ', ' est ', ' est ']}\n",
      "(5, 14) et\n",
      "{'exact': [], 'ap': []}\n",
      "(0, 0) visualisation\n"
     ]
    }
   ],
   "source": [
    "dicofinal={}\n",
    "for j in fichiertxt:\n",
    "    print(j)\n",
    "    dicofinal[j]=scoreavec20('Analyse et visualisation',d[j])"
   ]
  },
  {
   "cell_type": "code",
   "execution_count": 112,
   "metadata": {},
   "outputs": [
    {
     "data": {
      "text/plain": [
       "{'Matplotlib.txt': 71, 'Seaborn.txt': 40, 'Pandas.txt': 73, 'Numpy.txt': 39}"
      ]
     },
     "execution_count": 112,
     "metadata": {},
     "output_type": "execute_result"
    }
   ],
   "source": [
    "dicofinal"
   ]
  }
 ],
 "metadata": {
  "kernelspec": {
   "display_name": "Python 3",
   "language": "python",
   "name": "python3"
  },
  "language_info": {
   "codemirror_mode": {
    "name": "ipython",
    "version": 3
   },
   "file_extension": ".py",
   "mimetype": "text/x-python",
   "name": "python",
   "nbconvert_exporter": "python",
   "pygments_lexer": "ipython3",
   "version": "3.8.5"
  }
 },
 "nbformat": 4,
 "nbformat_minor": 4
}
