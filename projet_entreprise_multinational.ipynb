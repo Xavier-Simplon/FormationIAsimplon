{
 "cells": [
  {
   "cell_type": "code",
   "execution_count": 1,
   "metadata": {},
   "outputs": [],
   "source": [
    "from sqlalchemy import create_engine\n",
    "import pandas as pd\n",
    "import re \n",
    "\n",
    "def connect_db(dico):\n",
    "\n",
    "    str_engine = \"mysql+\" + dico[\"connector\"] + \"://\" + dico[\"user\"] + \":\" + dico[\"pwd\"] + \"@\" + dico[\"host\"] + \":\" + dico[\"port\"] + \"/\" + dico[\"bdd\"]\n",
    "    connect = create_engine(str_engine)\n",
    "    return connect\n",
    "\n",
    "d = {\n",
    "    \"connector\": \"pymysql\",\n",
    "    \"user\" : \"xaviermysql\",\n",
    "    \"pwd\" : \"simplon\",\n",
    "    \"host\" : \"127.0.0.1\",\n",
    "    \"port\": \"3306\",\n",
    "    \"bdd\" : \"survey\"\n",
    "}\n",
    "\n",
    "engine = connect_db(d)\n",
    "# https://docs.sqlalchemy.org/en/14/core/engines.html"
   ]
  },
  {
   "cell_type": "code",
   "execution_count": 2,
   "metadata": {},
   "outputs": [
    {
     "data": {
      "text/plain": [
       "Index(['Survey Year', 'Timestamp', 'SalaryUSD', 'Country', 'PostalCode',\n",
       "       'PrimaryDatabase', 'YearsWithThisDatabase', 'OtherDatabases',\n",
       "       'EmploymentStatus', 'JobTitle', 'ManageStaff', 'YearsWithThisTypeOfJob',\n",
       "       'HowManyCompanies', 'OtherPeopleOnYourTeam', 'CompanyEmployeesOverall',\n",
       "       'DatabaseServers', 'Education', 'EducationIsComputerRelated',\n",
       "       'Certifications', 'HoursWorkedPerWeek', 'TelecommuteDaysPerWeek',\n",
       "       'NewestVersionInProduction', 'OldestVersionInProduction',\n",
       "       'PopulationOfLargestCityWithin20Miles', 'EmploymentSector',\n",
       "       'LookingForAnotherJob', 'CareerPlansThisYear', 'Gender',\n",
       "       'OtherJobDuties', 'KindsOfTasksPerformed', 'Counter'],\n",
       "      dtype='object')"
      ]
     },
     "execution_count": 2,
     "metadata": {},
     "output_type": "execute_result"
    }
   ],
   "source": [
    "survey_data = pd.read_excel(\"/home/simplon/PYTHON CODE/PythontoSQL/Data_Professional_Salary_Survey_Responses_1.xlsx\")\n",
    "survey_data.columns\n",
    "#https://pandas.pydata.org/pandas-docs/stable/reference/api/pandas.read_excel.html"
   ]
  },
  {
   "cell_type": "code",
   "execution_count": null,
   "metadata": {},
   "outputs": [],
   "source": []
  },
  {
   "cell_type": "markdown",
   "metadata": {},
   "source": [
    "# Création DataFrames pour insertion dans la base de données"
   ]
  },
  {
   "cell_type": "markdown",
   "metadata": {},
   "source": [
    "sondage_item_df"
   ]
  },
  {
   "cell_type": "code",
   "execution_count": 3,
   "metadata": {},
   "outputs": [],
   "source": [
    "sondage_item_dic = {\n",
    "    \"timestamp\": \"Timestamp\",\n",
    "    \"salary_usd\" : \"SalaryUSD\",\n",
    "    \"postal_code\" : \"PostalCode\",\n",
    "    \"years_with_db\" : \"YearsWithThisDatabase\",\n",
    "    \"manage_staff\": \"ManageStaff\",\n",
    "    \"years_with_job\" : \"YearsWithThisTypeOfJob\",\n",
    "    \"other_people\": \"OtherPeopleOnYourTeam\",\n",
    "    \"company_employee\" : \"CompanyEmployeesOverall\",\n",
    "    \"database_servers\" : \"DatabaseServers\",\n",
    "    \"education_computer\" : \"EducationIsComputerRelated\",\n",
    "    \"hours_worked\": \"HoursWorkedPerWeek\",\n",
    "    \"telecommute\" : \"TelecommuteDaysPerWeek\",\n",
    "    \"newest_version\": \"NewestVersionInProduction\",\n",
    "    \"oldest_version\" : \"OldestVersionInProduction\",\n",
    "    \"gender\" : \"Gender\"\n",
    "\n",
    "}\n",
    "\n",
    "sondage_item_df = pd.DataFrame(columns = [i for i in sondage_item_dic.keys()])\n",
    "\n",
    "# Settage des index\n",
    "\n",
    "sondage_item_df = sondage_item_df.rename_axis(index=\"sgi_id\")\n",
    "\n",
    "for i in sondage_item_dic.keys():\n",
    "   sondage_item_df[str(i)] = survey_data[str(sondage_item_dic[i])]"
   ]
  },
  {
   "cell_type": "code",
   "execution_count": 4,
   "metadata": {},
   "outputs": [
    {
     "data": {
      "text/html": [
       "<div>\n",
       "<style scoped>\n",
       "    .dataframe tbody tr th:only-of-type {\n",
       "        vertical-align: middle;\n",
       "    }\n",
       "\n",
       "    .dataframe tbody tr th {\n",
       "        vertical-align: top;\n",
       "    }\n",
       "\n",
       "    .dataframe thead th {\n",
       "        text-align: right;\n",
       "    }\n",
       "</style>\n",
       "<table border=\"1\" class=\"dataframe\">\n",
       "  <thead>\n",
       "    <tr style=\"text-align: right;\">\n",
       "      <th></th>\n",
       "      <th>timestamp</th>\n",
       "      <th>salary_usd</th>\n",
       "      <th>postal_code</th>\n",
       "      <th>years_with_db</th>\n",
       "      <th>manage_staff</th>\n",
       "      <th>years_with_job</th>\n",
       "      <th>other_people</th>\n",
       "      <th>company_employee</th>\n",
       "      <th>database_servers</th>\n",
       "      <th>education_computer</th>\n",
       "      <th>hours_worked</th>\n",
       "      <th>telecommute</th>\n",
       "      <th>newest_version</th>\n",
       "      <th>oldest_version</th>\n",
       "      <th>gender</th>\n",
       "    </tr>\n",
       "    <tr>\n",
       "      <th>sgi_id</th>\n",
       "      <th></th>\n",
       "      <th></th>\n",
       "      <th></th>\n",
       "      <th></th>\n",
       "      <th></th>\n",
       "      <th></th>\n",
       "      <th></th>\n",
       "      <th></th>\n",
       "      <th></th>\n",
       "      <th></th>\n",
       "      <th></th>\n",
       "      <th></th>\n",
       "      <th></th>\n",
       "      <th></th>\n",
       "      <th></th>\n",
       "    </tr>\n",
       "  </thead>\n",
       "  <tbody>\n",
       "    <tr>\n",
       "      <th>0</th>\n",
       "      <td>2020-12-10 08:22:42.696</td>\n",
       "      <td>65000.0</td>\n",
       "      <td>NaN</td>\n",
       "      <td>4</td>\n",
       "      <td>Yes</td>\n",
       "      <td>4</td>\n",
       "      <td>None</td>\n",
       "      <td>2</td>\n",
       "      <td>Not Asked</td>\n",
       "      <td>Not Asked</td>\n",
       "      <td>Not Asked</td>\n",
       "      <td>Not Asked</td>\n",
       "      <td>SQL Server 2016</td>\n",
       "      <td>SQL Server 2016</td>\n",
       "      <td>Male</td>\n",
       "    </tr>\n",
       "    <tr>\n",
       "      <th>1</th>\n",
       "      <td>2020-12-10 08:23:22.242</td>\n",
       "      <td>145000.0</td>\n",
       "      <td>76063</td>\n",
       "      <td>15</td>\n",
       "      <td>No</td>\n",
       "      <td>25</td>\n",
       "      <td>None</td>\n",
       "      <td>74</td>\n",
       "      <td>Not Asked</td>\n",
       "      <td>Not Asked</td>\n",
       "      <td>Not Asked</td>\n",
       "      <td>Not Asked</td>\n",
       "      <td>SQL Server 2019</td>\n",
       "      <td>SQL Server 2014</td>\n",
       "      <td>Male</td>\n",
       "    </tr>\n",
       "    <tr>\n",
       "      <th>2</th>\n",
       "      <td>2020-12-10 08:23:37.909</td>\n",
       "      <td>105000.0</td>\n",
       "      <td>43240</td>\n",
       "      <td>12</td>\n",
       "      <td>Yes</td>\n",
       "      <td>6</td>\n",
       "      <td>1</td>\n",
       "      <td>500</td>\n",
       "      <td>Not Asked</td>\n",
       "      <td>Not Asked</td>\n",
       "      <td>Not Asked</td>\n",
       "      <td>Not Asked</td>\n",
       "      <td>SQL Server 2017</td>\n",
       "      <td>SQL Server 2008R2</td>\n",
       "      <td>Male</td>\n",
       "    </tr>\n",
       "    <tr>\n",
       "      <th>3</th>\n",
       "      <td>2020-12-10 08:23:48.152</td>\n",
       "      <td>46482.0</td>\n",
       "      <td>NaN</td>\n",
       "      <td>10</td>\n",
       "      <td>No</td>\n",
       "      <td>5</td>\n",
       "      <td>None</td>\n",
       "      <td>35</td>\n",
       "      <td>Not Asked</td>\n",
       "      <td>Not Asked</td>\n",
       "      <td>Not Asked</td>\n",
       "      <td>Not Asked</td>\n",
       "      <td>SQL Server 2019</td>\n",
       "      <td>SQL Server 2012</td>\n",
       "      <td>Male</td>\n",
       "    </tr>\n",
       "    <tr>\n",
       "      <th>4</th>\n",
       "      <td>2020-12-10 08:24:03.600</td>\n",
       "      <td>98800.0</td>\n",
       "      <td>468</td>\n",
       "      <td>5</td>\n",
       "      <td>No</td>\n",
       "      <td>5</td>\n",
       "      <td>None</td>\n",
       "      <td>50</td>\n",
       "      <td>Not Asked</td>\n",
       "      <td>Not Asked</td>\n",
       "      <td>Not Asked</td>\n",
       "      <td>Not Asked</td>\n",
       "      <td>SQL Server 2019</td>\n",
       "      <td>SQL Server 2012</td>\n",
       "      <td>Male</td>\n",
       "    </tr>\n",
       "    <tr>\n",
       "      <th>...</th>\n",
       "      <td>...</td>\n",
       "      <td>...</td>\n",
       "      <td>...</td>\n",
       "      <td>...</td>\n",
       "      <td>...</td>\n",
       "      <td>...</td>\n",
       "      <td>...</td>\n",
       "      <td>...</td>\n",
       "      <td>...</td>\n",
       "      <td>...</td>\n",
       "      <td>...</td>\n",
       "      <td>...</td>\n",
       "      <td>...</td>\n",
       "      <td>...</td>\n",
       "      <td>...</td>\n",
       "    </tr>\n",
       "    <tr>\n",
       "      <th>10336</th>\n",
       "      <td>2017-01-14 15:50:23.936</td>\n",
       "      <td>36549.0</td>\n",
       "      <td>Not Asked</td>\n",
       "      <td>3</td>\n",
       "      <td>No</td>\n",
       "      <td>1</td>\n",
       "      <td>1</td>\n",
       "      <td>Not Asked</td>\n",
       "      <td>42</td>\n",
       "      <td>NaN</td>\n",
       "      <td>38</td>\n",
       "      <td>None, or less than 1 day per week</td>\n",
       "      <td>Not Asked</td>\n",
       "      <td>Not Asked</td>\n",
       "      <td>Not Asked</td>\n",
       "    </tr>\n",
       "    <tr>\n",
       "      <th>10337</th>\n",
       "      <td>2017-01-15 01:01:21.212</td>\n",
       "      <td>65000.0</td>\n",
       "      <td>Not Asked</td>\n",
       "      <td>7</td>\n",
       "      <td>Yes</td>\n",
       "      <td>3</td>\n",
       "      <td>5</td>\n",
       "      <td>Not Asked</td>\n",
       "      <td>40</td>\n",
       "      <td>Yes</td>\n",
       "      <td>50</td>\n",
       "      <td>1</td>\n",
       "      <td>Not Asked</td>\n",
       "      <td>Not Asked</td>\n",
       "      <td>Not Asked</td>\n",
       "    </tr>\n",
       "    <tr>\n",
       "      <th>10338</th>\n",
       "      <td>2017-01-15 03:25:47.422</td>\n",
       "      <td>85000.0</td>\n",
       "      <td>Not Asked</td>\n",
       "      <td>17</td>\n",
       "      <td>No</td>\n",
       "      <td>17</td>\n",
       "      <td>1</td>\n",
       "      <td>Not Asked</td>\n",
       "      <td>200</td>\n",
       "      <td>No</td>\n",
       "      <td>40</td>\n",
       "      <td>1</td>\n",
       "      <td>Not Asked</td>\n",
       "      <td>Not Asked</td>\n",
       "      <td>Not Asked</td>\n",
       "    </tr>\n",
       "    <tr>\n",
       "      <th>10339</th>\n",
       "      <td>2017-01-15 03:37:35.305</td>\n",
       "      <td>90000.0</td>\n",
       "      <td>Not Asked</td>\n",
       "      <td>8</td>\n",
       "      <td>No</td>\n",
       "      <td>3</td>\n",
       "      <td>1</td>\n",
       "      <td>Not Asked</td>\n",
       "      <td>80</td>\n",
       "      <td>Yes</td>\n",
       "      <td>45</td>\n",
       "      <td>5 or more</td>\n",
       "      <td>Not Asked</td>\n",
       "      <td>Not Asked</td>\n",
       "      <td>Not Asked</td>\n",
       "    </tr>\n",
       "    <tr>\n",
       "      <th>10340</th>\n",
       "      <td>2017-01-15 03:37:59.149</td>\n",
       "      <td>23000.0</td>\n",
       "      <td>Not Asked</td>\n",
       "      <td>4</td>\n",
       "      <td>No</td>\n",
       "      <td>9</td>\n",
       "      <td>3</td>\n",
       "      <td>Not Asked</td>\n",
       "      <td>10</td>\n",
       "      <td>Yes</td>\n",
       "      <td>40</td>\n",
       "      <td>None, or less than 1 day per week</td>\n",
       "      <td>Not Asked</td>\n",
       "      <td>Not Asked</td>\n",
       "      <td>Not Asked</td>\n",
       "    </tr>\n",
       "  </tbody>\n",
       "</table>\n",
       "<p>10341 rows × 15 columns</p>\n",
       "</div>"
      ],
      "text/plain": [
       "                     timestamp  salary_usd postal_code  years_with_db  \\\n",
       "sgi_id                                                                  \n",
       "0      2020-12-10 08:22:42.696     65000.0         NaN              4   \n",
       "1      2020-12-10 08:23:22.242    145000.0       76063             15   \n",
       "2      2020-12-10 08:23:37.909    105000.0       43240             12   \n",
       "3      2020-12-10 08:23:48.152     46482.0         NaN             10   \n",
       "4      2020-12-10 08:24:03.600     98800.0         468              5   \n",
       "...                        ...         ...         ...            ...   \n",
       "10336  2017-01-14 15:50:23.936     36549.0   Not Asked              3   \n",
       "10337  2017-01-15 01:01:21.212     65000.0   Not Asked              7   \n",
       "10338  2017-01-15 03:25:47.422     85000.0   Not Asked             17   \n",
       "10339  2017-01-15 03:37:35.305     90000.0   Not Asked              8   \n",
       "10340  2017-01-15 03:37:59.149     23000.0   Not Asked              4   \n",
       "\n",
       "       manage_staff  years_with_job other_people company_employee  \\\n",
       "sgi_id                                                              \n",
       "0               Yes               4         None                2   \n",
       "1                No              25         None               74   \n",
       "2               Yes               6            1              500   \n",
       "3                No               5         None               35   \n",
       "4                No               5         None               50   \n",
       "...             ...             ...          ...              ...   \n",
       "10336            No               1            1        Not Asked   \n",
       "10337           Yes               3            5        Not Asked   \n",
       "10338            No              17            1        Not Asked   \n",
       "10339            No               3            1        Not Asked   \n",
       "10340            No               9            3        Not Asked   \n",
       "\n",
       "       database_servers education_computer hours_worked  \\\n",
       "sgi_id                                                    \n",
       "0             Not Asked          Not Asked    Not Asked   \n",
       "1             Not Asked          Not Asked    Not Asked   \n",
       "2             Not Asked          Not Asked    Not Asked   \n",
       "3             Not Asked          Not Asked    Not Asked   \n",
       "4             Not Asked          Not Asked    Not Asked   \n",
       "...                 ...                ...          ...   \n",
       "10336                42                NaN           38   \n",
       "10337                40                Yes           50   \n",
       "10338               200                 No           40   \n",
       "10339                80                Yes           45   \n",
       "10340                10                Yes           40   \n",
       "\n",
       "                              telecommute   newest_version     oldest_version  \\\n",
       "sgi_id                                                                          \n",
       "0                               Not Asked  SQL Server 2016    SQL Server 2016   \n",
       "1                               Not Asked  SQL Server 2019    SQL Server 2014   \n",
       "2                               Not Asked  SQL Server 2017  SQL Server 2008R2   \n",
       "3                               Not Asked  SQL Server 2019    SQL Server 2012   \n",
       "4                               Not Asked  SQL Server 2019    SQL Server 2012   \n",
       "...                                   ...              ...                ...   \n",
       "10336   None, or less than 1 day per week        Not Asked          Not Asked   \n",
       "10337                                   1        Not Asked          Not Asked   \n",
       "10338                                   1        Not Asked          Not Asked   \n",
       "10339                           5 or more        Not Asked          Not Asked   \n",
       "10340   None, or less than 1 day per week        Not Asked          Not Asked   \n",
       "\n",
       "           gender  \n",
       "sgi_id             \n",
       "0            Male  \n",
       "1            Male  \n",
       "2            Male  \n",
       "3            Male  \n",
       "4            Male  \n",
       "...           ...  \n",
       "10336   Not Asked  \n",
       "10337   Not Asked  \n",
       "10338   Not Asked  \n",
       "10339   Not Asked  \n",
       "10340   Not Asked  \n",
       "\n",
       "[10341 rows x 15 columns]"
      ]
     },
     "execution_count": 4,
     "metadata": {},
     "output_type": "execute_result"
    }
   ],
   "source": [
    "sondage_item_df"
   ]
  },
  {
   "cell_type": "markdown",
   "metadata": {},
   "source": [
    "## DataFrame carreer_plan"
   ]
  },
  {
   "cell_type": "code",
   "execution_count": null,
   "metadata": {},
   "outputs": [],
   "source": []
  },
  {
   "cell_type": "code",
   "execution_count": 5,
   "metadata": {},
   "outputs": [
    {
     "data": {
      "text/plain": [
       "Index(['cap_id', 'cap_plan'], dtype='object')"
      ]
     },
     "execution_count": 5,
     "metadata": {},
     "output_type": "execute_result"
    }
   ],
   "source": [
    "carrer_plan_columns = pd.read_sql_query(\"select * from carreer_plan;\", engine).columns\n",
    "carrer_plan_columns\n"
   ]
  },
  {
   "cell_type": "code",
   "execution_count": 6,
   "metadata": {},
   "outputs": [],
   "source": [
    "carreer_plan_df = pd.DataFrame(columns = carrer_plan_columns)\n",
    "carreer_plan_df['cap_plan'] = survey_data['CareerPlansThisYear']\n",
    "carreer_plan_df.drop_duplicates(inplace=True)"
   ]
  },
  {
   "cell_type": "code",
   "execution_count": 7,
   "metadata": {},
   "outputs": [
    {
     "data": {
      "text/html": [
       "<div>\n",
       "<style scoped>\n",
       "    .dataframe tbody tr th:only-of-type {\n",
       "        vertical-align: middle;\n",
       "    }\n",
       "\n",
       "    .dataframe tbody tr th {\n",
       "        vertical-align: top;\n",
       "    }\n",
       "\n",
       "    .dataframe thead th {\n",
       "        text-align: right;\n",
       "    }\n",
       "</style>\n",
       "<table border=\"1\" class=\"dataframe\">\n",
       "  <thead>\n",
       "    <tr style=\"text-align: right;\">\n",
       "      <th></th>\n",
       "      <th>cap_id</th>\n",
       "      <th>cap_plan</th>\n",
       "    </tr>\n",
       "  </thead>\n",
       "  <tbody>\n",
       "    <tr>\n",
       "      <th>1</th>\n",
       "      <td>1</td>\n",
       "      <td>Stay with the same employer, same role</td>\n",
       "    </tr>\n",
       "    <tr>\n",
       "      <th>2</th>\n",
       "      <td>2</td>\n",
       "      <td>Prefer not to say</td>\n",
       "    </tr>\n",
       "    <tr>\n",
       "      <th>3</th>\n",
       "      <td>3</td>\n",
       "      <td>Change both employers and roles</td>\n",
       "    </tr>\n",
       "    <tr>\n",
       "      <th>4</th>\n",
       "      <td>4</td>\n",
       "      <td>Stay with the same role, but change employers</td>\n",
       "    </tr>\n",
       "    <tr>\n",
       "      <th>5</th>\n",
       "      <td>5</td>\n",
       "      <td>Stay with the same employer,  but change roles</td>\n",
       "    </tr>\n",
       "    <tr>\n",
       "      <th>6</th>\n",
       "      <td>6</td>\n",
       "      <td>Not Asked</td>\n",
       "    </tr>\n",
       "  </tbody>\n",
       "</table>\n",
       "</div>"
      ],
      "text/plain": [
       "   cap_id                                        cap_plan\n",
       "1       1          Stay with the same employer, same role\n",
       "2       2                               Prefer not to say\n",
       "3       3                 Change both employers and roles\n",
       "4       4   Stay with the same role, but change employers\n",
       "5       5  Stay with the same employer,  but change roles\n",
       "6       6                                       Not Asked"
      ]
     },
     "execution_count": 7,
     "metadata": {},
     "output_type": "execute_result"
    }
   ],
   "source": [
    "carreer_plan_df = carreer_plan_df.reset_index(drop=True)\n",
    "#carreer_plan_df = carreer_plan_df.drop(columns='cap_id')\n",
    "#carreer_plan_df=carreer_plan_df.rename_axis(index='cap_id')\n",
    "carreer_plan_df.index +=1\n",
    "carreer_plan_df['cap_id'] = carreer_plan_df.index\n",
    "carreer_plan_df\n"
   ]
  },
  {
   "cell_type": "code",
   "execution_count": 8,
   "metadata": {},
   "outputs": [],
   "source": [
    "id_cap = survey_data['CareerPlansThisYear'].apply(lambda x: carreer_plan_df[carreer_plan_df['cap_plan']==x].index[0])\n",
    "sondage_item_df['cap_id'] = id_cap.astype(pd.Int64Dtype())"
   ]
  },
  {
   "cell_type": "code",
   "execution_count": 9,
   "metadata": {},
   "outputs": [
    {
     "data": {
      "text/plain": [
       "1"
      ]
     },
     "execution_count": 9,
     "metadata": {},
     "output_type": "execute_result"
    }
   ],
   "source": [
    "sondage_item_df['cap_id'].iloc[0]"
   ]
  },
  {
   "cell_type": "code",
   "execution_count": null,
   "metadata": {},
   "outputs": [],
   "source": []
  },
  {
   "cell_type": "code",
   "execution_count": 10,
   "metadata": {},
   "outputs": [
    {
     "data": {
      "text/plain": [
       "0        1\n",
       "1        1\n",
       "2        1\n",
       "3        1\n",
       "4        1\n",
       "        ..\n",
       "10336    6\n",
       "10337    6\n",
       "10338    6\n",
       "10339    6\n",
       "10340    6\n",
       "Name: CareerPlansThisYear, Length: 10341, dtype: int64"
      ]
     },
     "execution_count": 10,
     "metadata": {},
     "output_type": "execute_result"
    }
   ],
   "source": [
    "id_cap"
   ]
  },
  {
   "cell_type": "markdown",
   "metadata": {},
   "source": [
    "## DataFrame certification"
   ]
  },
  {
   "cell_type": "code",
   "execution_count": 11,
   "metadata": {},
   "outputs": [
    {
     "data": {
      "text/plain": [
       "Index(['cert_id', 'cert_name'], dtype='object')"
      ]
     },
     "execution_count": 11,
     "metadata": {},
     "output_type": "execute_result"
    }
   ],
   "source": [
    "certification_columns = pd.read_sql_query(\"select * from certification;\", engine).columns\n",
    "certification_columns"
   ]
  },
  {
   "cell_type": "code",
   "execution_count": 12,
   "metadata": {},
   "outputs": [],
   "source": [
    "certification_df = pd.DataFrame(columns = certification_columns)\n",
    "certification_df['cert_name'] = survey_data['Certifications']\n",
    "certification_df.drop_duplicates(inplace=True)\n"
   ]
  },
  {
   "cell_type": "code",
   "execution_count": 13,
   "metadata": {},
   "outputs": [
    {
     "data": {
      "text/html": [
       "<div>\n",
       "<style scoped>\n",
       "    .dataframe tbody tr th:only-of-type {\n",
       "        vertical-align: middle;\n",
       "    }\n",
       "\n",
       "    .dataframe tbody tr th {\n",
       "        vertical-align: top;\n",
       "    }\n",
       "\n",
       "    .dataframe thead th {\n",
       "        text-align: right;\n",
       "    }\n",
       "</style>\n",
       "<table border=\"1\" class=\"dataframe\">\n",
       "  <thead>\n",
       "    <tr style=\"text-align: right;\">\n",
       "      <th></th>\n",
       "      <th>cert_id</th>\n",
       "      <th>cert_name</th>\n",
       "    </tr>\n",
       "  </thead>\n",
       "  <tbody>\n",
       "    <tr>\n",
       "      <th>0</th>\n",
       "      <td>NaN</td>\n",
       "      <td>Not Asked</td>\n",
       "    </tr>\n",
       "    <tr>\n",
       "      <th>3470</th>\n",
       "      <td>NaN</td>\n",
       "      <td>No, I never have</td>\n",
       "    </tr>\n",
       "    <tr>\n",
       "      <th>3472</th>\n",
       "      <td>NaN</td>\n",
       "      <td>Yes, and they're currently valid</td>\n",
       "    </tr>\n",
       "    <tr>\n",
       "      <th>3475</th>\n",
       "      <td>NaN</td>\n",
       "      <td>Yes, but they expired</td>\n",
       "    </tr>\n",
       "  </tbody>\n",
       "</table>\n",
       "</div>"
      ],
      "text/plain": [
       "     cert_id                         cert_name\n",
       "0        NaN                         Not Asked\n",
       "3470     NaN                  No, I never have\n",
       "3472     NaN  Yes, and they're currently valid\n",
       "3475     NaN             Yes, but they expired"
      ]
     },
     "execution_count": 13,
     "metadata": {},
     "output_type": "execute_result"
    }
   ],
   "source": [
    "certification_df"
   ]
  },
  {
   "cell_type": "code",
   "execution_count": 14,
   "metadata": {},
   "outputs": [],
   "source": [
    "#certification_df = certification_df.drop(columns='cert_id')\n",
    "certification_df = certification_df.reset_index(drop=True)\n",
    "certification_df.index+=1\n"
   ]
  },
  {
   "cell_type": "code",
   "execution_count": 15,
   "metadata": {},
   "outputs": [
    {
     "data": {
      "text/html": [
       "<div>\n",
       "<style scoped>\n",
       "    .dataframe tbody tr th:only-of-type {\n",
       "        vertical-align: middle;\n",
       "    }\n",
       "\n",
       "    .dataframe tbody tr th {\n",
       "        vertical-align: top;\n",
       "    }\n",
       "\n",
       "    .dataframe thead th {\n",
       "        text-align: right;\n",
       "    }\n",
       "</style>\n",
       "<table border=\"1\" class=\"dataframe\">\n",
       "  <thead>\n",
       "    <tr style=\"text-align: right;\">\n",
       "      <th></th>\n",
       "      <th>cert_id</th>\n",
       "      <th>cert_name</th>\n",
       "    </tr>\n",
       "  </thead>\n",
       "  <tbody>\n",
       "    <tr>\n",
       "      <th>1</th>\n",
       "      <td>1</td>\n",
       "      <td>Not Asked</td>\n",
       "    </tr>\n",
       "    <tr>\n",
       "      <th>2</th>\n",
       "      <td>2</td>\n",
       "      <td>No, I never have</td>\n",
       "    </tr>\n",
       "    <tr>\n",
       "      <th>3</th>\n",
       "      <td>3</td>\n",
       "      <td>Yes, and they're currently valid</td>\n",
       "    </tr>\n",
       "    <tr>\n",
       "      <th>4</th>\n",
       "      <td>4</td>\n",
       "      <td>Yes, but they expired</td>\n",
       "    </tr>\n",
       "  </tbody>\n",
       "</table>\n",
       "</div>"
      ],
      "text/plain": [
       "   cert_id                         cert_name\n",
       "1        1                         Not Asked\n",
       "2        2                  No, I never have\n",
       "3        3  Yes, and they're currently valid\n",
       "4        4             Yes, but they expired"
      ]
     },
     "execution_count": 15,
     "metadata": {},
     "output_type": "execute_result"
    }
   ],
   "source": [
    "#certification_df = certification_df.rename_axis(index='cert_id')\n",
    "certification_df['cert_id']=certification_df.index\n",
    "certification_df"
   ]
  },
  {
   "cell_type": "code",
   "execution_count": 16,
   "metadata": {},
   "outputs": [],
   "source": [
    "id_cert = survey_data['Certifications'].apply(lambda x: certification_df[certification_df['cert_name']==x].index[0])\n",
    "sondage_item_df['cert_id'] = id_cert.astype(pd.Int64Dtype())"
   ]
  },
  {
   "cell_type": "code",
   "execution_count": 17,
   "metadata": {},
   "outputs": [
    {
     "data": {
      "text/plain": [
       "sgi_id\n",
       "0        1\n",
       "1        1\n",
       "2        1\n",
       "3        1\n",
       "4        1\n",
       "        ..\n",
       "10336    2\n",
       "10337    2\n",
       "10338    2\n",
       "10339    3\n",
       "10340    3\n",
       "Name: cert_id, Length: 10341, dtype: Int64"
      ]
     },
     "execution_count": 17,
     "metadata": {},
     "output_type": "execute_result"
    }
   ],
   "source": [
    "sondage_item_df['cert_id']"
   ]
  },
  {
   "cell_type": "code",
   "execution_count": null,
   "metadata": {},
   "outputs": [],
   "source": []
  },
  {
   "cell_type": "code",
   "execution_count": null,
   "metadata": {},
   "outputs": [],
   "source": []
  },
  {
   "cell_type": "markdown",
   "metadata": {},
   "source": [
    "## DataFrame country"
   ]
  },
  {
   "cell_type": "code",
   "execution_count": 18,
   "metadata": {},
   "outputs": [
    {
     "data": {
      "text/plain": [
       "Index(['ctr_id', 'ctr_name'], dtype='object')"
      ]
     },
     "execution_count": 18,
     "metadata": {},
     "output_type": "execute_result"
    }
   ],
   "source": [
    "country_columns = pd.read_sql_query(\"select * from country;\", engine).columns\n",
    "country_columns"
   ]
  },
  {
   "cell_type": "code",
   "execution_count": 19,
   "metadata": {},
   "outputs": [],
   "source": [
    "country_df = pd.DataFrame(columns = country_columns)\n",
    "country_df['ctr_name'] = survey_data['Country']\n",
    "country_df.drop_duplicates(inplace=True)\n"
   ]
  },
  {
   "cell_type": "code",
   "execution_count": null,
   "metadata": {},
   "outputs": [],
   "source": []
  },
  {
   "cell_type": "code",
   "execution_count": 20,
   "metadata": {},
   "outputs": [],
   "source": [
    "country_df = country_df.reset_index()\n",
    "country_df.index += 1"
   ]
  },
  {
   "cell_type": "code",
   "execution_count": 21,
   "metadata": {},
   "outputs": [],
   "source": [
    "#country_df.rename_axis(index='ctr_id',inplace=True)"
   ]
  },
  {
   "cell_type": "code",
   "execution_count": 22,
   "metadata": {},
   "outputs": [
    {
     "data": {
      "text/html": [
       "<div>\n",
       "<style scoped>\n",
       "    .dataframe tbody tr th:only-of-type {\n",
       "        vertical-align: middle;\n",
       "    }\n",
       "\n",
       "    .dataframe tbody tr th {\n",
       "        vertical-align: top;\n",
       "    }\n",
       "\n",
       "    .dataframe thead th {\n",
       "        text-align: right;\n",
       "    }\n",
       "</style>\n",
       "<table border=\"1\" class=\"dataframe\">\n",
       "  <thead>\n",
       "    <tr style=\"text-align: right;\">\n",
       "      <th></th>\n",
       "      <th>ctr_id</th>\n",
       "      <th>ctr_name</th>\n",
       "    </tr>\n",
       "  </thead>\n",
       "  <tbody>\n",
       "    <tr>\n",
       "      <th>1</th>\n",
       "      <td>1</td>\n",
       "      <td>Sweden</td>\n",
       "    </tr>\n",
       "    <tr>\n",
       "      <th>2</th>\n",
       "      <td>2</td>\n",
       "      <td>United States</td>\n",
       "    </tr>\n",
       "    <tr>\n",
       "      <th>3</th>\n",
       "      <td>3</td>\n",
       "      <td>United Kingdom</td>\n",
       "    </tr>\n",
       "    <tr>\n",
       "      <th>4</th>\n",
       "      <td>4</td>\n",
       "      <td>Pakistan</td>\n",
       "    </tr>\n",
       "    <tr>\n",
       "      <th>5</th>\n",
       "      <td>5</td>\n",
       "      <td>Paraguay</td>\n",
       "    </tr>\n",
       "    <tr>\n",
       "      <th>...</th>\n",
       "      <td>...</td>\n",
       "      <td>...</td>\n",
       "    </tr>\n",
       "    <tr>\n",
       "      <th>93</th>\n",
       "      <td>93</td>\n",
       "      <td>Albania</td>\n",
       "    </tr>\n",
       "    <tr>\n",
       "      <th>94</th>\n",
       "      <td>94</td>\n",
       "      <td>Bolivia</td>\n",
       "    </tr>\n",
       "    <tr>\n",
       "      <th>95</th>\n",
       "      <td>95</td>\n",
       "      <td>Vietnam</td>\n",
       "    </tr>\n",
       "    <tr>\n",
       "      <th>96</th>\n",
       "      <td>96</td>\n",
       "      <td>Bermuda</td>\n",
       "    </tr>\n",
       "    <tr>\n",
       "      <th>97</th>\n",
       "      <td>97</td>\n",
       "      <td>Kenya</td>\n",
       "    </tr>\n",
       "  </tbody>\n",
       "</table>\n",
       "<p>97 rows × 2 columns</p>\n",
       "</div>"
      ],
      "text/plain": [
       "    ctr_id        ctr_name\n",
       "1        1          Sweden\n",
       "2        2   United States\n",
       "3        3  United Kingdom\n",
       "4        4        Pakistan\n",
       "5        5        Paraguay\n",
       "..     ...             ...\n",
       "93      93         Albania\n",
       "94      94         Bolivia\n",
       "95      95         Vietnam\n",
       "96      96         Bermuda\n",
       "97      97           Kenya\n",
       "\n",
       "[97 rows x 2 columns]"
      ]
     },
     "execution_count": 22,
     "metadata": {},
     "output_type": "execute_result"
    }
   ],
   "source": [
    "country_df = country_df.drop(columns='index')\n",
    "country_df['ctr_id'] = country_df.index\n",
    "country_df\n"
   ]
  },
  {
   "cell_type": "code",
   "execution_count": 23,
   "metadata": {},
   "outputs": [],
   "source": [
    "id_ctr = survey_data[\"Country\"].apply(lambda x: country_df[country_df[\"ctr_name\"] == x].index[0])\n",
    "sondage_item_df['ctr_id'] = id_ctr.astype(pd.Int64Dtype())"
   ]
  },
  {
   "cell_type": "code",
   "execution_count": 24,
   "metadata": {},
   "outputs": [
    {
     "data": {
      "text/plain": [
       "sgi_id\n",
       "0         1\n",
       "1         2\n",
       "2         2\n",
       "3         3\n",
       "4         2\n",
       "         ..\n",
       "10336     3\n",
       "10337    73\n",
       "10338    28\n",
       "10339     2\n",
       "10340    18\n",
       "Name: ctr_id, Length: 10341, dtype: Int64"
      ]
     },
     "execution_count": 24,
     "metadata": {},
     "output_type": "execute_result"
    }
   ],
   "source": [
    "sondage_item_df['ctr_id']"
   ]
  },
  {
   "cell_type": "code",
   "execution_count": 25,
   "metadata": {},
   "outputs": [],
   "source": [
    "#country_df.to_sql(\"country\",if_exists=\"append\", con=engine, index=False)"
   ]
  },
  {
   "cell_type": "markdown",
   "metadata": {},
   "source": [
    "## DataFrame education"
   ]
  },
  {
   "cell_type": "code",
   "execution_count": 26,
   "metadata": {},
   "outputs": [
    {
     "data": {
      "text/plain": [
       "Index(['edu_id', 'edu_title'], dtype='object')"
      ]
     },
     "execution_count": 26,
     "metadata": {},
     "output_type": "execute_result"
    }
   ],
   "source": [
    "education_columns = pd.read_sql_query(\"select * from education;\", engine).columns\n",
    "education_columns"
   ]
  },
  {
   "cell_type": "code",
   "execution_count": 27,
   "metadata": {},
   "outputs": [],
   "source": [
    "education_df = pd.DataFrame(columns = education_columns)\n",
    "education_df['edu_title'] = survey_data['Education']\n",
    "education_df.drop_duplicates(inplace=True)"
   ]
  },
  {
   "cell_type": "code",
   "execution_count": 28,
   "metadata": {},
   "outputs": [
    {
     "data": {
      "text/html": [
       "<div>\n",
       "<style scoped>\n",
       "    .dataframe tbody tr th:only-of-type {\n",
       "        vertical-align: middle;\n",
       "    }\n",
       "\n",
       "    .dataframe tbody tr th {\n",
       "        vertical-align: top;\n",
       "    }\n",
       "\n",
       "    .dataframe thead th {\n",
       "        text-align: right;\n",
       "    }\n",
       "</style>\n",
       "<table border=\"1\" class=\"dataframe\">\n",
       "  <thead>\n",
       "    <tr style=\"text-align: right;\">\n",
       "      <th></th>\n",
       "      <th>edu_id</th>\n",
       "      <th>edu_title</th>\n",
       "    </tr>\n",
       "  </thead>\n",
       "  <tbody>\n",
       "    <tr>\n",
       "      <th>0</th>\n",
       "      <td>NaN</td>\n",
       "      <td>Not Asked</td>\n",
       "    </tr>\n",
       "    <tr>\n",
       "      <th>3470</th>\n",
       "      <td>NaN</td>\n",
       "      <td>Bachelors (4 years)</td>\n",
       "    </tr>\n",
       "    <tr>\n",
       "      <th>3473</th>\n",
       "      <td>NaN</td>\n",
       "      <td>None (no degree completed)</td>\n",
       "    </tr>\n",
       "    <tr>\n",
       "      <th>3475</th>\n",
       "      <td>NaN</td>\n",
       "      <td>Masters</td>\n",
       "    </tr>\n",
       "    <tr>\n",
       "      <th>3494</th>\n",
       "      <td>NaN</td>\n",
       "      <td>Associates (2 years)</td>\n",
       "    </tr>\n",
       "    <tr>\n",
       "      <th>3536</th>\n",
       "      <td>NaN</td>\n",
       "      <td>Doctorate/PhD</td>\n",
       "    </tr>\n",
       "  </tbody>\n",
       "</table>\n",
       "</div>"
      ],
      "text/plain": [
       "     edu_id                   edu_title\n",
       "0       NaN                   Not Asked\n",
       "3470    NaN         Bachelors (4 years)\n",
       "3473    NaN  None (no degree completed)\n",
       "3475    NaN                     Masters\n",
       "3494    NaN        Associates (2 years)\n",
       "3536    NaN               Doctorate/PhD"
      ]
     },
     "execution_count": 28,
     "metadata": {},
     "output_type": "execute_result"
    }
   ],
   "source": [
    "education_df"
   ]
  },
  {
   "cell_type": "code",
   "execution_count": null,
   "metadata": {},
   "outputs": [],
   "source": []
  },
  {
   "cell_type": "code",
   "execution_count": 29,
   "metadata": {},
   "outputs": [],
   "source": [
    "education_df = education_df.reset_index(drop=True)\n",
    "education_df.index +=1\n",
    "education_df['edu_id']=education_df.index"
   ]
  },
  {
   "cell_type": "code",
   "execution_count": 30,
   "metadata": {},
   "outputs": [
    {
     "data": {
      "text/html": [
       "<div>\n",
       "<style scoped>\n",
       "    .dataframe tbody tr th:only-of-type {\n",
       "        vertical-align: middle;\n",
       "    }\n",
       "\n",
       "    .dataframe tbody tr th {\n",
       "        vertical-align: top;\n",
       "    }\n",
       "\n",
       "    .dataframe thead th {\n",
       "        text-align: right;\n",
       "    }\n",
       "</style>\n",
       "<table border=\"1\" class=\"dataframe\">\n",
       "  <thead>\n",
       "    <tr style=\"text-align: right;\">\n",
       "      <th></th>\n",
       "      <th>edu_id</th>\n",
       "      <th>edu_title</th>\n",
       "    </tr>\n",
       "  </thead>\n",
       "  <tbody>\n",
       "    <tr>\n",
       "      <th>1</th>\n",
       "      <td>1</td>\n",
       "      <td>Not Asked</td>\n",
       "    </tr>\n",
       "    <tr>\n",
       "      <th>2</th>\n",
       "      <td>2</td>\n",
       "      <td>Bachelors (4 years)</td>\n",
       "    </tr>\n",
       "    <tr>\n",
       "      <th>3</th>\n",
       "      <td>3</td>\n",
       "      <td>None (no degree completed)</td>\n",
       "    </tr>\n",
       "    <tr>\n",
       "      <th>4</th>\n",
       "      <td>4</td>\n",
       "      <td>Masters</td>\n",
       "    </tr>\n",
       "    <tr>\n",
       "      <th>5</th>\n",
       "      <td>5</td>\n",
       "      <td>Associates (2 years)</td>\n",
       "    </tr>\n",
       "    <tr>\n",
       "      <th>6</th>\n",
       "      <td>6</td>\n",
       "      <td>Doctorate/PhD</td>\n",
       "    </tr>\n",
       "  </tbody>\n",
       "</table>\n",
       "</div>"
      ],
      "text/plain": [
       "   edu_id                   edu_title\n",
       "1       1                   Not Asked\n",
       "2       2         Bachelors (4 years)\n",
       "3       3  None (no degree completed)\n",
       "4       4                     Masters\n",
       "5       5        Associates (2 years)\n",
       "6       6               Doctorate/PhD"
      ]
     },
     "execution_count": 30,
     "metadata": {},
     "output_type": "execute_result"
    }
   ],
   "source": [
    "education_df"
   ]
  },
  {
   "cell_type": "code",
   "execution_count": 31,
   "metadata": {},
   "outputs": [],
   "source": [
    "id_edu = survey_data['Education'].apply(lambda x: education_df[education_df['edu_title']==x].index[0])\n",
    "sondage_item_df['edu_id'] = id_edu.astype(pd.Int64Dtype())"
   ]
  },
  {
   "cell_type": "code",
   "execution_count": 32,
   "metadata": {},
   "outputs": [
    {
     "data": {
      "text/plain": [
       "sgi_id\n",
       "0        1\n",
       "1        1\n",
       "2        1\n",
       "3        1\n",
       "4        1\n",
       "        ..\n",
       "10336    3\n",
       "10337    2\n",
       "10338    2\n",
       "10339    4\n",
       "10340    3\n",
       "Name: edu_id, Length: 10341, dtype: Int64"
      ]
     },
     "execution_count": 32,
     "metadata": {},
     "output_type": "execute_result"
    }
   ],
   "source": [
    "sondage_item_df['edu_id']"
   ]
  },
  {
   "cell_type": "code",
   "execution_count": null,
   "metadata": {},
   "outputs": [],
   "source": []
  },
  {
   "cell_type": "markdown",
   "metadata": {},
   "source": [
    "## DataFrame employment_sector"
   ]
  },
  {
   "cell_type": "code",
   "execution_count": 33,
   "metadata": {},
   "outputs": [
    {
     "data": {
      "text/plain": [
       "Index(['sec_id', 'sec_name'], dtype='object')"
      ]
     },
     "execution_count": 33,
     "metadata": {},
     "output_type": "execute_result"
    }
   ],
   "source": [
    "employment_sector_columns = pd.read_sql_query(\"select * from employment_sector;\", engine).columns\n",
    "employment_sector_columns"
   ]
  },
  {
   "cell_type": "code",
   "execution_count": 34,
   "metadata": {},
   "outputs": [],
   "source": [
    "employment_sector_df = pd.DataFrame(columns = employment_sector_columns)\n",
    "employment_sector_df['sec_name'] = survey_data['EmploymentSector']\n",
    "employment_sector_df.drop_duplicates(inplace=True)"
   ]
  },
  {
   "cell_type": "code",
   "execution_count": 35,
   "metadata": {},
   "outputs": [
    {
     "data": {
      "text/html": [
       "<div>\n",
       "<style scoped>\n",
       "    .dataframe tbody tr th:only-of-type {\n",
       "        vertical-align: middle;\n",
       "    }\n",
       "\n",
       "    .dataframe tbody tr th {\n",
       "        vertical-align: top;\n",
       "    }\n",
       "\n",
       "    .dataframe thead th {\n",
       "        text-align: right;\n",
       "    }\n",
       "</style>\n",
       "<table border=\"1\" class=\"dataframe\">\n",
       "  <thead>\n",
       "    <tr style=\"text-align: right;\">\n",
       "      <th></th>\n",
       "      <th>sec_id</th>\n",
       "      <th>sec_name</th>\n",
       "    </tr>\n",
       "  </thead>\n",
       "  <tbody>\n",
       "    <tr>\n",
       "      <th>0</th>\n",
       "      <td>NaN</td>\n",
       "      <td>Private business</td>\n",
       "    </tr>\n",
       "    <tr>\n",
       "      <th>3</th>\n",
       "      <td>NaN</td>\n",
       "      <td>Education (K-12, college, university)</td>\n",
       "    </tr>\n",
       "    <tr>\n",
       "      <th>21</th>\n",
       "      <td>NaN</td>\n",
       "      <td>State/province government</td>\n",
       "    </tr>\n",
       "    <tr>\n",
       "      <th>22</th>\n",
       "      <td>NaN</td>\n",
       "      <td>Local government</td>\n",
       "    </tr>\n",
       "    <tr>\n",
       "      <th>25</th>\n",
       "      <td>NaN</td>\n",
       "      <td>Non-profit</td>\n",
       "    </tr>\n",
       "    <tr>\n",
       "      <th>141</th>\n",
       "      <td>NaN</td>\n",
       "      <td>Federal government</td>\n",
       "    </tr>\n",
       "    <tr>\n",
       "      <th>5700</th>\n",
       "      <td>NaN</td>\n",
       "      <td>Student</td>\n",
       "    </tr>\n",
       "  </tbody>\n",
       "</table>\n",
       "</div>"
      ],
      "text/plain": [
       "     sec_id                               sec_name\n",
       "0       NaN                       Private business\n",
       "3       NaN  Education (K-12, college, university)\n",
       "21      NaN              State/province government\n",
       "22      NaN                       Local government\n",
       "25      NaN                             Non-profit\n",
       "141     NaN                     Federal government\n",
       "5700    NaN                                Student"
      ]
     },
     "execution_count": 35,
     "metadata": {},
     "output_type": "execute_result"
    }
   ],
   "source": [
    "employment_sector_df"
   ]
  },
  {
   "cell_type": "code",
   "execution_count": null,
   "metadata": {},
   "outputs": [],
   "source": []
  },
  {
   "cell_type": "code",
   "execution_count": 36,
   "metadata": {},
   "outputs": [],
   "source": [
    "\n",
    "employment_sector_df = employment_sector_df.reset_index(drop=True)\n",
    "employment_sector_df.index +=1\n",
    "employment_sector_df['sec_id']=employment_sector_df.index\n",
    "id_sec = survey_data['EmploymentSector'].apply(lambda x: employment_sector_df[employment_sector_df['sec_name']==x].index[0])\n",
    "sondage_item_df['sec_id'] = id_sec.astype(pd.Int64Dtype())"
   ]
  },
  {
   "cell_type": "code",
   "execution_count": 37,
   "metadata": {},
   "outputs": [
    {
     "data": {
      "text/plain": [
       "0        1\n",
       "1        1\n",
       "2        1\n",
       "3        2\n",
       "4        1\n",
       "        ..\n",
       "10336    1\n",
       "10337    1\n",
       "10338    1\n",
       "10339    1\n",
       "10340    1\n",
       "Name: EmploymentSector, Length: 10341, dtype: int64"
      ]
     },
     "execution_count": 37,
     "metadata": {},
     "output_type": "execute_result"
    }
   ],
   "source": [
    "id_sec"
   ]
  },
  {
   "cell_type": "markdown",
   "metadata": {},
   "source": [
    "## DataFrame employment_status"
   ]
  },
  {
   "cell_type": "code",
   "execution_count": 38,
   "metadata": {},
   "outputs": [
    {
     "data": {
      "text/plain": [
       "Index(['emp_id', 'emp_status'], dtype='object')"
      ]
     },
     "execution_count": 38,
     "metadata": {},
     "output_type": "execute_result"
    }
   ],
   "source": [
    "employment_status_columns = pd.read_sql_query(\"select * from employment_status;\", engine).columns\n",
    "employment_status_columns"
   ]
  },
  {
   "cell_type": "code",
   "execution_count": 39,
   "metadata": {},
   "outputs": [],
   "source": [
    "employment_status_df = pd.DataFrame(columns = employment_status_columns)\n",
    "employment_status_df['emp_status'] = survey_data['EmploymentStatus']\n",
    "employment_status_df.drop_duplicates(inplace=True)"
   ]
  },
  {
   "cell_type": "code",
   "execution_count": 40,
   "metadata": {},
   "outputs": [],
   "source": [
    "employment_status_df = employment_status_df.reset_index(drop=True)\n",
    "\n",
    "employment_status_df.index +=1\n"
   ]
  },
  {
   "cell_type": "code",
   "execution_count": 41,
   "metadata": {},
   "outputs": [],
   "source": [
    "employment_status_df['emp_id']=employment_status_df.index"
   ]
  },
  {
   "cell_type": "code",
   "execution_count": 42,
   "metadata": {},
   "outputs": [
    {
     "data": {
      "text/html": [
       "<div>\n",
       "<style scoped>\n",
       "    .dataframe tbody tr th:only-of-type {\n",
       "        vertical-align: middle;\n",
       "    }\n",
       "\n",
       "    .dataframe tbody tr th {\n",
       "        vertical-align: top;\n",
       "    }\n",
       "\n",
       "    .dataframe thead th {\n",
       "        text-align: right;\n",
       "    }\n",
       "</style>\n",
       "<table border=\"1\" class=\"dataframe\">\n",
       "  <thead>\n",
       "    <tr style=\"text-align: right;\">\n",
       "      <th></th>\n",
       "      <th>emp_id</th>\n",
       "      <th>emp_status</th>\n",
       "    </tr>\n",
       "  </thead>\n",
       "  <tbody>\n",
       "    <tr>\n",
       "      <th>1</th>\n",
       "      <td>1</td>\n",
       "      <td>Full time employee</td>\n",
       "    </tr>\n",
       "    <tr>\n",
       "      <th>2</th>\n",
       "      <td>2</td>\n",
       "      <td>Full time employee of a consulting/contracting...</td>\n",
       "    </tr>\n",
       "    <tr>\n",
       "      <th>3</th>\n",
       "      <td>3</td>\n",
       "      <td>Independent consultant, contractor, freelancer...</td>\n",
       "    </tr>\n",
       "    <tr>\n",
       "      <th>4</th>\n",
       "      <td>4</td>\n",
       "      <td>Part time</td>\n",
       "    </tr>\n",
       "    <tr>\n",
       "      <th>5</th>\n",
       "      <td>5</td>\n",
       "      <td>Independent or freelancer or company owner</td>\n",
       "    </tr>\n",
       "  </tbody>\n",
       "</table>\n",
       "</div>"
      ],
      "text/plain": [
       "   emp_id                                         emp_status\n",
       "1       1                                 Full time employee\n",
       "2       2  Full time employee of a consulting/contracting...\n",
       "3       3  Independent consultant, contractor, freelancer...\n",
       "4       4                                          Part time\n",
       "5       5         Independent or freelancer or company owner"
      ]
     },
     "execution_count": 42,
     "metadata": {},
     "output_type": "execute_result"
    }
   ],
   "source": [
    "employment_status_df"
   ]
  },
  {
   "cell_type": "code",
   "execution_count": 43,
   "metadata": {},
   "outputs": [],
   "source": [
    "id_emp = survey_data['EmploymentStatus'].apply(lambda x: employment_status_df[employment_status_df['emp_status']==x].index[0])\n",
    "sondage_item_df['emp_id'] = id_emp.astype(pd.Int64Dtype())"
   ]
  },
  {
   "cell_type": "code",
   "execution_count": 44,
   "metadata": {},
   "outputs": [
    {
     "data": {
      "text/plain": [
       "sgi_id\n",
       "0        1\n",
       "1        1\n",
       "2        1\n",
       "3        1\n",
       "4        1\n",
       "        ..\n",
       "10336    1\n",
       "10337    1\n",
       "10338    1\n",
       "10339    1\n",
       "10340    1\n",
       "Name: emp_id, Length: 10341, dtype: Int64"
      ]
     },
     "execution_count": 44,
     "metadata": {},
     "output_type": "execute_result"
    }
   ],
   "source": [
    "sondage_item_df['emp_id']"
   ]
  },
  {
   "cell_type": "code",
   "execution_count": null,
   "metadata": {},
   "outputs": [],
   "source": []
  },
  {
   "cell_type": "markdown",
   "metadata": {},
   "source": [
    "## DataFrame how_many_companies"
   ]
  },
  {
   "cell_type": "code",
   "execution_count": 45,
   "metadata": {},
   "outputs": [
    {
     "data": {
      "text/plain": [
       "Index(['mcp_id', 'mcp_many_companies'], dtype='object')"
      ]
     },
     "execution_count": 45,
     "metadata": {},
     "output_type": "execute_result"
    }
   ],
   "source": [
    "column_how_many_companies = pd.read_sql_query(\"select * from how_many_companies;\", engine).columns\n",
    "column_how_many_companies"
   ]
  },
  {
   "cell_type": "code",
   "execution_count": 46,
   "metadata": {},
   "outputs": [],
   "source": [
    "how_many_companies = pd.DataFrame(columns = column_how_many_companies)\n",
    "how_many_companies['mcp_many_companies'] = survey_data['HowManyCompanies']\n",
    "how_many_companies.drop_duplicates(inplace=True)\n",
    "how_many_companies.reset_index(inplace=True)\n",
    "how_many_companies.index +=1"
   ]
  },
  {
   "cell_type": "code",
   "execution_count": 47,
   "metadata": {},
   "outputs": [],
   "source": [
    "how_many_companies['mcp_id']=how_many_companies.index"
   ]
  },
  {
   "cell_type": "code",
   "execution_count": 48,
   "metadata": {},
   "outputs": [],
   "source": [
    "how_many_companies= how_many_companies.drop(columns='index')"
   ]
  },
  {
   "cell_type": "code",
   "execution_count": 49,
   "metadata": {},
   "outputs": [
    {
     "data": {
      "text/html": [
       "<div>\n",
       "<style scoped>\n",
       "    .dataframe tbody tr th:only-of-type {\n",
       "        vertical-align: middle;\n",
       "    }\n",
       "\n",
       "    .dataframe tbody tr th {\n",
       "        vertical-align: top;\n",
       "    }\n",
       "\n",
       "    .dataframe thead th {\n",
       "        text-align: right;\n",
       "    }\n",
       "</style>\n",
       "<table border=\"1\" class=\"dataframe\">\n",
       "  <thead>\n",
       "    <tr style=\"text-align: right;\">\n",
       "      <th></th>\n",
       "      <th>mcp_id</th>\n",
       "      <th>mcp_many_companies</th>\n",
       "    </tr>\n",
       "  </thead>\n",
       "  <tbody>\n",
       "    <tr>\n",
       "      <th>1</th>\n",
       "      <td>1</td>\n",
       "      <td>1 (this is the only company where I've had thi...</td>\n",
       "    </tr>\n",
       "    <tr>\n",
       "      <th>2</th>\n",
       "      <td>2</td>\n",
       "      <td>5</td>\n",
       "    </tr>\n",
       "    <tr>\n",
       "      <th>3</th>\n",
       "      <td>3</td>\n",
       "      <td>4</td>\n",
       "    </tr>\n",
       "    <tr>\n",
       "      <th>4</th>\n",
       "      <td>4</td>\n",
       "      <td>2 (I worked at another similar position elsewh...</td>\n",
       "    </tr>\n",
       "    <tr>\n",
       "      <th>5</th>\n",
       "      <td>5</td>\n",
       "      <td>3</td>\n",
       "    </tr>\n",
       "    <tr>\n",
       "      <th>6</th>\n",
       "      <td>6</td>\n",
       "      <td>6 or more</td>\n",
       "    </tr>\n",
       "    <tr>\n",
       "      <th>7</th>\n",
       "      <td>7</td>\n",
       "      <td>Not Asked</td>\n",
       "    </tr>\n",
       "  </tbody>\n",
       "</table>\n",
       "</div>"
      ],
      "text/plain": [
       "   mcp_id                                 mcp_many_companies\n",
       "1       1  1 (this is the only company where I've had thi...\n",
       "2       2                                                  5\n",
       "3       3                                                  4\n",
       "4       4  2 (I worked at another similar position elsewh...\n",
       "5       5                                                  3\n",
       "6       6                                          6 or more\n",
       "7       7                                          Not Asked"
      ]
     },
     "execution_count": 49,
     "metadata": {},
     "output_type": "execute_result"
    }
   ],
   "source": [
    "how_many_companies"
   ]
  },
  {
   "cell_type": "code",
   "execution_count": 50,
   "metadata": {},
   "outputs": [],
   "source": [
    "# Settage des id pour sondage_df\n",
    "\n",
    "\n",
    "id_mcp = survey_data[\"HowManyCompanies\"].apply(lambda x: how_many_companies[how_many_companies[\"mcp_many_companies\"] == x].index[0])\n",
    "sondage_item_df['mcp_id'] = id_mcp.astype(pd.Int64Dtype())"
   ]
  },
  {
   "cell_type": "code",
   "execution_count": 51,
   "metadata": {},
   "outputs": [],
   "source": [
    "#how_many_companies.to_sql(\"how_many_companies\",if_exists=\"append\", con=engine, index=False)"
   ]
  },
  {
   "cell_type": "markdown",
   "metadata": {},
   "source": [
    "## DataFrame largest_city"
   ]
  },
  {
   "cell_type": "code",
   "execution_count": 52,
   "metadata": {},
   "outputs": [
    {
     "data": {
      "text/plain": [
       "Index(['pop_id', 'pop_name'], dtype='object')"
      ]
     },
     "execution_count": 52,
     "metadata": {},
     "output_type": "execute_result"
    }
   ],
   "source": [
    "largest_city_companies = pd.read_sql_query(\"select * from largest_city;\", engine).columns\n",
    "largest_city_companies"
   ]
  },
  {
   "cell_type": "code",
   "execution_count": 53,
   "metadata": {},
   "outputs": [],
   "source": [
    "largest_city_df = pd.DataFrame(columns = largest_city_companies)\n",
    "largest_city_df['pop_name'] = survey_data['PopulationOfLargestCityWithin20Miles']\n",
    "largest_city_df.drop_duplicates(inplace=True)\n"
   ]
  },
  {
   "cell_type": "code",
   "execution_count": 54,
   "metadata": {},
   "outputs": [
    {
     "data": {
      "text/html": [
       "<div>\n",
       "<style scoped>\n",
       "    .dataframe tbody tr th:only-of-type {\n",
       "        vertical-align: middle;\n",
       "    }\n",
       "\n",
       "    .dataframe tbody tr th {\n",
       "        vertical-align: top;\n",
       "    }\n",
       "\n",
       "    .dataframe thead th {\n",
       "        text-align: right;\n",
       "    }\n",
       "</style>\n",
       "<table border=\"1\" class=\"dataframe\">\n",
       "  <thead>\n",
       "    <tr style=\"text-align: right;\">\n",
       "      <th></th>\n",
       "      <th>pop_id</th>\n",
       "      <th>pop_name</th>\n",
       "    </tr>\n",
       "  </thead>\n",
       "  <tbody>\n",
       "    <tr>\n",
       "      <th>0</th>\n",
       "      <td>NaN</td>\n",
       "      <td>&lt;= 20,000 (town)</td>\n",
       "    </tr>\n",
       "    <tr>\n",
       "      <th>1</th>\n",
       "      <td>NaN</td>\n",
       "      <td>1M+ (metropolis)</td>\n",
       "    </tr>\n",
       "    <tr>\n",
       "      <th>2</th>\n",
       "      <td>NaN</td>\n",
       "      <td>300K-1M (large city)</td>\n",
       "    </tr>\n",
       "    <tr>\n",
       "      <th>4</th>\n",
       "      <td>NaN</td>\n",
       "      <td>100K-299K (city)</td>\n",
       "    </tr>\n",
       "    <tr>\n",
       "      <th>11</th>\n",
       "      <td>NaN</td>\n",
       "      <td>20K-99K (large town)</td>\n",
       "    </tr>\n",
       "    <tr>\n",
       "      <th>4349</th>\n",
       "      <td>NaN</td>\n",
       "      <td>Not Asked</td>\n",
       "    </tr>\n",
       "  </tbody>\n",
       "</table>\n",
       "</div>"
      ],
      "text/plain": [
       "     pop_id              pop_name\n",
       "0       NaN      <= 20,000 (town)\n",
       "1       NaN      1M+ (metropolis)\n",
       "2       NaN  300K-1M (large city)\n",
       "4       NaN      100K-299K (city)\n",
       "11      NaN  20K-99K (large town)\n",
       "4349    NaN             Not Asked"
      ]
     },
     "execution_count": 54,
     "metadata": {},
     "output_type": "execute_result"
    }
   ],
   "source": [
    "largest_city_df"
   ]
  },
  {
   "cell_type": "code",
   "execution_count": 55,
   "metadata": {},
   "outputs": [],
   "source": [
    "largest_city_df = largest_city_df.reset_index(drop=True)\n",
    "largest_city_df.index+=1"
   ]
  },
  {
   "cell_type": "code",
   "execution_count": 56,
   "metadata": {},
   "outputs": [],
   "source": [
    "largest_city_df['pop_id'] = largest_city_df.index"
   ]
  },
  {
   "cell_type": "code",
   "execution_count": 57,
   "metadata": {},
   "outputs": [],
   "source": [
    "id_pop = survey_data['PopulationOfLargestCityWithin20Miles'].apply(lambda x: largest_city_df[largest_city_df['pop_name']==x].index[0])\n",
    "sondage_item_df['pop_id']= id_pop.astype(pd.Int64Dtype())"
   ]
  },
  {
   "cell_type": "code",
   "execution_count": 58,
   "metadata": {},
   "outputs": [
    {
     "data": {
      "text/plain": [
       "sgi_id\n",
       "0        1\n",
       "1        2\n",
       "2        3\n",
       "3        3\n",
       "4        4\n",
       "        ..\n",
       "10336    6\n",
       "10337    6\n",
       "10338    6\n",
       "10339    6\n",
       "10340    6\n",
       "Name: pop_id, Length: 10341, dtype: Int64"
      ]
     },
     "execution_count": 58,
     "metadata": {},
     "output_type": "execute_result"
    }
   ],
   "source": [
    "sondage_item_df['pop_id']"
   ]
  },
  {
   "cell_type": "code",
   "execution_count": null,
   "metadata": {},
   "outputs": [],
   "source": []
  },
  {
   "cell_type": "markdown",
   "metadata": {},
   "source": [
    "## DataFrame looking_job"
   ]
  },
  {
   "cell_type": "code",
   "execution_count": 59,
   "metadata": {},
   "outputs": [
    {
     "data": {
      "text/plain": [
       "Index(['look_id', 'look_job'], dtype='object')"
      ]
     },
     "execution_count": 59,
     "metadata": {},
     "output_type": "execute_result"
    }
   ],
   "source": [
    "looking_job_companies = pd.read_sql_query(\"select * from looking_job;\", engine).columns\n",
    "looking_job_companies"
   ]
  },
  {
   "cell_type": "code",
   "execution_count": 60,
   "metadata": {},
   "outputs": [],
   "source": [
    "looking_job_df = pd.DataFrame(columns = looking_job_companies)\n",
    "looking_job_df['look_job'] = survey_data['LookingForAnotherJob']\n",
    "looking_job_df.drop_duplicates(inplace=True)"
   ]
  },
  {
   "cell_type": "code",
   "execution_count": 61,
   "metadata": {},
   "outputs": [],
   "source": [
    "looking_job_df = looking_job_df.reset_index(drop=True)\n",
    "looking_job_df.index +=1\n",
    "looking_job_df['look_id']=looking_job_df.index"
   ]
  },
  {
   "cell_type": "code",
   "execution_count": 62,
   "metadata": {},
   "outputs": [],
   "source": [
    "id_look = survey_data['LookingForAnotherJob'].apply(lambda x: looking_job_df[looking_job_df['look_job']==x].index[0])\n",
    "sondage_item_df['look_id'] = id_look.astype(pd.Int64Dtype())"
   ]
  },
  {
   "cell_type": "code",
   "execution_count": 63,
   "metadata": {},
   "outputs": [
    {
     "data": {
      "text/plain": [
       "sgi_id\n",
       "0        1\n",
       "1        1\n",
       "2        1\n",
       "3        1\n",
       "4        1\n",
       "        ..\n",
       "10336    2\n",
       "10337    3\n",
       "10338    3\n",
       "10339    4\n",
       "10340    3\n",
       "Name: look_id, Length: 10341, dtype: Int64"
      ]
     },
     "execution_count": 63,
     "metadata": {},
     "output_type": "execute_result"
    }
   ],
   "source": [
    "sondage_item_df['look_id']"
   ]
  },
  {
   "cell_type": "code",
   "execution_count": null,
   "metadata": {},
   "outputs": [],
   "source": []
  },
  {
   "cell_type": "markdown",
   "metadata": {},
   "source": [
    "## DataFrame sondage"
   ]
  },
  {
   "cell_type": "code",
   "execution_count": 64,
   "metadata": {},
   "outputs": [
    {
     "data": {
      "text/plain": [
       "Index(['sdg_id', 'sdg_year'], dtype='object')"
      ]
     },
     "execution_count": 64,
     "metadata": {},
     "output_type": "execute_result"
    }
   ],
   "source": [
    "sondage_columns = pd.read_sql_query(\"select * from sondage;\", engine).columns\n",
    "sondage_columns"
   ]
  },
  {
   "cell_type": "code",
   "execution_count": 65,
   "metadata": {},
   "outputs": [],
   "source": [
    "sondage_df = pd.DataFrame(columns = sondage_columns)\n",
    "sondage_df['sdg_year'] = survey_data['Survey Year']\n",
    "sondage_df.drop_duplicates(inplace=True)\n",
    "sondage_df = sondage_df.rename_axis(index='sdg_id')\n",
    "sondage_df = sondage_df.drop(columns='sdg_id')"
   ]
  },
  {
   "cell_type": "code",
   "execution_count": 66,
   "metadata": {},
   "outputs": [],
   "source": [
    "sondage_df= sondage_df.reset_index()"
   ]
  },
  {
   "cell_type": "code",
   "execution_count": 67,
   "metadata": {},
   "outputs": [],
   "source": [
    "sondage_df = sondage_df.drop(columns='sdg_id')"
   ]
  },
  {
   "cell_type": "code",
   "execution_count": 68,
   "metadata": {},
   "outputs": [],
   "source": [
    "sondage_df = sondage_df.rename_axis(index='sdg_id')"
   ]
  },
  {
   "cell_type": "code",
   "execution_count": 69,
   "metadata": {},
   "outputs": [],
   "source": [
    "sondage_df.index += 1"
   ]
  },
  {
   "cell_type": "code",
   "execution_count": 70,
   "metadata": {},
   "outputs": [],
   "source": [
    "id_sdg = survey_data[\"Survey Year\"].apply(lambda x: sondage_df[sondage_df[\"sdg_year\"] == x].index[0])\n",
    "sondage_item_df['sdg_id'] = id_sdg.astype(pd.Int64Dtype())"
   ]
  },
  {
   "cell_type": "code",
   "execution_count": 71,
   "metadata": {},
   "outputs": [
    {
     "data": {
      "text/plain": [
       "sgi_id\n",
       "0        1\n",
       "1        1\n",
       "2        1\n",
       "3        1\n",
       "4        1\n",
       "        ..\n",
       "10336    5\n",
       "10337    5\n",
       "10338    5\n",
       "10339    5\n",
       "10340    5\n",
       "Name: sdg_id, Length: 10341, dtype: Int64"
      ]
     },
     "execution_count": 71,
     "metadata": {},
     "output_type": "execute_result"
    }
   ],
   "source": [
    "sondage_item_df['sdg_id']"
   ]
  },
  {
   "cell_type": "code",
   "execution_count": 72,
   "metadata": {},
   "outputs": [],
   "source": [
    "#sondage_df.to_sql(\"sondage\",if_exists=\"append\", con=engine, index=False)"
   ]
  },
  {
   "cell_type": "markdown",
   "metadata": {},
   "source": [
    "---"
   ]
  },
  {
   "cell_type": "markdown",
   "metadata": {},
   "source": [
    "## DataFrame job"
   ]
  },
  {
   "cell_type": "code",
   "execution_count": 73,
   "metadata": {},
   "outputs": [
    {
     "data": {
      "text/plain": [
       "Index(['job_id', 'job_name'], dtype='object')"
      ]
     },
     "execution_count": 73,
     "metadata": {},
     "output_type": "execute_result"
    }
   ],
   "source": [
    "job_columns = pd.read_sql_query(\"select * from job;\", engine).columns\n",
    "job_columns"
   ]
  },
  {
   "cell_type": "code",
   "execution_count": 74,
   "metadata": {},
   "outputs": [],
   "source": [
    "job_df = survey_data['JobTitle']\n",
    "job_df.drop_duplicates(inplace=True)\n",
    "job_df = job_df.reset_index(drop=True)\n",
    "job_df.index += 1"
   ]
  },
  {
   "cell_type": "code",
   "execution_count": 75,
   "metadata": {},
   "outputs": [],
   "source": [
    "job_df = pd.DataFrame({\"job_name\": job_df})\n",
    "job_df[\"job_id\"]=job_df.index"
   ]
  },
  {
   "cell_type": "code",
   "execution_count": 76,
   "metadata": {},
   "outputs": [
    {
     "data": {
      "text/html": [
       "<div>\n",
       "<style scoped>\n",
       "    .dataframe tbody tr th:only-of-type {\n",
       "        vertical-align: middle;\n",
       "    }\n",
       "\n",
       "    .dataframe tbody tr th {\n",
       "        vertical-align: top;\n",
       "    }\n",
       "\n",
       "    .dataframe thead th {\n",
       "        text-align: right;\n",
       "    }\n",
       "</style>\n",
       "<table border=\"1\" class=\"dataframe\">\n",
       "  <thead>\n",
       "    <tr style=\"text-align: right;\">\n",
       "      <th></th>\n",
       "      <th>job_name</th>\n",
       "      <th>job_id</th>\n",
       "    </tr>\n",
       "  </thead>\n",
       "  <tbody>\n",
       "    <tr>\n",
       "      <th>1</th>\n",
       "      <td>Developer: Business Intelligence (SSRS, PowerB...</td>\n",
       "      <td>1</td>\n",
       "    </tr>\n",
       "    <tr>\n",
       "      <th>2</th>\n",
       "      <td>DBA (Production Focus - build &amp; troubleshoot s...</td>\n",
       "      <td>2</td>\n",
       "    </tr>\n",
       "    <tr>\n",
       "      <th>3</th>\n",
       "      <td>DBA (General - splits time evenly between writ...</td>\n",
       "      <td>3</td>\n",
       "    </tr>\n",
       "    <tr>\n",
       "      <th>4</th>\n",
       "      <td>Manager</td>\n",
       "      <td>4</td>\n",
       "    </tr>\n",
       "    <tr>\n",
       "      <th>5</th>\n",
       "      <td>Developer: App code (C#, JS, etc)</td>\n",
       "      <td>5</td>\n",
       "    </tr>\n",
       "    <tr>\n",
       "      <th>6</th>\n",
       "      <td>Developer: T-SQL</td>\n",
       "      <td>6</td>\n",
       "    </tr>\n",
       "    <tr>\n",
       "      <th>7</th>\n",
       "      <td>Architect</td>\n",
       "      <td>7</td>\n",
       "    </tr>\n",
       "    <tr>\n",
       "      <th>8</th>\n",
       "      <td>DBA (Development Focus - tunes queries, indexe...</td>\n",
       "      <td>8</td>\n",
       "    </tr>\n",
       "    <tr>\n",
       "      <th>9</th>\n",
       "      <td>Engineer</td>\n",
       "      <td>9</td>\n",
       "    </tr>\n",
       "    <tr>\n",
       "      <th>10</th>\n",
       "      <td>Analyst</td>\n",
       "      <td>10</td>\n",
       "    </tr>\n",
       "    <tr>\n",
       "      <th>11</th>\n",
       "      <td>Other</td>\n",
       "      <td>11</td>\n",
       "    </tr>\n",
       "    <tr>\n",
       "      <th>12</th>\n",
       "      <td>Data Scientist</td>\n",
       "      <td>12</td>\n",
       "    </tr>\n",
       "    <tr>\n",
       "      <th>13</th>\n",
       "      <td>DBA</td>\n",
       "      <td>13</td>\n",
       "    </tr>\n",
       "    <tr>\n",
       "      <th>14</th>\n",
       "      <td>Principal database engineer</td>\n",
       "      <td>14</td>\n",
       "    </tr>\n",
       "    <tr>\n",
       "      <th>15</th>\n",
       "      <td>DevOps, Sr Software Engineer DBA</td>\n",
       "      <td>15</td>\n",
       "    </tr>\n",
       "    <tr>\n",
       "      <th>16</th>\n",
       "      <td>Technician</td>\n",
       "      <td>16</td>\n",
       "    </tr>\n",
       "    <tr>\n",
       "      <th>17</th>\n",
       "      <td>Database Specialist</td>\n",
       "      <td>17</td>\n",
       "    </tr>\n",
       "    <tr>\n",
       "      <th>18</th>\n",
       "      <td>Consultant</td>\n",
       "      <td>18</td>\n",
       "    </tr>\n",
       "    <tr>\n",
       "      <th>19</th>\n",
       "      <td>Systems Administrator</td>\n",
       "      <td>19</td>\n",
       "    </tr>\n",
       "    <tr>\n",
       "      <th>20</th>\n",
       "      <td>Sales</td>\n",
       "      <td>20</td>\n",
       "    </tr>\n",
       "    <tr>\n",
       "      <th>21</th>\n",
       "      <td>DBA / BI Developer</td>\n",
       "      <td>21</td>\n",
       "    </tr>\n",
       "    <tr>\n",
       "      <th>22</th>\n",
       "      <td>Sr Consultant</td>\n",
       "      <td>22</td>\n",
       "    </tr>\n",
       "    <tr>\n",
       "      <th>23</th>\n",
       "      <td>Analytics consultant</td>\n",
       "      <td>23</td>\n",
       "    </tr>\n",
       "  </tbody>\n",
       "</table>\n",
       "</div>"
      ],
      "text/plain": [
       "                                             job_name  job_id\n",
       "1   Developer: Business Intelligence (SSRS, PowerB...       1\n",
       "2   DBA (Production Focus - build & troubleshoot s...       2\n",
       "3   DBA (General - splits time evenly between writ...       3\n",
       "4                                             Manager       4\n",
       "5                   Developer: App code (C#, JS, etc)       5\n",
       "6                                    Developer: T-SQL       6\n",
       "7                                           Architect       7\n",
       "8   DBA (Development Focus - tunes queries, indexe...       8\n",
       "9                                            Engineer       9\n",
       "10                                            Analyst      10\n",
       "11                                              Other      11\n",
       "12                                     Data Scientist      12\n",
       "13                                                DBA      13\n",
       "14                        Principal database engineer      14\n",
       "15                   DevOps, Sr Software Engineer DBA      15\n",
       "16                                        Technician       16\n",
       "17                                Database Specialist      17\n",
       "18                                         Consultant      18\n",
       "19                              Systems Administrator      19\n",
       "20                                              Sales      20\n",
       "21                                 DBA / BI Developer      21\n",
       "22                                     Sr Consultant       22\n",
       "23                               Analytics consultant      23"
      ]
     },
     "execution_count": 76,
     "metadata": {},
     "output_type": "execute_result"
    }
   ],
   "source": [
    "job_df"
   ]
  },
  {
   "cell_type": "code",
   "execution_count": 77,
   "metadata": {},
   "outputs": [],
   "source": [
    "id_jobtitle = survey_data[\"JobTitle\"].apply(lambda x: job_df[job_df[\"job_name\"] == x].index[0]) \n",
    "#pour ne pas prendre les None  if x is not None else x\n",
    "\n"
   ]
  },
  {
   "cell_type": "code",
   "execution_count": 78,
   "metadata": {},
   "outputs": [],
   "source": [
    "\n",
    "#id_jobtitle.index -=1\n",
    "#id_jobtitle.index +=1"
   ]
  },
  {
   "cell_type": "code",
   "execution_count": 79,
   "metadata": {},
   "outputs": [
    {
     "data": {
      "text/plain": [
       "0         1\n",
       "1         2\n",
       "2         3\n",
       "3         2\n",
       "4         1\n",
       "         ..\n",
       "10336    13\n",
       "10337    13\n",
       "10338    11\n",
       "10339    13\n",
       "10340     7\n",
       "Name: JobTitle, Length: 10341, dtype: int64"
      ]
     },
     "execution_count": 79,
     "metadata": {},
     "output_type": "execute_result"
    }
   ],
   "source": [
    "id_jobtitle"
   ]
  },
  {
   "cell_type": "markdown",
   "metadata": {},
   "source": [
    "## DataFrame other_duties"
   ]
  },
  {
   "cell_type": "code",
   "execution_count": 80,
   "metadata": {},
   "outputs": [
    {
     "data": {
      "text/plain": [
       "Index(['job_id', 'sgi_id'], dtype='object')"
      ]
     },
     "execution_count": 80,
     "metadata": {},
     "output_type": "execute_result"
    }
   ],
   "source": [
    "other_duties_columns = pd.read_sql_query(\"select * from other_duties;\", engine).columns\n",
    "other_duties_columns"
   ]
  },
  {
   "cell_type": "code",
   "execution_count": 81,
   "metadata": {},
   "outputs": [],
   "source": [
    "sondage_item_df['job_id'] = id_jobtitle.astype(pd.Int64Dtype())"
   ]
  },
  {
   "cell_type": "code",
   "execution_count": 82,
   "metadata": {},
   "outputs": [
    {
     "data": {
      "text/plain": [
       "sgi_id\n",
       "0         1\n",
       "1         2\n",
       "2         3\n",
       "3         2\n",
       "4         1\n",
       "         ..\n",
       "10336    13\n",
       "10337    13\n",
       "10338    11\n",
       "10339    13\n",
       "10340     7\n",
       "Name: job_id, Length: 10341, dtype: Int64"
      ]
     },
     "execution_count": 82,
     "metadata": {},
     "output_type": "execute_result"
    }
   ],
   "source": [
    "sondage_item_df[\"job_id\"]"
   ]
  },
  {
   "cell_type": "code",
   "execution_count": null,
   "metadata": {},
   "outputs": [],
   "source": []
  },
  {
   "cell_type": "markdown",
   "metadata": {},
   "source": [
    "## DataFrame task"
   ]
  },
  {
   "cell_type": "code",
   "execution_count": 83,
   "metadata": {},
   "outputs": [
    {
     "data": {
      "text/plain": [
       "Index(['tas_id', 'tas_name'], dtype='object')"
      ]
     },
     "execution_count": 83,
     "metadata": {},
     "output_type": "execute_result"
    }
   ],
   "source": [
    "task_columns = pd.read_sql_query(\"select * from task;\", engine).columns\n",
    "task_columns"
   ]
  },
  {
   "cell_type": "code",
   "execution_count": 84,
   "metadata": {},
   "outputs": [
    {
     "data": {
      "text/plain": [
       "5"
      ]
     },
     "execution_count": 84,
     "metadata": {},
     "output_type": "execute_result"
    }
   ],
   "source": [
    "survey_data[survey_data[\"KindsOfTasksPerformed\"] == \"Not Asked\"][\"KindsOfTasksPerformed\"].apply(lambda x: None)\n",
    "\n",
    "# sondage_item[\"tas_id\"].astype(pd.Int64Dtype())\n",
    "task_df = pd.DataFrame({ \"tas_name\": list(set([ i for ls in survey_data[~ pd.isna(survey_data[\"KindsOfTasksPerformed\"])][\"KindsOfTasksPerformed\"].str.split(\", \").to_list() for i in ls]))})\n",
    "task_df.index += 1\n",
    "task_df = task_df.rename_axis(index=\"tas_id\")\n",
    "task_df[task_df[\"tas_name\"] == \"Projects\"].index[0]\n",
    "\n"
   ]
  },
  {
   "cell_type": "code",
   "execution_count": null,
   "metadata": {},
   "outputs": [],
   "source": []
  },
  {
   "cell_type": "code",
   "execution_count": 85,
   "metadata": {},
   "outputs": [
    {
     "data": {
      "text/plain": [
       "\"task_df = pd.DataFrame(columns = task_columns)\\ntask_df['tas_name'] = survey_data['KindsOfTasksPerformed'].str.split(', ')\\ntask_df.drop_duplicates(inplace=True)\""
      ]
     },
     "execution_count": 85,
     "metadata": {},
     "output_type": "execute_result"
    }
   ],
   "source": [
    "\"\"\"task_df = pd.DataFrame(columns = task_columns)\n",
    "task_df['tas_name'] = survey_data['KindsOfTasksPerformed'].str.split(', ')\n",
    "task_df.drop_duplicates(inplace=True)\"\"\""
   ]
  },
  {
   "cell_type": "code",
   "execution_count": 86,
   "metadata": {},
   "outputs": [
    {
     "data": {
      "text/html": [
       "<div>\n",
       "<style scoped>\n",
       "    .dataframe tbody tr th:only-of-type {\n",
       "        vertical-align: middle;\n",
       "    }\n",
       "\n",
       "    .dataframe tbody tr th {\n",
       "        vertical-align: top;\n",
       "    }\n",
       "\n",
       "    .dataframe thead th {\n",
       "        text-align: right;\n",
       "    }\n",
       "</style>\n",
       "<table border=\"1\" class=\"dataframe\">\n",
       "  <thead>\n",
       "    <tr style=\"text-align: right;\">\n",
       "      <th></th>\n",
       "      <th>tas_name</th>\n",
       "    </tr>\n",
       "    <tr>\n",
       "      <th>tas_id</th>\n",
       "      <th></th>\n",
       "    </tr>\n",
       "  </thead>\n",
       "  <tbody>\n",
       "    <tr>\n",
       "      <th>1</th>\n",
       "      <td>Training/teaching</td>\n",
       "    </tr>\n",
       "    <tr>\n",
       "      <th>2</th>\n",
       "      <td>R&amp;D</td>\n",
       "    </tr>\n",
       "    <tr>\n",
       "      <th>3</th>\n",
       "      <td>Meetings &amp; management</td>\n",
       "    </tr>\n",
       "    <tr>\n",
       "      <th>4</th>\n",
       "      <td>On-call as part of a rotation</td>\n",
       "    </tr>\n",
       "    <tr>\n",
       "      <th>5</th>\n",
       "      <td>Projects</td>\n",
       "    </tr>\n",
       "    <tr>\n",
       "      <th>6</th>\n",
       "      <td>Not Asked</td>\n",
       "    </tr>\n",
       "    <tr>\n",
       "      <th>7</th>\n",
       "      <td>On-call 24/7/365</td>\n",
       "    </tr>\n",
       "    <tr>\n",
       "      <th>8</th>\n",
       "      <td>Build scripts &amp; automation tools</td>\n",
       "    </tr>\n",
       "    <tr>\n",
       "      <th>9</th>\n",
       "      <td>Manual tasks</td>\n",
       "    </tr>\n",
       "  </tbody>\n",
       "</table>\n",
       "</div>"
      ],
      "text/plain": [
       "                                tas_name\n",
       "tas_id                                  \n",
       "1                      Training/teaching\n",
       "2                                    R&D\n",
       "3                  Meetings & management\n",
       "4          On-call as part of a rotation\n",
       "5                               Projects\n",
       "6                              Not Asked\n",
       "7                       On-call 24/7/365\n",
       "8       Build scripts & automation tools\n",
       "9                           Manual tasks"
      ]
     },
     "execution_count": 86,
     "metadata": {},
     "output_type": "execute_result"
    }
   ],
   "source": [
    "task_df"
   ]
  },
  {
   "cell_type": "markdown",
   "metadata": {},
   "source": [
    "## DataFrame task_performed"
   ]
  },
  {
   "cell_type": "code",
   "execution_count": 87,
   "metadata": {},
   "outputs": [
    {
     "data": {
      "text/plain": [
       "Index(['tas_id', 'tas_name'], dtype='object')"
      ]
     },
     "execution_count": 87,
     "metadata": {},
     "output_type": "execute_result"
    }
   ],
   "source": [
    "task_columns = pd.read_sql_query(\"select * from task;\", engine).columns\n",
    "task_columns    "
   ]
  },
  {
   "cell_type": "code",
   "execution_count": null,
   "metadata": {},
   "outputs": [],
   "source": []
  },
  {
   "cell_type": "code",
   "execution_count": null,
   "metadata": {},
   "outputs": [],
   "source": []
  },
  {
   "cell_type": "markdown",
   "metadata": {},
   "source": [
    "## DataFrame database_used"
   ]
  },
  {
   "cell_type": "code",
   "execution_count": 88,
   "metadata": {},
   "outputs": [],
   "source": [
    "\n",
    "database_used_df = survey_data['PrimaryDatabase']\n",
    "database_used_df.drop_duplicates(inplace=True)\n",
    "database_used_df = database_used_df.reset_index(drop=True)\n",
    "database_used_df.index +=1\n",
    "database_used_df = pd.DataFrame({\"db_name\" : database_used_df})\n",
    "database_used_df = database_used_df.rename_axis(index = \"db_id\")"
   ]
  },
  {
   "cell_type": "code",
   "execution_count": 89,
   "metadata": {},
   "outputs": [
    {
     "data": {
      "text/html": [
       "<div>\n",
       "<style scoped>\n",
       "    .dataframe tbody tr th:only-of-type {\n",
       "        vertical-align: middle;\n",
       "    }\n",
       "\n",
       "    .dataframe tbody tr th {\n",
       "        vertical-align: top;\n",
       "    }\n",
       "\n",
       "    .dataframe thead th {\n",
       "        text-align: right;\n",
       "    }\n",
       "</style>\n",
       "<table border=\"1\" class=\"dataframe\">\n",
       "  <thead>\n",
       "    <tr style=\"text-align: right;\">\n",
       "      <th></th>\n",
       "      <th>db_name</th>\n",
       "    </tr>\n",
       "    <tr>\n",
       "      <th>db_id</th>\n",
       "      <th></th>\n",
       "    </tr>\n",
       "  </thead>\n",
       "  <tbody>\n",
       "    <tr>\n",
       "      <th>1</th>\n",
       "      <td>Microsoft SQL Server</td>\n",
       "    </tr>\n",
       "    <tr>\n",
       "      <th>2</th>\n",
       "      <td>PostgreSQL</td>\n",
       "    </tr>\n",
       "    <tr>\n",
       "      <th>3</th>\n",
       "      <td>Other</td>\n",
       "    </tr>\n",
       "    <tr>\n",
       "      <th>4</th>\n",
       "      <td>Azure SQL DB</td>\n",
       "    </tr>\n",
       "    <tr>\n",
       "      <th>5</th>\n",
       "      <td>Microsoft Access</td>\n",
       "    </tr>\n",
       "    <tr>\n",
       "      <th>6</th>\n",
       "      <td>Oracle</td>\n",
       "    </tr>\n",
       "    <tr>\n",
       "      <th>7</th>\n",
       "      <td>MySQL/MariaDB</td>\n",
       "    </tr>\n",
       "    <tr>\n",
       "      <th>8</th>\n",
       "      <td>Amazon RDS (any flavor)</td>\n",
       "    </tr>\n",
       "    <tr>\n",
       "      <th>9</th>\n",
       "      <td>MongoDB</td>\n",
       "    </tr>\n",
       "    <tr>\n",
       "      <th>10</th>\n",
       "      <td>DB2</td>\n",
       "    </tr>\n",
       "    <tr>\n",
       "      <th>11</th>\n",
       "      <td>Cassandra</td>\n",
       "    </tr>\n",
       "    <tr>\n",
       "      <th>12</th>\n",
       "      <td>SQLite</td>\n",
       "    </tr>\n",
       "    <tr>\n",
       "      <th>13</th>\n",
       "      <td>SAP</td>\n",
       "    </tr>\n",
       "    <tr>\n",
       "      <th>14</th>\n",
       "      <td>Teradata</td>\n",
       "    </tr>\n",
       "    <tr>\n",
       "      <th>15</th>\n",
       "      <td>Elasticsearch</td>\n",
       "    </tr>\n",
       "  </tbody>\n",
       "</table>\n",
       "</div>"
      ],
      "text/plain": [
       "                       db_name\n",
       "db_id                         \n",
       "1         Microsoft SQL Server\n",
       "2                   PostgreSQL\n",
       "3                        Other\n",
       "4                 Azure SQL DB\n",
       "5             Microsoft Access\n",
       "6                       Oracle\n",
       "7                MySQL/MariaDB\n",
       "8      Amazon RDS (any flavor)\n",
       "9                      MongoDB\n",
       "10                         DB2\n",
       "11                   Cassandra\n",
       "12                      SQLite\n",
       "13                         SAP\n",
       "14                    Teradata\n",
       "15               Elasticsearch"
      ]
     },
     "execution_count": 89,
     "metadata": {},
     "output_type": "execute_result"
    }
   ],
   "source": [
    "database_used_df"
   ]
  },
  {
   "cell_type": "code",
   "execution_count": 90,
   "metadata": {},
   "outputs": [],
   "source": [
    "id_db = survey_data[\"PrimaryDatabase\"].apply(lambda x: database_used_df[database_used_df[\"db_name\"] == x].index[0])\n",
    "sondage_item_df[\"primary_db_id\"]= id_db.astype(pd.Int64Dtype())"
   ]
  },
  {
   "cell_type": "code",
   "execution_count": 91,
   "metadata": {},
   "outputs": [
    {
     "data": {
      "text/plain": [
       "6"
      ]
     },
     "execution_count": 91,
     "metadata": {},
     "output_type": "execute_result"
    }
   ],
   "source": [
    "#sondage_item_df = sondage_item_df.drop('db_id',axis=1)\n",
    "sondage_item_df[\"primary_db_id\"].iloc[10243]"
   ]
  },
  {
   "cell_type": "markdown",
   "metadata": {},
   "source": [
    "## DataFrame other_database"
   ]
  },
  {
   "cell_type": "code",
   "execution_count": 169,
   "metadata": {},
   "outputs": [],
   "source": [
    "other_database_columns = pd.read_sql_query(\"select * from other_database;\", engine).columns\n",
    "other_database_columns\n",
    "otherduties_df=pd.DataFrame(columns=other_duties_columns)"
   ]
  },
  {
   "cell_type": "code",
   "execution_count": 170,
   "metadata": {},
   "outputs": [
    {
     "data": {
      "text/html": [
       "<div>\n",
       "<style scoped>\n",
       "    .dataframe tbody tr th:only-of-type {\n",
       "        vertical-align: middle;\n",
       "    }\n",
       "\n",
       "    .dataframe tbody tr th {\n",
       "        vertical-align: top;\n",
       "    }\n",
       "\n",
       "    .dataframe thead th {\n",
       "        text-align: right;\n",
       "    }\n",
       "</style>\n",
       "<table border=\"1\" class=\"dataframe\">\n",
       "  <thead>\n",
       "    <tr style=\"text-align: right;\">\n",
       "      <th></th>\n",
       "      <th>timestamp</th>\n",
       "      <th>salary_usd</th>\n",
       "      <th>postal_code</th>\n",
       "      <th>years_with_db</th>\n",
       "      <th>manage_staff</th>\n",
       "      <th>years_with_job</th>\n",
       "      <th>other_people</th>\n",
       "      <th>company_employee</th>\n",
       "      <th>database_servers</th>\n",
       "      <th>education_computer</th>\n",
       "      <th>...</th>\n",
       "      <th>ctr_id</th>\n",
       "      <th>edu_id</th>\n",
       "      <th>sec_id</th>\n",
       "      <th>emp_id</th>\n",
       "      <th>mcp_id</th>\n",
       "      <th>pop_id</th>\n",
       "      <th>look_id</th>\n",
       "      <th>sdg_id</th>\n",
       "      <th>job_id</th>\n",
       "      <th>primary_db_id</th>\n",
       "    </tr>\n",
       "    <tr>\n",
       "      <th>sgi_id</th>\n",
       "      <th></th>\n",
       "      <th></th>\n",
       "      <th></th>\n",
       "      <th></th>\n",
       "      <th></th>\n",
       "      <th></th>\n",
       "      <th></th>\n",
       "      <th></th>\n",
       "      <th></th>\n",
       "      <th></th>\n",
       "      <th></th>\n",
       "      <th></th>\n",
       "      <th></th>\n",
       "      <th></th>\n",
       "      <th></th>\n",
       "      <th></th>\n",
       "      <th></th>\n",
       "      <th></th>\n",
       "      <th></th>\n",
       "      <th></th>\n",
       "      <th></th>\n",
       "    </tr>\n",
       "  </thead>\n",
       "  <tbody>\n",
       "    <tr>\n",
       "      <th>0</th>\n",
       "      <td>2020-12-10 08:22:42.696</td>\n",
       "      <td>65000.0</td>\n",
       "      <td>NaN</td>\n",
       "      <td>4</td>\n",
       "      <td>Yes</td>\n",
       "      <td>4</td>\n",
       "      <td>None</td>\n",
       "      <td>2</td>\n",
       "      <td>Not Asked</td>\n",
       "      <td>Not Asked</td>\n",
       "      <td>...</td>\n",
       "      <td>1</td>\n",
       "      <td>1</td>\n",
       "      <td>1</td>\n",
       "      <td>1</td>\n",
       "      <td>1</td>\n",
       "      <td>1</td>\n",
       "      <td>1</td>\n",
       "      <td>1</td>\n",
       "      <td>1</td>\n",
       "      <td>1</td>\n",
       "    </tr>\n",
       "    <tr>\n",
       "      <th>1</th>\n",
       "      <td>2020-12-10 08:23:22.242</td>\n",
       "      <td>145000.0</td>\n",
       "      <td>76063</td>\n",
       "      <td>15</td>\n",
       "      <td>No</td>\n",
       "      <td>25</td>\n",
       "      <td>None</td>\n",
       "      <td>74</td>\n",
       "      <td>Not Asked</td>\n",
       "      <td>Not Asked</td>\n",
       "      <td>...</td>\n",
       "      <td>2</td>\n",
       "      <td>1</td>\n",
       "      <td>1</td>\n",
       "      <td>1</td>\n",
       "      <td>2</td>\n",
       "      <td>2</td>\n",
       "      <td>1</td>\n",
       "      <td>1</td>\n",
       "      <td>2</td>\n",
       "      <td>1</td>\n",
       "    </tr>\n",
       "    <tr>\n",
       "      <th>2</th>\n",
       "      <td>2020-12-10 08:23:37.909</td>\n",
       "      <td>105000.0</td>\n",
       "      <td>43240</td>\n",
       "      <td>12</td>\n",
       "      <td>Yes</td>\n",
       "      <td>6</td>\n",
       "      <td>1</td>\n",
       "      <td>500</td>\n",
       "      <td>Not Asked</td>\n",
       "      <td>Not Asked</td>\n",
       "      <td>...</td>\n",
       "      <td>2</td>\n",
       "      <td>1</td>\n",
       "      <td>1</td>\n",
       "      <td>1</td>\n",
       "      <td>3</td>\n",
       "      <td>3</td>\n",
       "      <td>1</td>\n",
       "      <td>1</td>\n",
       "      <td>3</td>\n",
       "      <td>1</td>\n",
       "    </tr>\n",
       "    <tr>\n",
       "      <th>3</th>\n",
       "      <td>2020-12-10 08:23:48.152</td>\n",
       "      <td>46482.0</td>\n",
       "      <td>NaN</td>\n",
       "      <td>10</td>\n",
       "      <td>No</td>\n",
       "      <td>5</td>\n",
       "      <td>None</td>\n",
       "      <td>35</td>\n",
       "      <td>Not Asked</td>\n",
       "      <td>Not Asked</td>\n",
       "      <td>...</td>\n",
       "      <td>3</td>\n",
       "      <td>1</td>\n",
       "      <td>2</td>\n",
       "      <td>1</td>\n",
       "      <td>4</td>\n",
       "      <td>3</td>\n",
       "      <td>1</td>\n",
       "      <td>1</td>\n",
       "      <td>2</td>\n",
       "      <td>1</td>\n",
       "    </tr>\n",
       "    <tr>\n",
       "      <th>4</th>\n",
       "      <td>2020-12-10 08:24:03.600</td>\n",
       "      <td>98800.0</td>\n",
       "      <td>468</td>\n",
       "      <td>5</td>\n",
       "      <td>No</td>\n",
       "      <td>5</td>\n",
       "      <td>None</td>\n",
       "      <td>50</td>\n",
       "      <td>Not Asked</td>\n",
       "      <td>Not Asked</td>\n",
       "      <td>...</td>\n",
       "      <td>2</td>\n",
       "      <td>1</td>\n",
       "      <td>1</td>\n",
       "      <td>1</td>\n",
       "      <td>1</td>\n",
       "      <td>4</td>\n",
       "      <td>1</td>\n",
       "      <td>1</td>\n",
       "      <td>1</td>\n",
       "      <td>1</td>\n",
       "    </tr>\n",
       "    <tr>\n",
       "      <th>...</th>\n",
       "      <td>...</td>\n",
       "      <td>...</td>\n",
       "      <td>...</td>\n",
       "      <td>...</td>\n",
       "      <td>...</td>\n",
       "      <td>...</td>\n",
       "      <td>...</td>\n",
       "      <td>...</td>\n",
       "      <td>...</td>\n",
       "      <td>...</td>\n",
       "      <td>...</td>\n",
       "      <td>...</td>\n",
       "      <td>...</td>\n",
       "      <td>...</td>\n",
       "      <td>...</td>\n",
       "      <td>...</td>\n",
       "      <td>...</td>\n",
       "      <td>...</td>\n",
       "      <td>...</td>\n",
       "      <td>...</td>\n",
       "      <td>...</td>\n",
       "    </tr>\n",
       "    <tr>\n",
       "      <th>10336</th>\n",
       "      <td>2017-01-14 15:50:23.936</td>\n",
       "      <td>36549.0</td>\n",
       "      <td>Not Asked</td>\n",
       "      <td>3</td>\n",
       "      <td>No</td>\n",
       "      <td>1</td>\n",
       "      <td>1</td>\n",
       "      <td>Not Asked</td>\n",
       "      <td>42</td>\n",
       "      <td>NaN</td>\n",
       "      <td>...</td>\n",
       "      <td>3</td>\n",
       "      <td>3</td>\n",
       "      <td>1</td>\n",
       "      <td>1</td>\n",
       "      <td>7</td>\n",
       "      <td>6</td>\n",
       "      <td>2</td>\n",
       "      <td>5</td>\n",
       "      <td>13</td>\n",
       "      <td>1</td>\n",
       "    </tr>\n",
       "    <tr>\n",
       "      <th>10337</th>\n",
       "      <td>2017-01-15 01:01:21.212</td>\n",
       "      <td>65000.0</td>\n",
       "      <td>Not Asked</td>\n",
       "      <td>7</td>\n",
       "      <td>Yes</td>\n",
       "      <td>3</td>\n",
       "      <td>5</td>\n",
       "      <td>Not Asked</td>\n",
       "      <td>40</td>\n",
       "      <td>Yes</td>\n",
       "      <td>...</td>\n",
       "      <td>73</td>\n",
       "      <td>2</td>\n",
       "      <td>1</td>\n",
       "      <td>1</td>\n",
       "      <td>7</td>\n",
       "      <td>6</td>\n",
       "      <td>3</td>\n",
       "      <td>5</td>\n",
       "      <td>13</td>\n",
       "      <td>1</td>\n",
       "    </tr>\n",
       "    <tr>\n",
       "      <th>10338</th>\n",
       "      <td>2017-01-15 03:25:47.422</td>\n",
       "      <td>85000.0</td>\n",
       "      <td>Not Asked</td>\n",
       "      <td>17</td>\n",
       "      <td>No</td>\n",
       "      <td>17</td>\n",
       "      <td>1</td>\n",
       "      <td>Not Asked</td>\n",
       "      <td>200</td>\n",
       "      <td>No</td>\n",
       "      <td>...</td>\n",
       "      <td>28</td>\n",
       "      <td>2</td>\n",
       "      <td>1</td>\n",
       "      <td>1</td>\n",
       "      <td>7</td>\n",
       "      <td>6</td>\n",
       "      <td>3</td>\n",
       "      <td>5</td>\n",
       "      <td>11</td>\n",
       "      <td>1</td>\n",
       "    </tr>\n",
       "    <tr>\n",
       "      <th>10339</th>\n",
       "      <td>2017-01-15 03:37:35.305</td>\n",
       "      <td>90000.0</td>\n",
       "      <td>Not Asked</td>\n",
       "      <td>8</td>\n",
       "      <td>No</td>\n",
       "      <td>3</td>\n",
       "      <td>1</td>\n",
       "      <td>Not Asked</td>\n",
       "      <td>80</td>\n",
       "      <td>Yes</td>\n",
       "      <td>...</td>\n",
       "      <td>2</td>\n",
       "      <td>4</td>\n",
       "      <td>1</td>\n",
       "      <td>1</td>\n",
       "      <td>7</td>\n",
       "      <td>6</td>\n",
       "      <td>4</td>\n",
       "      <td>5</td>\n",
       "      <td>13</td>\n",
       "      <td>1</td>\n",
       "    </tr>\n",
       "    <tr>\n",
       "      <th>10340</th>\n",
       "      <td>2017-01-15 03:37:59.149</td>\n",
       "      <td>23000.0</td>\n",
       "      <td>Not Asked</td>\n",
       "      <td>4</td>\n",
       "      <td>No</td>\n",
       "      <td>9</td>\n",
       "      <td>3</td>\n",
       "      <td>Not Asked</td>\n",
       "      <td>10</td>\n",
       "      <td>Yes</td>\n",
       "      <td>...</td>\n",
       "      <td>18</td>\n",
       "      <td>3</td>\n",
       "      <td>1</td>\n",
       "      <td>1</td>\n",
       "      <td>7</td>\n",
       "      <td>6</td>\n",
       "      <td>3</td>\n",
       "      <td>5</td>\n",
       "      <td>7</td>\n",
       "      <td>1</td>\n",
       "    </tr>\n",
       "  </tbody>\n",
       "</table>\n",
       "<p>10341 rows × 27 columns</p>\n",
       "</div>"
      ],
      "text/plain": [
       "                     timestamp  salary_usd postal_code  years_with_db  \\\n",
       "sgi_id                                                                  \n",
       "0      2020-12-10 08:22:42.696     65000.0         NaN              4   \n",
       "1      2020-12-10 08:23:22.242    145000.0       76063             15   \n",
       "2      2020-12-10 08:23:37.909    105000.0       43240             12   \n",
       "3      2020-12-10 08:23:48.152     46482.0         NaN             10   \n",
       "4      2020-12-10 08:24:03.600     98800.0         468              5   \n",
       "...                        ...         ...         ...            ...   \n",
       "10336  2017-01-14 15:50:23.936     36549.0   Not Asked              3   \n",
       "10337  2017-01-15 01:01:21.212     65000.0   Not Asked              7   \n",
       "10338  2017-01-15 03:25:47.422     85000.0   Not Asked             17   \n",
       "10339  2017-01-15 03:37:35.305     90000.0   Not Asked              8   \n",
       "10340  2017-01-15 03:37:59.149     23000.0   Not Asked              4   \n",
       "\n",
       "       manage_staff  years_with_job other_people company_employee  \\\n",
       "sgi_id                                                              \n",
       "0               Yes               4         None                2   \n",
       "1                No              25         None               74   \n",
       "2               Yes               6            1              500   \n",
       "3                No               5         None               35   \n",
       "4                No               5         None               50   \n",
       "...             ...             ...          ...              ...   \n",
       "10336            No               1            1        Not Asked   \n",
       "10337           Yes               3            5        Not Asked   \n",
       "10338            No              17            1        Not Asked   \n",
       "10339            No               3            1        Not Asked   \n",
       "10340            No               9            3        Not Asked   \n",
       "\n",
       "       database_servers education_computer  ... ctr_id edu_id sec_id emp_id  \\\n",
       "sgi_id                                      ...                               \n",
       "0             Not Asked          Not Asked  ...      1      1      1      1   \n",
       "1             Not Asked          Not Asked  ...      2      1      1      1   \n",
       "2             Not Asked          Not Asked  ...      2      1      1      1   \n",
       "3             Not Asked          Not Asked  ...      3      1      2      1   \n",
       "4             Not Asked          Not Asked  ...      2      1      1      1   \n",
       "...                 ...                ...  ...    ...    ...    ...    ...   \n",
       "10336                42                NaN  ...      3      3      1      1   \n",
       "10337                40                Yes  ...     73      2      1      1   \n",
       "10338               200                 No  ...     28      2      1      1   \n",
       "10339                80                Yes  ...      2      4      1      1   \n",
       "10340                10                Yes  ...     18      3      1      1   \n",
       "\n",
       "       mcp_id  pop_id  look_id  sdg_id  job_id  primary_db_id  \n",
       "sgi_id                                                         \n",
       "0           1       1        1       1       1              1  \n",
       "1           2       2        1       1       2              1  \n",
       "2           3       3        1       1       3              1  \n",
       "3           4       3        1       1       2              1  \n",
       "4           1       4        1       1       1              1  \n",
       "...       ...     ...      ...     ...     ...            ...  \n",
       "10336       7       6        2       5      13              1  \n",
       "10337       7       6        3       5      13              1  \n",
       "10338       7       6        3       5      11              1  \n",
       "10339       7       6        4       5      13              1  \n",
       "10340       7       6        3       5       7              1  \n",
       "\n",
       "[10341 rows x 27 columns]"
      ]
     },
     "execution_count": 170,
     "metadata": {},
     "output_type": "execute_result"
    }
   ],
   "source": [
    "sondage_item_df"
   ]
  },
  {
   "cell_type": "code",
   "execution_count": 171,
   "metadata": {},
   "outputs": [],
   "source": [
    "job_df.index = job_df['job_name'].str.len()\n",
    "job_df = job_df.sort_index(ascending=False).reset_index(drop=True)"
   ]
  },
  {
   "cell_type": "code",
   "execution_count": 172,
   "metadata": {},
   "outputs": [
    {
     "data": {
      "text/html": [
       "<div>\n",
       "<style scoped>\n",
       "    .dataframe tbody tr th:only-of-type {\n",
       "        vertical-align: middle;\n",
       "    }\n",
       "\n",
       "    .dataframe tbody tr th {\n",
       "        vertical-align: top;\n",
       "    }\n",
       "\n",
       "    .dataframe thead th {\n",
       "        text-align: right;\n",
       "    }\n",
       "</style>\n",
       "<table border=\"1\" class=\"dataframe\">\n",
       "  <thead>\n",
       "    <tr style=\"text-align: right;\">\n",
       "      <th></th>\n",
       "      <th>job_name</th>\n",
       "      <th>job_id</th>\n",
       "    </tr>\n",
       "  </thead>\n",
       "  <tbody>\n",
       "    <tr>\n",
       "      <th>0</th>\n",
       "      <td>DBA (General - splits time evenly between writ...</td>\n",
       "      <td>3</td>\n",
       "    </tr>\n",
       "    <tr>\n",
       "      <th>1</th>\n",
       "      <td>DBA (Development Focus - tunes queries, indexe...</td>\n",
       "      <td>8</td>\n",
       "    </tr>\n",
       "    <tr>\n",
       "      <th>2</th>\n",
       "      <td>DBA (Production Focus - build &amp; troubleshoot s...</td>\n",
       "      <td>2</td>\n",
       "    </tr>\n",
       "    <tr>\n",
       "      <th>3</th>\n",
       "      <td>Developer: Business Intelligence (SSRS, PowerB...</td>\n",
       "      <td>1</td>\n",
       "    </tr>\n",
       "    <tr>\n",
       "      <th>4</th>\n",
       "      <td>Developer: App code (C#, JS, etc)</td>\n",
       "      <td>5</td>\n",
       "    </tr>\n",
       "    <tr>\n",
       "      <th>5</th>\n",
       "      <td>DevOps, Sr Software Engineer DBA</td>\n",
       "      <td>15</td>\n",
       "    </tr>\n",
       "    <tr>\n",
       "      <th>6</th>\n",
       "      <td>Principal database engineer</td>\n",
       "      <td>14</td>\n",
       "    </tr>\n",
       "    <tr>\n",
       "      <th>7</th>\n",
       "      <td>Systems Administrator</td>\n",
       "      <td>19</td>\n",
       "    </tr>\n",
       "    <tr>\n",
       "      <th>8</th>\n",
       "      <td>Analytics consultant</td>\n",
       "      <td>23</td>\n",
       "    </tr>\n",
       "    <tr>\n",
       "      <th>9</th>\n",
       "      <td>Database Specialist</td>\n",
       "      <td>17</td>\n",
       "    </tr>\n",
       "    <tr>\n",
       "      <th>10</th>\n",
       "      <td>DBA / BI Developer</td>\n",
       "      <td>21</td>\n",
       "    </tr>\n",
       "    <tr>\n",
       "      <th>11</th>\n",
       "      <td>Developer: T-SQL</td>\n",
       "      <td>6</td>\n",
       "    </tr>\n",
       "    <tr>\n",
       "      <th>12</th>\n",
       "      <td>Sr Consultant</td>\n",
       "      <td>22</td>\n",
       "    </tr>\n",
       "    <tr>\n",
       "      <th>13</th>\n",
       "      <td>Data Scientist</td>\n",
       "      <td>12</td>\n",
       "    </tr>\n",
       "    <tr>\n",
       "      <th>14</th>\n",
       "      <td>Technician</td>\n",
       "      <td>16</td>\n",
       "    </tr>\n",
       "    <tr>\n",
       "      <th>15</th>\n",
       "      <td>Consultant</td>\n",
       "      <td>18</td>\n",
       "    </tr>\n",
       "    <tr>\n",
       "      <th>16</th>\n",
       "      <td>Architect</td>\n",
       "      <td>7</td>\n",
       "    </tr>\n",
       "    <tr>\n",
       "      <th>17</th>\n",
       "      <td>Engineer</td>\n",
       "      <td>9</td>\n",
       "    </tr>\n",
       "    <tr>\n",
       "      <th>18</th>\n",
       "      <td>Analyst</td>\n",
       "      <td>10</td>\n",
       "    </tr>\n",
       "    <tr>\n",
       "      <th>19</th>\n",
       "      <td>Manager</td>\n",
       "      <td>4</td>\n",
       "    </tr>\n",
       "    <tr>\n",
       "      <th>20</th>\n",
       "      <td>Other</td>\n",
       "      <td>11</td>\n",
       "    </tr>\n",
       "    <tr>\n",
       "      <th>21</th>\n",
       "      <td>Sales</td>\n",
       "      <td>20</td>\n",
       "    </tr>\n",
       "    <tr>\n",
       "      <th>22</th>\n",
       "      <td>DBA</td>\n",
       "      <td>13</td>\n",
       "    </tr>\n",
       "  </tbody>\n",
       "</table>\n",
       "</div>"
      ],
      "text/plain": [
       "                                             job_name  job_id\n",
       "0   DBA (General - splits time evenly between writ...       3\n",
       "1   DBA (Development Focus - tunes queries, indexe...       8\n",
       "2   DBA (Production Focus - build & troubleshoot s...       2\n",
       "3   Developer: Business Intelligence (SSRS, PowerB...       1\n",
       "4                   Developer: App code (C#, JS, etc)       5\n",
       "5                    DevOps, Sr Software Engineer DBA      15\n",
       "6                         Principal database engineer      14\n",
       "7                               Systems Administrator      19\n",
       "8                                Analytics consultant      23\n",
       "9                                 Database Specialist      17\n",
       "10                                 DBA / BI Developer      21\n",
       "11                                   Developer: T-SQL       6\n",
       "12                                     Sr Consultant       22\n",
       "13                                     Data Scientist      12\n",
       "14                                        Technician       16\n",
       "15                                         Consultant      18\n",
       "16                                          Architect       7\n",
       "17                                           Engineer       9\n",
       "18                                            Analyst      10\n",
       "19                                            Manager       4\n",
       "20                                              Other      11\n",
       "21                                              Sales      20\n",
       "22                                                DBA      13"
      ]
     },
     "execution_count": 172,
     "metadata": {},
     "output_type": "execute_result"
    }
   ],
   "source": [
    "job_df"
   ]
  },
  {
   "cell_type": "code",
   "execution_count": 173,
   "metadata": {},
   "outputs": [],
   "source": [
    "#x=DBA (Development Focus - tunes queries, indexes, does deployments), DBA (General - splits time evenly between writing & tuning queries AND building & troubleshooting servers), Developer: T-SQL\n",
    "def other_job(x):\n",
    "    if isinstance(x,float):\n",
    "        return None\n",
    "    for key in range(job_df.shape[0]):\n",
    "        job = job_df.iloc[key]\n",
    "        x=str(x).replace(job[\"job_name\"],str(job[\"job_id\"]))\n",
    "    return x\n",
    "otherduties_df['job_id']=survey_data['OtherJobDuties'].apply(other_job)"
   ]
  },
  {
   "cell_type": "code",
   "execution_count": 174,
   "metadata": {},
   "outputs": [],
   "source": [
    "\n",
    "otherduties_df['sgi_id']=otherduties_df.index+1"
   ]
  },
  {
   "cell_type": "code",
   "execution_count": 175,
   "metadata": {},
   "outputs": [
    {
     "name": "stderr",
     "output_type": "stream",
     "text": [
      "<ipython-input-175-2c4a1909eeaa>:1: SettingWithCopyWarning: \n",
      "A value is trying to be set on a copy of a slice from a DataFrame\n",
      "\n",
      "See the caveats in the documentation: https://pandas.pydata.org/pandas-docs/stable/user_guide/indexing.html#returning-a-view-versus-a-copy\n",
      "  otherduties_df['job_id'][otherduties_df['job_id']=='Not Asked']=None\n"
     ]
    }
   ],
   "source": [
    "otherduties_df['job_id'][otherduties_df['job_id']=='Not Asked']=None\n"
   ]
  },
  {
   "cell_type": "code",
   "execution_count": 179,
   "metadata": {},
   "outputs": [],
   "source": [
    "otherduties_df = otherduties_df[otherduties_df['job_id'].isna()!= True]"
   ]
  },
  {
   "cell_type": "code",
   "execution_count": 180,
   "metadata": {},
   "outputs": [
    {
     "data": {
      "text/html": [
       "<div>\n",
       "<style scoped>\n",
       "    .dataframe tbody tr th:only-of-type {\n",
       "        vertical-align: middle;\n",
       "    }\n",
       "\n",
       "    .dataframe tbody tr th {\n",
       "        vertical-align: top;\n",
       "    }\n",
       "\n",
       "    .dataframe thead th {\n",
       "        text-align: right;\n",
       "    }\n",
       "</style>\n",
       "<table border=\"1\" class=\"dataframe\">\n",
       "  <thead>\n",
       "    <tr style=\"text-align: right;\">\n",
       "      <th></th>\n",
       "      <th>job_id</th>\n",
       "      <th>sgi_id</th>\n",
       "    </tr>\n",
       "  </thead>\n",
       "  <tbody>\n",
       "    <tr>\n",
       "      <th>3470</th>\n",
       "      <td>8, 2, 6</td>\n",
       "      <td>3471</td>\n",
       "    </tr>\n",
       "    <tr>\n",
       "      <th>3471</th>\n",
       "      <td>4</td>\n",
       "      <td>3472</td>\n",
       "    </tr>\n",
       "    <tr>\n",
       "      <th>3472</th>\n",
       "      <td>2</td>\n",
       "      <td>3473</td>\n",
       "    </tr>\n",
       "    <tr>\n",
       "      <th>3473</th>\n",
       "      <td>7, 8, 3</td>\n",
       "      <td>3474</td>\n",
       "    </tr>\n",
       "    <tr>\n",
       "      <th>3474</th>\n",
       "      <td>8</td>\n",
       "      <td>3475</td>\n",
       "    </tr>\n",
       "    <tr>\n",
       "      <th>...</th>\n",
       "      <td>...</td>\n",
       "      <td>...</td>\n",
       "    </tr>\n",
       "    <tr>\n",
       "      <th>7438</th>\n",
       "      <td>6</td>\n",
       "      <td>7439</td>\n",
       "    </tr>\n",
       "    <tr>\n",
       "      <th>7439</th>\n",
       "      <td>7</td>\n",
       "      <td>7440</td>\n",
       "    </tr>\n",
       "    <tr>\n",
       "      <th>7440</th>\n",
       "      <td>7, 1, 6, 4</td>\n",
       "      <td>7441</td>\n",
       "    </tr>\n",
       "    <tr>\n",
       "      <th>7441</th>\n",
       "      <td>8, 3, 6, 4</td>\n",
       "      <td>7442</td>\n",
       "    </tr>\n",
       "    <tr>\n",
       "      <th>7442</th>\n",
       "      <td>7, 3</td>\n",
       "      <td>7443</td>\n",
       "    </tr>\n",
       "  </tbody>\n",
       "</table>\n",
       "<p>3355 rows × 2 columns</p>\n",
       "</div>"
      ],
      "text/plain": [
       "          job_id  sgi_id\n",
       "3470     8, 2, 6    3471\n",
       "3471           4    3472\n",
       "3472           2    3473\n",
       "3473     7, 8, 3    3474\n",
       "3474           8    3475\n",
       "...          ...     ...\n",
       "7438           6    7439\n",
       "7439           7    7440\n",
       "7440  7, 1, 6, 4    7441\n",
       "7441  8, 3, 6, 4    7442\n",
       "7442        7, 3    7443\n",
       "\n",
       "[3355 rows x 2 columns]"
      ]
     },
     "execution_count": 180,
     "metadata": {},
     "output_type": "execute_result"
    }
   ],
   "source": [
    "otherduties_df"
   ]
  },
  {
   "cell_type": "code",
   "execution_count": 100,
   "metadata": {},
   "outputs": [],
   "source": [
    "#otherduties_df.to_sql(\"other_duties\",if_exists=\"append\", con=engine, index=False)"
   ]
  },
  {
   "cell_type": "markdown",
   "metadata": {},
   "source": [
    "## DataFrame sondage_item"
   ]
  },
  {
   "cell_type": "code",
   "execution_count": 100,
   "metadata": {},
   "outputs": [
    {
     "data": {
      "text/html": [
       "<div>\n",
       "<style scoped>\n",
       "    .dataframe tbody tr th:only-of-type {\n",
       "        vertical-align: middle;\n",
       "    }\n",
       "\n",
       "    .dataframe tbody tr th {\n",
       "        vertical-align: top;\n",
       "    }\n",
       "\n",
       "    .dataframe thead th {\n",
       "        text-align: right;\n",
       "    }\n",
       "</style>\n",
       "<table border=\"1\" class=\"dataframe\">\n",
       "  <thead>\n",
       "    <tr style=\"text-align: right;\">\n",
       "      <th></th>\n",
       "      <th>timestamp</th>\n",
       "      <th>salary_usd</th>\n",
       "      <th>postal_code</th>\n",
       "      <th>years_with_db</th>\n",
       "      <th>manage_staff</th>\n",
       "      <th>years_with_job</th>\n",
       "      <th>other_people</th>\n",
       "      <th>company_employee</th>\n",
       "      <th>database_servers</th>\n",
       "      <th>education_computer</th>\n",
       "      <th>...</th>\n",
       "      <th>ctr_id</th>\n",
       "      <th>edu_id</th>\n",
       "      <th>sec_id</th>\n",
       "      <th>emp_id</th>\n",
       "      <th>mcp_id</th>\n",
       "      <th>pop_id</th>\n",
       "      <th>look_id</th>\n",
       "      <th>sdg_id</th>\n",
       "      <th>job_id</th>\n",
       "      <th>primary_db_id</th>\n",
       "    </tr>\n",
       "    <tr>\n",
       "      <th>sgi_id</th>\n",
       "      <th></th>\n",
       "      <th></th>\n",
       "      <th></th>\n",
       "      <th></th>\n",
       "      <th></th>\n",
       "      <th></th>\n",
       "      <th></th>\n",
       "      <th></th>\n",
       "      <th></th>\n",
       "      <th></th>\n",
       "      <th></th>\n",
       "      <th></th>\n",
       "      <th></th>\n",
       "      <th></th>\n",
       "      <th></th>\n",
       "      <th></th>\n",
       "      <th></th>\n",
       "      <th></th>\n",
       "      <th></th>\n",
       "      <th></th>\n",
       "      <th></th>\n",
       "    </tr>\n",
       "  </thead>\n",
       "  <tbody>\n",
       "    <tr>\n",
       "      <th>0</th>\n",
       "      <td>2020-12-10 08:22:42.696</td>\n",
       "      <td>65000.0</td>\n",
       "      <td>NaN</td>\n",
       "      <td>4</td>\n",
       "      <td>Yes</td>\n",
       "      <td>4</td>\n",
       "      <td>None</td>\n",
       "      <td>2</td>\n",
       "      <td>Not Asked</td>\n",
       "      <td>Not Asked</td>\n",
       "      <td>...</td>\n",
       "      <td>1</td>\n",
       "      <td>1</td>\n",
       "      <td>1</td>\n",
       "      <td>1</td>\n",
       "      <td>1</td>\n",
       "      <td>1</td>\n",
       "      <td>1</td>\n",
       "      <td>1</td>\n",
       "      <td>1</td>\n",
       "      <td>1</td>\n",
       "    </tr>\n",
       "    <tr>\n",
       "      <th>1</th>\n",
       "      <td>2020-12-10 08:23:22.242</td>\n",
       "      <td>145000.0</td>\n",
       "      <td>76063</td>\n",
       "      <td>15</td>\n",
       "      <td>No</td>\n",
       "      <td>25</td>\n",
       "      <td>None</td>\n",
       "      <td>74</td>\n",
       "      <td>Not Asked</td>\n",
       "      <td>Not Asked</td>\n",
       "      <td>...</td>\n",
       "      <td>2</td>\n",
       "      <td>1</td>\n",
       "      <td>1</td>\n",
       "      <td>1</td>\n",
       "      <td>2</td>\n",
       "      <td>2</td>\n",
       "      <td>1</td>\n",
       "      <td>1</td>\n",
       "      <td>2</td>\n",
       "      <td>1</td>\n",
       "    </tr>\n",
       "    <tr>\n",
       "      <th>2</th>\n",
       "      <td>2020-12-10 08:23:37.909</td>\n",
       "      <td>105000.0</td>\n",
       "      <td>43240</td>\n",
       "      <td>12</td>\n",
       "      <td>Yes</td>\n",
       "      <td>6</td>\n",
       "      <td>1</td>\n",
       "      <td>500</td>\n",
       "      <td>Not Asked</td>\n",
       "      <td>Not Asked</td>\n",
       "      <td>...</td>\n",
       "      <td>2</td>\n",
       "      <td>1</td>\n",
       "      <td>1</td>\n",
       "      <td>1</td>\n",
       "      <td>3</td>\n",
       "      <td>3</td>\n",
       "      <td>1</td>\n",
       "      <td>1</td>\n",
       "      <td>3</td>\n",
       "      <td>1</td>\n",
       "    </tr>\n",
       "    <tr>\n",
       "      <th>3</th>\n",
       "      <td>2020-12-10 08:23:48.152</td>\n",
       "      <td>46482.0</td>\n",
       "      <td>NaN</td>\n",
       "      <td>10</td>\n",
       "      <td>No</td>\n",
       "      <td>5</td>\n",
       "      <td>None</td>\n",
       "      <td>35</td>\n",
       "      <td>Not Asked</td>\n",
       "      <td>Not Asked</td>\n",
       "      <td>...</td>\n",
       "      <td>3</td>\n",
       "      <td>1</td>\n",
       "      <td>2</td>\n",
       "      <td>1</td>\n",
       "      <td>4</td>\n",
       "      <td>3</td>\n",
       "      <td>1</td>\n",
       "      <td>1</td>\n",
       "      <td>2</td>\n",
       "      <td>1</td>\n",
       "    </tr>\n",
       "    <tr>\n",
       "      <th>4</th>\n",
       "      <td>2020-12-10 08:24:03.600</td>\n",
       "      <td>98800.0</td>\n",
       "      <td>468</td>\n",
       "      <td>5</td>\n",
       "      <td>No</td>\n",
       "      <td>5</td>\n",
       "      <td>None</td>\n",
       "      <td>50</td>\n",
       "      <td>Not Asked</td>\n",
       "      <td>Not Asked</td>\n",
       "      <td>...</td>\n",
       "      <td>2</td>\n",
       "      <td>1</td>\n",
       "      <td>1</td>\n",
       "      <td>1</td>\n",
       "      <td>1</td>\n",
       "      <td>4</td>\n",
       "      <td>1</td>\n",
       "      <td>1</td>\n",
       "      <td>1</td>\n",
       "      <td>1</td>\n",
       "    </tr>\n",
       "    <tr>\n",
       "      <th>...</th>\n",
       "      <td>...</td>\n",
       "      <td>...</td>\n",
       "      <td>...</td>\n",
       "      <td>...</td>\n",
       "      <td>...</td>\n",
       "      <td>...</td>\n",
       "      <td>...</td>\n",
       "      <td>...</td>\n",
       "      <td>...</td>\n",
       "      <td>...</td>\n",
       "      <td>...</td>\n",
       "      <td>...</td>\n",
       "      <td>...</td>\n",
       "      <td>...</td>\n",
       "      <td>...</td>\n",
       "      <td>...</td>\n",
       "      <td>...</td>\n",
       "      <td>...</td>\n",
       "      <td>...</td>\n",
       "      <td>...</td>\n",
       "      <td>...</td>\n",
       "    </tr>\n",
       "    <tr>\n",
       "      <th>10336</th>\n",
       "      <td>2017-01-14 15:50:23.936</td>\n",
       "      <td>36549.0</td>\n",
       "      <td>Not Asked</td>\n",
       "      <td>3</td>\n",
       "      <td>No</td>\n",
       "      <td>1</td>\n",
       "      <td>1</td>\n",
       "      <td>Not Asked</td>\n",
       "      <td>42</td>\n",
       "      <td>NaN</td>\n",
       "      <td>...</td>\n",
       "      <td>3</td>\n",
       "      <td>3</td>\n",
       "      <td>1</td>\n",
       "      <td>1</td>\n",
       "      <td>7</td>\n",
       "      <td>6</td>\n",
       "      <td>2</td>\n",
       "      <td>5</td>\n",
       "      <td>13</td>\n",
       "      <td>1</td>\n",
       "    </tr>\n",
       "    <tr>\n",
       "      <th>10337</th>\n",
       "      <td>2017-01-15 01:01:21.212</td>\n",
       "      <td>65000.0</td>\n",
       "      <td>Not Asked</td>\n",
       "      <td>7</td>\n",
       "      <td>Yes</td>\n",
       "      <td>3</td>\n",
       "      <td>5</td>\n",
       "      <td>Not Asked</td>\n",
       "      <td>40</td>\n",
       "      <td>Yes</td>\n",
       "      <td>...</td>\n",
       "      <td>73</td>\n",
       "      <td>2</td>\n",
       "      <td>1</td>\n",
       "      <td>1</td>\n",
       "      <td>7</td>\n",
       "      <td>6</td>\n",
       "      <td>3</td>\n",
       "      <td>5</td>\n",
       "      <td>13</td>\n",
       "      <td>1</td>\n",
       "    </tr>\n",
       "    <tr>\n",
       "      <th>10338</th>\n",
       "      <td>2017-01-15 03:25:47.422</td>\n",
       "      <td>85000.0</td>\n",
       "      <td>Not Asked</td>\n",
       "      <td>17</td>\n",
       "      <td>No</td>\n",
       "      <td>17</td>\n",
       "      <td>1</td>\n",
       "      <td>Not Asked</td>\n",
       "      <td>200</td>\n",
       "      <td>No</td>\n",
       "      <td>...</td>\n",
       "      <td>28</td>\n",
       "      <td>2</td>\n",
       "      <td>1</td>\n",
       "      <td>1</td>\n",
       "      <td>7</td>\n",
       "      <td>6</td>\n",
       "      <td>3</td>\n",
       "      <td>5</td>\n",
       "      <td>11</td>\n",
       "      <td>1</td>\n",
       "    </tr>\n",
       "    <tr>\n",
       "      <th>10339</th>\n",
       "      <td>2017-01-15 03:37:35.305</td>\n",
       "      <td>90000.0</td>\n",
       "      <td>Not Asked</td>\n",
       "      <td>8</td>\n",
       "      <td>No</td>\n",
       "      <td>3</td>\n",
       "      <td>1</td>\n",
       "      <td>Not Asked</td>\n",
       "      <td>80</td>\n",
       "      <td>Yes</td>\n",
       "      <td>...</td>\n",
       "      <td>2</td>\n",
       "      <td>4</td>\n",
       "      <td>1</td>\n",
       "      <td>1</td>\n",
       "      <td>7</td>\n",
       "      <td>6</td>\n",
       "      <td>4</td>\n",
       "      <td>5</td>\n",
       "      <td>13</td>\n",
       "      <td>1</td>\n",
       "    </tr>\n",
       "    <tr>\n",
       "      <th>10340</th>\n",
       "      <td>2017-01-15 03:37:59.149</td>\n",
       "      <td>23000.0</td>\n",
       "      <td>Not Asked</td>\n",
       "      <td>4</td>\n",
       "      <td>No</td>\n",
       "      <td>9</td>\n",
       "      <td>3</td>\n",
       "      <td>Not Asked</td>\n",
       "      <td>10</td>\n",
       "      <td>Yes</td>\n",
       "      <td>...</td>\n",
       "      <td>18</td>\n",
       "      <td>3</td>\n",
       "      <td>1</td>\n",
       "      <td>1</td>\n",
       "      <td>7</td>\n",
       "      <td>6</td>\n",
       "      <td>3</td>\n",
       "      <td>5</td>\n",
       "      <td>7</td>\n",
       "      <td>1</td>\n",
       "    </tr>\n",
       "  </tbody>\n",
       "</table>\n",
       "<p>10341 rows × 27 columns</p>\n",
       "</div>"
      ],
      "text/plain": [
       "                     timestamp  salary_usd postal_code  years_with_db  \\\n",
       "sgi_id                                                                  \n",
       "0      2020-12-10 08:22:42.696     65000.0         NaN              4   \n",
       "1      2020-12-10 08:23:22.242    145000.0       76063             15   \n",
       "2      2020-12-10 08:23:37.909    105000.0       43240             12   \n",
       "3      2020-12-10 08:23:48.152     46482.0         NaN             10   \n",
       "4      2020-12-10 08:24:03.600     98800.0         468              5   \n",
       "...                        ...         ...         ...            ...   \n",
       "10336  2017-01-14 15:50:23.936     36549.0   Not Asked              3   \n",
       "10337  2017-01-15 01:01:21.212     65000.0   Not Asked              7   \n",
       "10338  2017-01-15 03:25:47.422     85000.0   Not Asked             17   \n",
       "10339  2017-01-15 03:37:35.305     90000.0   Not Asked              8   \n",
       "10340  2017-01-15 03:37:59.149     23000.0   Not Asked              4   \n",
       "\n",
       "       manage_staff  years_with_job other_people company_employee  \\\n",
       "sgi_id                                                              \n",
       "0               Yes               4         None                2   \n",
       "1                No              25         None               74   \n",
       "2               Yes               6            1              500   \n",
       "3                No               5         None               35   \n",
       "4                No               5         None               50   \n",
       "...             ...             ...          ...              ...   \n",
       "10336            No               1            1        Not Asked   \n",
       "10337           Yes               3            5        Not Asked   \n",
       "10338            No              17            1        Not Asked   \n",
       "10339            No               3            1        Not Asked   \n",
       "10340            No               9            3        Not Asked   \n",
       "\n",
       "       database_servers education_computer  ... ctr_id edu_id sec_id emp_id  \\\n",
       "sgi_id                                      ...                               \n",
       "0             Not Asked          Not Asked  ...      1      1      1      1   \n",
       "1             Not Asked          Not Asked  ...      2      1      1      1   \n",
       "2             Not Asked          Not Asked  ...      2      1      1      1   \n",
       "3             Not Asked          Not Asked  ...      3      1      2      1   \n",
       "4             Not Asked          Not Asked  ...      2      1      1      1   \n",
       "...                 ...                ...  ...    ...    ...    ...    ...   \n",
       "10336                42                NaN  ...      3      3      1      1   \n",
       "10337                40                Yes  ...     73      2      1      1   \n",
       "10338               200                 No  ...     28      2      1      1   \n",
       "10339                80                Yes  ...      2      4      1      1   \n",
       "10340                10                Yes  ...     18      3      1      1   \n",
       "\n",
       "       mcp_id  pop_id  look_id  sdg_id  job_id  primary_db_id  \n",
       "sgi_id                                                         \n",
       "0           1       1        1       1       1              1  \n",
       "1           2       2        1       1       2              1  \n",
       "2           3       3        1       1       3              1  \n",
       "3           4       3        1       1       2              1  \n",
       "4           1       4        1       1       1              1  \n",
       "...       ...     ...      ...     ...     ...            ...  \n",
       "10336       7       6        2       5      13              1  \n",
       "10337       7       6        3       5      13              1  \n",
       "10338       7       6        3       5      11              1  \n",
       "10339       7       6        4       5      13              1  \n",
       "10340       7       6        3       5       7              1  \n",
       "\n",
       "[10341 rows x 27 columns]"
      ]
     },
     "execution_count": 100,
     "metadata": {},
     "output_type": "execute_result"
    }
   ],
   "source": [
    "sondage_item_df"
   ]
  },
  {
   "cell_type": "code",
   "execution_count": 92,
   "metadata": {},
   "outputs": [
    {
     "data": {
      "text/plain": [
       "timestamp             2020-12-10 08:22:42.696000\n",
       "salary_usd                                 65000\n",
       "postal_code                                  NaN\n",
       "years_with_db                                  4\n",
       "manage_staff                                 Yes\n",
       "years_with_job                                 4\n",
       "other_people                                None\n",
       "company_employee                               2\n",
       "database_servers                       Not Asked\n",
       "education_computer                     Not Asked\n",
       "hours_worked                           Not Asked\n",
       "telecommute                            Not Asked\n",
       "newest_version                   SQL Server 2016\n",
       "oldest_version                   SQL Server 2016\n",
       "gender                                      Male\n",
       "cap_id                                         1\n",
       "cert_id                                        1\n",
       "ctr_id                                         1\n",
       "edu_id                                         1\n",
       "sec_id                                         1\n",
       "emp_id                                         1\n",
       "mcp_id                                         1\n",
       "pop_id                                         1\n",
       "look_id                                        1\n",
       "sdg_id                                         1\n",
       "job_id                                         1\n",
       "primary_db_id                                  1\n",
       "Name: 0, dtype: object"
      ]
     },
     "execution_count": 92,
     "metadata": {},
     "output_type": "execute_result"
    }
   ],
   "source": [
    "sondage_item_df.iloc[0]"
   ]
  },
  {
   "cell_type": "code",
   "execution_count": 93,
   "metadata": {},
   "outputs": [
    {
     "data": {
      "text/plain": [
       "timestamp                    2018-12-11 06:22:55.508000\n",
       "salary_usd                                        52922\n",
       "postal_code                                         NaN\n",
       "years_with_db                                         4\n",
       "manage_staff                                        Yes\n",
       "years_with_job                                        2\n",
       "other_people                                          2\n",
       "company_employee                                   6-99\n",
       "database_servers                                      8\n",
       "education_computer                                  Yes\n",
       "hours_worked                                         38\n",
       "telecommute           None, or less than 1 day per week\n",
       "newest_version                                Not Asked\n",
       "oldest_version                                Not Asked\n",
       "gender                                             Male\n",
       "cap_id                                                1\n",
       "cert_id                                               2\n",
       "ctr_id                                                3\n",
       "edu_id                                                2\n",
       "sec_id                                                1\n",
       "emp_id                                                1\n",
       "mcp_id                                                4\n",
       "pop_id                                                3\n",
       "look_id                                               2\n",
       "sdg_id                                                3\n",
       "job_id                                                8\n",
       "primary_db_id                                         1\n",
       "Name: 3471, dtype: object"
      ]
     },
     "execution_count": 93,
     "metadata": {},
     "output_type": "execute_result"
    }
   ],
   "source": [
    "sondage_item_df.iloc[3471]"
   ]
  },
  {
   "cell_type": "code",
   "execution_count": 101,
   "metadata": {},
   "outputs": [
    {
     "data": {
      "text/html": [
       "<div>\n",
       "<style scoped>\n",
       "    .dataframe tbody tr th:only-of-type {\n",
       "        vertical-align: middle;\n",
       "    }\n",
       "\n",
       "    .dataframe tbody tr th {\n",
       "        vertical-align: top;\n",
       "    }\n",
       "\n",
       "    .dataframe thead th {\n",
       "        text-align: right;\n",
       "    }\n",
       "</style>\n",
       "<table border=\"1\" class=\"dataframe\">\n",
       "  <thead>\n",
       "    <tr style=\"text-align: right;\">\n",
       "      <th></th>\n",
       "      <th>mcp_many_companies</th>\n",
       "    </tr>\n",
       "    <tr>\n",
       "      <th>mcp_id</th>\n",
       "      <th></th>\n",
       "    </tr>\n",
       "  </thead>\n",
       "  <tbody>\n",
       "    <tr>\n",
       "      <th>1</th>\n",
       "      <td>1 (this is the only company where I've had thi...</td>\n",
       "    </tr>\n",
       "    <tr>\n",
       "      <th>2</th>\n",
       "      <td>5</td>\n",
       "    </tr>\n",
       "    <tr>\n",
       "      <th>3</th>\n",
       "      <td>4</td>\n",
       "    </tr>\n",
       "    <tr>\n",
       "      <th>4</th>\n",
       "      <td>2 (I worked at another similar position elsewh...</td>\n",
       "    </tr>\n",
       "    <tr>\n",
       "      <th>5</th>\n",
       "      <td>3</td>\n",
       "    </tr>\n",
       "    <tr>\n",
       "      <th>6</th>\n",
       "      <td>6 or more</td>\n",
       "    </tr>\n",
       "    <tr>\n",
       "      <th>7</th>\n",
       "      <td>Not Asked</td>\n",
       "    </tr>\n",
       "  </tbody>\n",
       "</table>\n",
       "</div>"
      ],
      "text/plain": [
       "                                       mcp_many_companies\n",
       "mcp_id                                                   \n",
       "1       1 (this is the only company where I've had thi...\n",
       "2                                                       5\n",
       "3                                                       4\n",
       "4       2 (I worked at another similar position elsewh...\n",
       "5                                                       3\n",
       "6                                               6 or more\n",
       "7                                               Not Asked"
      ]
     },
     "execution_count": 101,
     "metadata": {},
     "output_type": "execute_result"
    }
   ],
   "source": [
    "how_many_companies"
   ]
  },
  {
   "cell_type": "code",
   "execution_count": 308,
   "metadata": {},
   "outputs": [],
   "source": [
    "#employment_status_df.to_sql(\"employment_status\",if_exists=\"append\", con=engine, index=False)\n",
    "#OK"
   ]
  },
  {
   "cell_type": "code",
   "execution_count": 319,
   "metadata": {},
   "outputs": [],
   "source": [
    "#carreer_plan_df.to_sql(\"carreer_plan\",if_exists=\"append\", con=engine, index=False)\n",
    "#OK"
   ]
  },
  {
   "cell_type": "code",
   "execution_count": 103,
   "metadata": {},
   "outputs": [],
   "source": [
    "#how_many_companies.to_sql(\"how_many_companies\",if_exists=\"append\", con=engine, index=False)\n",
    "#OK"
   ]
  },
  {
   "cell_type": "code",
   "execution_count": 106,
   "metadata": {},
   "outputs": [],
   "source": [
    "#certification_df.to_sql(\"certification\",if_exists=\"append\", con=engine, index=False)\n",
    "#OK"
   ]
  },
  {
   "cell_type": "code",
   "execution_count": 113,
   "metadata": {},
   "outputs": [
    {
     "data": {
      "text/html": [
       "<div>\n",
       "<style scoped>\n",
       "    .dataframe tbody tr th:only-of-type {\n",
       "        vertical-align: middle;\n",
       "    }\n",
       "\n",
       "    .dataframe tbody tr th {\n",
       "        vertical-align: top;\n",
       "    }\n",
       "\n",
       "    .dataframe thead th {\n",
       "        text-align: right;\n",
       "    }\n",
       "</style>\n",
       "<table border=\"1\" class=\"dataframe\">\n",
       "  <thead>\n",
       "    <tr style=\"text-align: right;\">\n",
       "      <th></th>\n",
       "      <th>ctr_name</th>\n",
       "    </tr>\n",
       "    <tr>\n",
       "      <th>ctr_id</th>\n",
       "      <th></th>\n",
       "    </tr>\n",
       "  </thead>\n",
       "  <tbody>\n",
       "    <tr>\n",
       "      <th>1</th>\n",
       "      <td>Sweden</td>\n",
       "    </tr>\n",
       "    <tr>\n",
       "      <th>2</th>\n",
       "      <td>United States</td>\n",
       "    </tr>\n",
       "    <tr>\n",
       "      <th>3</th>\n",
       "      <td>United Kingdom</td>\n",
       "    </tr>\n",
       "    <tr>\n",
       "      <th>4</th>\n",
       "      <td>Pakistan</td>\n",
       "    </tr>\n",
       "    <tr>\n",
       "      <th>5</th>\n",
       "      <td>Paraguay</td>\n",
       "    </tr>\n",
       "    <tr>\n",
       "      <th>...</th>\n",
       "      <td>...</td>\n",
       "    </tr>\n",
       "    <tr>\n",
       "      <th>93</th>\n",
       "      <td>Albania</td>\n",
       "    </tr>\n",
       "    <tr>\n",
       "      <th>94</th>\n",
       "      <td>Bolivia</td>\n",
       "    </tr>\n",
       "    <tr>\n",
       "      <th>95</th>\n",
       "      <td>Vietnam</td>\n",
       "    </tr>\n",
       "    <tr>\n",
       "      <th>96</th>\n",
       "      <td>Bermuda</td>\n",
       "    </tr>\n",
       "    <tr>\n",
       "      <th>97</th>\n",
       "      <td>Kenya</td>\n",
       "    </tr>\n",
       "  </tbody>\n",
       "</table>\n",
       "<p>97 rows × 1 columns</p>\n",
       "</div>"
      ],
      "text/plain": [
       "              ctr_name\n",
       "ctr_id                \n",
       "1               Sweden\n",
       "2        United States\n",
       "3       United Kingdom\n",
       "4             Pakistan\n",
       "5             Paraguay\n",
       "...                ...\n",
       "93             Albania\n",
       "94             Bolivia\n",
       "95             Vietnam\n",
       "96             Bermuda\n",
       "97               Kenya\n",
       "\n",
       "[97 rows x 1 columns]"
      ]
     },
     "execution_count": 113,
     "metadata": {},
     "output_type": "execute_result"
    }
   ],
   "source": [
    "#country_df= country_df.drop(columns='index')"
   ]
  },
  {
   "cell_type": "code",
   "execution_count": 114,
   "metadata": {},
   "outputs": [],
   "source": [
    "#country_df.to_sql(\"country\",if_exists=\"append\", con=engine, index=False)\n",
    "#OK"
   ]
  },
  {
   "cell_type": "code",
   "execution_count": 115,
   "metadata": {},
   "outputs": [
    {
     "data": {
      "text/html": [
       "<div>\n",
       "<style scoped>\n",
       "    .dataframe tbody tr th:only-of-type {\n",
       "        vertical-align: middle;\n",
       "    }\n",
       "\n",
       "    .dataframe tbody tr th {\n",
       "        vertical-align: top;\n",
       "    }\n",
       "\n",
       "    .dataframe thead th {\n",
       "        text-align: right;\n",
       "    }\n",
       "</style>\n",
       "<table border=\"1\" class=\"dataframe\">\n",
       "  <thead>\n",
       "    <tr style=\"text-align: right;\">\n",
       "      <th></th>\n",
       "      <th>look_job</th>\n",
       "    </tr>\n",
       "    <tr>\n",
       "      <th>look_id</th>\n",
       "      <th></th>\n",
       "    </tr>\n",
       "  </thead>\n",
       "  <tbody>\n",
       "    <tr>\n",
       "      <th>1</th>\n",
       "      <td>Not Asked</td>\n",
       "    </tr>\n",
       "    <tr>\n",
       "      <th>2</th>\n",
       "      <td>No</td>\n",
       "    </tr>\n",
       "    <tr>\n",
       "      <th>3</th>\n",
       "      <td>Yes, but only passively (just curious)</td>\n",
       "    </tr>\n",
       "    <tr>\n",
       "      <th>4</th>\n",
       "      <td>Yes, actively looking for something else</td>\n",
       "    </tr>\n",
       "  </tbody>\n",
       "</table>\n",
       "</div>"
      ],
      "text/plain": [
       "                                         look_job\n",
       "look_id                                          \n",
       "1                                       Not Asked\n",
       "2                                              No\n",
       "3          Yes, but only passively (just curious)\n",
       "4        Yes, actively looking for something else"
      ]
     },
     "execution_count": 115,
     "metadata": {},
     "output_type": "execute_result"
    }
   ],
   "source": [
    "looking_job_df"
   ]
  },
  {
   "cell_type": "code",
   "execution_count": 116,
   "metadata": {},
   "outputs": [],
   "source": [
    "#looking_job_df.to_sql(\"looking_job\",if_exists=\"append\", con=engine, index=False)\n",
    "#OK"
   ]
  },
  {
   "cell_type": "code",
   "execution_count": 117,
   "metadata": {},
   "outputs": [
    {
     "data": {
      "text/html": [
       "<div>\n",
       "<style scoped>\n",
       "    .dataframe tbody tr th:only-of-type {\n",
       "        vertical-align: middle;\n",
       "    }\n",
       "\n",
       "    .dataframe tbody tr th {\n",
       "        vertical-align: top;\n",
       "    }\n",
       "\n",
       "    .dataframe thead th {\n",
       "        text-align: right;\n",
       "    }\n",
       "</style>\n",
       "<table border=\"1\" class=\"dataframe\">\n",
       "  <thead>\n",
       "    <tr style=\"text-align: right;\">\n",
       "      <th></th>\n",
       "      <th>sec_name</th>\n",
       "    </tr>\n",
       "    <tr>\n",
       "      <th>sec_id</th>\n",
       "      <th></th>\n",
       "    </tr>\n",
       "  </thead>\n",
       "  <tbody>\n",
       "    <tr>\n",
       "      <th>1</th>\n",
       "      <td>Private business</td>\n",
       "    </tr>\n",
       "    <tr>\n",
       "      <th>2</th>\n",
       "      <td>Education (K-12, college, university)</td>\n",
       "    </tr>\n",
       "    <tr>\n",
       "      <th>3</th>\n",
       "      <td>State/province government</td>\n",
       "    </tr>\n",
       "    <tr>\n",
       "      <th>4</th>\n",
       "      <td>Local government</td>\n",
       "    </tr>\n",
       "    <tr>\n",
       "      <th>5</th>\n",
       "      <td>Non-profit</td>\n",
       "    </tr>\n",
       "    <tr>\n",
       "      <th>6</th>\n",
       "      <td>Federal government</td>\n",
       "    </tr>\n",
       "    <tr>\n",
       "      <th>7</th>\n",
       "      <td>Student</td>\n",
       "    </tr>\n",
       "  </tbody>\n",
       "</table>\n",
       "</div>"
      ],
      "text/plain": [
       "                                     sec_name\n",
       "sec_id                                       \n",
       "1                            Private business\n",
       "2       Education (K-12, college, university)\n",
       "3                   State/province government\n",
       "4                            Local government\n",
       "5                                  Non-profit\n",
       "6                          Federal government\n",
       "7                                     Student"
      ]
     },
     "execution_count": 117,
     "metadata": {},
     "output_type": "execute_result"
    }
   ],
   "source": [
    "employment_sector_df"
   ]
  },
  {
   "cell_type": "code",
   "execution_count": 118,
   "metadata": {},
   "outputs": [],
   "source": [
    "#employment_sector_df.to_sql(\"employment_sector\",if_exists=\"append\", con=engine, index=False)\n",
    "#OK"
   ]
  },
  {
   "cell_type": "code",
   "execution_count": 119,
   "metadata": {},
   "outputs": [
    {
     "data": {
      "text/html": [
       "<div>\n",
       "<style scoped>\n",
       "    .dataframe tbody tr th:only-of-type {\n",
       "        vertical-align: middle;\n",
       "    }\n",
       "\n",
       "    .dataframe tbody tr th {\n",
       "        vertical-align: top;\n",
       "    }\n",
       "\n",
       "    .dataframe thead th {\n",
       "        text-align: right;\n",
       "    }\n",
       "</style>\n",
       "<table border=\"1\" class=\"dataframe\">\n",
       "  <thead>\n",
       "    <tr style=\"text-align: right;\">\n",
       "      <th></th>\n",
       "      <th>sdg_year</th>\n",
       "    </tr>\n",
       "    <tr>\n",
       "      <th>sdg_id</th>\n",
       "      <th></th>\n",
       "    </tr>\n",
       "  </thead>\n",
       "  <tbody>\n",
       "    <tr>\n",
       "      <th>1</th>\n",
       "      <td>2021</td>\n",
       "    </tr>\n",
       "    <tr>\n",
       "      <th>2</th>\n",
       "      <td>2020</td>\n",
       "    </tr>\n",
       "    <tr>\n",
       "      <th>3</th>\n",
       "      <td>2019</td>\n",
       "    </tr>\n",
       "    <tr>\n",
       "      <th>4</th>\n",
       "      <td>2018</td>\n",
       "    </tr>\n",
       "    <tr>\n",
       "      <th>5</th>\n",
       "      <td>2017</td>\n",
       "    </tr>\n",
       "  </tbody>\n",
       "</table>\n",
       "</div>"
      ],
      "text/plain": [
       "        sdg_year\n",
       "sdg_id          \n",
       "1           2021\n",
       "2           2020\n",
       "3           2019\n",
       "4           2018\n",
       "5           2017"
      ]
     },
     "execution_count": 119,
     "metadata": {},
     "output_type": "execute_result"
    }
   ],
   "source": [
    "sondage_df"
   ]
  },
  {
   "cell_type": "code",
   "execution_count": 120,
   "metadata": {},
   "outputs": [],
   "source": [
    "#sondage_df.to_sql(\"sondage\",if_exists=\"append\", con=engine, index=False)\n",
    "#OK"
   ]
  },
  {
   "cell_type": "code",
   "execution_count": 121,
   "metadata": {},
   "outputs": [
    {
     "data": {
      "text/html": [
       "<div>\n",
       "<style scoped>\n",
       "    .dataframe tbody tr th:only-of-type {\n",
       "        vertical-align: middle;\n",
       "    }\n",
       "\n",
       "    .dataframe tbody tr th {\n",
       "        vertical-align: top;\n",
       "    }\n",
       "\n",
       "    .dataframe thead th {\n",
       "        text-align: right;\n",
       "    }\n",
       "</style>\n",
       "<table border=\"1\" class=\"dataframe\">\n",
       "  <thead>\n",
       "    <tr style=\"text-align: right;\">\n",
       "      <th></th>\n",
       "      <th>edu_title</th>\n",
       "    </tr>\n",
       "    <tr>\n",
       "      <th>edu_id</th>\n",
       "      <th></th>\n",
       "    </tr>\n",
       "  </thead>\n",
       "  <tbody>\n",
       "    <tr>\n",
       "      <th>1</th>\n",
       "      <td>Not Asked</td>\n",
       "    </tr>\n",
       "    <tr>\n",
       "      <th>2</th>\n",
       "      <td>Bachelors (4 years)</td>\n",
       "    </tr>\n",
       "    <tr>\n",
       "      <th>3</th>\n",
       "      <td>None (no degree completed)</td>\n",
       "    </tr>\n",
       "    <tr>\n",
       "      <th>4</th>\n",
       "      <td>Masters</td>\n",
       "    </tr>\n",
       "    <tr>\n",
       "      <th>5</th>\n",
       "      <td>Associates (2 years)</td>\n",
       "    </tr>\n",
       "    <tr>\n",
       "      <th>6</th>\n",
       "      <td>Doctorate/PhD</td>\n",
       "    </tr>\n",
       "  </tbody>\n",
       "</table>\n",
       "</div>"
      ],
      "text/plain": [
       "                         edu_title\n",
       "edu_id                            \n",
       "1                        Not Asked\n",
       "2              Bachelors (4 years)\n",
       "3       None (no degree completed)\n",
       "4                          Masters\n",
       "5             Associates (2 years)\n",
       "6                    Doctorate/PhD"
      ]
     },
     "execution_count": 121,
     "metadata": {},
     "output_type": "execute_result"
    }
   ],
   "source": [
    "education_df"
   ]
  },
  {
   "cell_type": "code",
   "execution_count": 122,
   "metadata": {},
   "outputs": [],
   "source": [
    "#education_df.to_sql(\"education\",if_exists=\"append\", con=engine, index=False)\n",
    "#OK"
   ]
  },
  {
   "cell_type": "code",
   "execution_count": 123,
   "metadata": {},
   "outputs": [
    {
     "data": {
      "text/html": [
       "<div>\n",
       "<style scoped>\n",
       "    .dataframe tbody tr th:only-of-type {\n",
       "        vertical-align: middle;\n",
       "    }\n",
       "\n",
       "    .dataframe tbody tr th {\n",
       "        vertical-align: top;\n",
       "    }\n",
       "\n",
       "    .dataframe thead th {\n",
       "        text-align: right;\n",
       "    }\n",
       "</style>\n",
       "<table border=\"1\" class=\"dataframe\">\n",
       "  <thead>\n",
       "    <tr style=\"text-align: right;\">\n",
       "      <th></th>\n",
       "      <th>pop_name</th>\n",
       "    </tr>\n",
       "    <tr>\n",
       "      <th>pop_id</th>\n",
       "      <th></th>\n",
       "    </tr>\n",
       "  </thead>\n",
       "  <tbody>\n",
       "    <tr>\n",
       "      <th>1</th>\n",
       "      <td>&lt;= 20,000 (town)</td>\n",
       "    </tr>\n",
       "    <tr>\n",
       "      <th>2</th>\n",
       "      <td>1M+ (metropolis)</td>\n",
       "    </tr>\n",
       "    <tr>\n",
       "      <th>3</th>\n",
       "      <td>300K-1M (large city)</td>\n",
       "    </tr>\n",
       "    <tr>\n",
       "      <th>4</th>\n",
       "      <td>100K-299K (city)</td>\n",
       "    </tr>\n",
       "    <tr>\n",
       "      <th>5</th>\n",
       "      <td>20K-99K (large town)</td>\n",
       "    </tr>\n",
       "    <tr>\n",
       "      <th>6</th>\n",
       "      <td>Not Asked</td>\n",
       "    </tr>\n",
       "  </tbody>\n",
       "</table>\n",
       "</div>"
      ],
      "text/plain": [
       "                    pop_name\n",
       "pop_id                      \n",
       "1           <= 20,000 (town)\n",
       "2           1M+ (metropolis)\n",
       "3       300K-1M (large city)\n",
       "4           100K-299K (city)\n",
       "5       20K-99K (large town)\n",
       "6                  Not Asked"
      ]
     },
     "execution_count": 123,
     "metadata": {},
     "output_type": "execute_result"
    }
   ],
   "source": [
    "largest_city_df"
   ]
  },
  {
   "cell_type": "code",
   "execution_count": 124,
   "metadata": {},
   "outputs": [],
   "source": [
    "#largest_city_df.to_sql(\"largest_city\",if_exists=\"append\", con=engine, index=False)\n",
    "#OK"
   ]
  },
  {
   "cell_type": "code",
   "execution_count": 125,
   "metadata": {},
   "outputs": [
    {
     "data": {
      "text/html": [
       "<div>\n",
       "<style scoped>\n",
       "    .dataframe tbody tr th:only-of-type {\n",
       "        vertical-align: middle;\n",
       "    }\n",
       "\n",
       "    .dataframe tbody tr th {\n",
       "        vertical-align: top;\n",
       "    }\n",
       "\n",
       "    .dataframe thead th {\n",
       "        text-align: right;\n",
       "    }\n",
       "</style>\n",
       "<table border=\"1\" class=\"dataframe\">\n",
       "  <thead>\n",
       "    <tr style=\"text-align: right;\">\n",
       "      <th></th>\n",
       "      <th>job_name</th>\n",
       "    </tr>\n",
       "  </thead>\n",
       "  <tbody>\n",
       "    <tr>\n",
       "      <th>1</th>\n",
       "      <td>Developer: Business Intelligence (SSRS, PowerB...</td>\n",
       "    </tr>\n",
       "    <tr>\n",
       "      <th>2</th>\n",
       "      <td>DBA (Production Focus - build &amp; troubleshoot s...</td>\n",
       "    </tr>\n",
       "    <tr>\n",
       "      <th>3</th>\n",
       "      <td>DBA (General - splits time evenly between writ...</td>\n",
       "    </tr>\n",
       "    <tr>\n",
       "      <th>4</th>\n",
       "      <td>Manager</td>\n",
       "    </tr>\n",
       "    <tr>\n",
       "      <th>5</th>\n",
       "      <td>Developer: App code (C#, JS, etc)</td>\n",
       "    </tr>\n",
       "    <tr>\n",
       "      <th>6</th>\n",
       "      <td>Developer: T-SQL</td>\n",
       "    </tr>\n",
       "    <tr>\n",
       "      <th>7</th>\n",
       "      <td>Architect</td>\n",
       "    </tr>\n",
       "    <tr>\n",
       "      <th>8</th>\n",
       "      <td>DBA (Development Focus - tunes queries, indexe...</td>\n",
       "    </tr>\n",
       "    <tr>\n",
       "      <th>9</th>\n",
       "      <td>Engineer</td>\n",
       "    </tr>\n",
       "    <tr>\n",
       "      <th>10</th>\n",
       "      <td>Analyst</td>\n",
       "    </tr>\n",
       "    <tr>\n",
       "      <th>11</th>\n",
       "      <td>Other</td>\n",
       "    </tr>\n",
       "    <tr>\n",
       "      <th>12</th>\n",
       "      <td>Data Scientist</td>\n",
       "    </tr>\n",
       "    <tr>\n",
       "      <th>13</th>\n",
       "      <td>DBA</td>\n",
       "    </tr>\n",
       "    <tr>\n",
       "      <th>14</th>\n",
       "      <td>Principal database engineer</td>\n",
       "    </tr>\n",
       "    <tr>\n",
       "      <th>15</th>\n",
       "      <td>DevOps, Sr Software Engineer DBA</td>\n",
       "    </tr>\n",
       "    <tr>\n",
       "      <th>16</th>\n",
       "      <td>Technician</td>\n",
       "    </tr>\n",
       "    <tr>\n",
       "      <th>17</th>\n",
       "      <td>Database Specialist</td>\n",
       "    </tr>\n",
       "    <tr>\n",
       "      <th>18</th>\n",
       "      <td>Consultant</td>\n",
       "    </tr>\n",
       "    <tr>\n",
       "      <th>19</th>\n",
       "      <td>Systems Administrator</td>\n",
       "    </tr>\n",
       "    <tr>\n",
       "      <th>20</th>\n",
       "      <td>Sales</td>\n",
       "    </tr>\n",
       "    <tr>\n",
       "      <th>21</th>\n",
       "      <td>DBA / BI Developer</td>\n",
       "    </tr>\n",
       "    <tr>\n",
       "      <th>22</th>\n",
       "      <td>Sr Consultant</td>\n",
       "    </tr>\n",
       "    <tr>\n",
       "      <th>23</th>\n",
       "      <td>Analytics consultant</td>\n",
       "    </tr>\n",
       "  </tbody>\n",
       "</table>\n",
       "</div>"
      ],
      "text/plain": [
       "                                             job_name\n",
       "1   Developer: Business Intelligence (SSRS, PowerB...\n",
       "2   DBA (Production Focus - build & troubleshoot s...\n",
       "3   DBA (General - splits time evenly between writ...\n",
       "4                                             Manager\n",
       "5                   Developer: App code (C#, JS, etc)\n",
       "6                                    Developer: T-SQL\n",
       "7                                           Architect\n",
       "8   DBA (Development Focus - tunes queries, indexe...\n",
       "9                                            Engineer\n",
       "10                                            Analyst\n",
       "11                                              Other\n",
       "12                                     Data Scientist\n",
       "13                                                DBA\n",
       "14                        Principal database engineer\n",
       "15                   DevOps, Sr Software Engineer DBA\n",
       "16                                        Technician \n",
       "17                                Database Specialist\n",
       "18                                         Consultant\n",
       "19                              Systems Administrator\n",
       "20                                              Sales\n",
       "21                                 DBA / BI Developer\n",
       "22                                     Sr Consultant \n",
       "23                               Analytics consultant"
      ]
     },
     "execution_count": 125,
     "metadata": {},
     "output_type": "execute_result"
    }
   ],
   "source": [
    "job_df"
   ]
  },
  {
   "cell_type": "code",
   "execution_count": 315,
   "metadata": {},
   "outputs": [],
   "source": [
    "#job_df.to_sql(\"job\",if_exists=\"append\", con=engine, index=False)\n",
    "#OK"
   ]
  },
  {
   "cell_type": "code",
   "execution_count": 128,
   "metadata": {},
   "outputs": [],
   "source": [
    "#task_df.to_sql(\"task\",if_exists=\"append\", con=engine, index=False)\n",
    "#OK"
   ]
  },
  {
   "cell_type": "code",
   "execution_count": 129,
   "metadata": {},
   "outputs": [],
   "source": [
    "#database_used_df.to_sql(\"database\",if_exists=\"append\", con=engine, index=False)\n",
    "#OK"
   ]
  },
  {
   "cell_type": "code",
   "execution_count": 234,
   "metadata": {},
   "outputs": [
    {
     "name": "stderr",
     "output_type": "stream",
     "text": [
      "<ipython-input-234-aefa9c16ad21>:1: SettingWithCopyWarning: \n",
      "A value is trying to be set on a copy of a slice from a DataFrame\n",
      "\n",
      "See the caveats in the documentation: https://pandas.pydata.org/pandas-docs/stable/user_guide/indexing.html#returning-a-view-versus-a-copy\n",
      "  sondage_item_df['manage_staff'][sondage_item_df['manage_staff']=='Yes']=True\n",
      "<ipython-input-234-aefa9c16ad21>:2: SettingWithCopyWarning: \n",
      "A value is trying to be set on a copy of a slice from a DataFrame\n",
      "\n",
      "See the caveats in the documentation: https://pandas.pydata.org/pandas-docs/stable/user_guide/indexing.html#returning-a-view-versus-a-copy\n",
      "  sondage_item_df['manage_staff'][sondage_item_df['manage_staff']=='No']=False\n"
     ]
    }
   ],
   "source": [
    "sondage_item_df['manage_staff'][sondage_item_df['manage_staff']=='Yes']=True\n",
    "sondage_item_df['manage_staff'][sondage_item_df['manage_staff']=='No']=False"
   ]
  },
  {
   "cell_type": "code",
   "execution_count": 237,
   "metadata": {},
   "outputs": [
    {
     "name": "stderr",
     "output_type": "stream",
     "text": [
      "<ipython-input-237-e4808c568f29>:1: SettingWithCopyWarning: \n",
      "A value is trying to be set on a copy of a slice from a DataFrame\n",
      "\n",
      "See the caveats in the documentation: https://pandas.pydata.org/pandas-docs/stable/user_guide/indexing.html#returning-a-view-versus-a-copy\n",
      "  sondage_item_df['other_people'][sondage_item_df['other_people']=='None']=0\n"
     ]
    }
   ],
   "source": [
    "sondage_item_df['other_people'][sondage_item_df['other_people']=='None']=0"
   ]
  },
  {
   "cell_type": "code",
   "execution_count": 241,
   "metadata": {},
   "outputs": [
    {
     "name": "stderr",
     "output_type": "stream",
     "text": [
      "<ipython-input-241-c123ddc4e739>:1: SettingWithCopyWarning: \n",
      "A value is trying to be set on a copy of a slice from a DataFrame\n",
      "\n",
      "See the caveats in the documentation: https://pandas.pydata.org/pandas-docs/stable/user_guide/indexing.html#returning-a-view-versus-a-copy\n",
      "  sondage_item_df['database_servers'][sondage_item_df['database_servers']=='Not Asked']=None\n"
     ]
    }
   ],
   "source": [
    "sondage_item_df['database_servers'][sondage_item_df['database_servers']=='Not Asked']=None"
   ]
  },
  {
   "cell_type": "code",
   "execution_count": 249,
   "metadata": {},
   "outputs": [
    {
     "name": "stderr",
     "output_type": "stream",
     "text": [
      "<ipython-input-249-741daaa7ad7f>:1: SettingWithCopyWarning: \n",
      "A value is trying to be set on a copy of a slice from a DataFrame\n",
      "\n",
      "See the caveats in the documentation: https://pandas.pydata.org/pandas-docs/stable/user_guide/indexing.html#returning-a-view-versus-a-copy\n",
      "  sondage_item_df['hours_worked'][sondage_item_df['hours_worked']=='Not Asked']=None\n"
     ]
    }
   ],
   "source": [
    "sondage_item_df['hours_worked'][sondage_item_df['hours_worked']=='Not Asked']=None"
   ]
  },
  {
   "cell_type": "code",
   "execution_count": 328,
   "metadata": {},
   "outputs": [
    {
     "data": {
      "text/plain": [
       "timestamp                    2017-12-12 19:07:35.807000\n",
       "salary_usd                                        95000\n",
       "postal_code                                         NaN\n",
       "years_with_db                                     53716\n",
       "manage_staff                                      False\n",
       "years_with_job                                        1\n",
       "other_people                                          4\n",
       "company_employee                              Not Asked\n",
       "database_servers                                    600\n",
       "education_computer                                   No\n",
       "hours_worked                                         45\n",
       "telecommute           None, or less than 1 day per week\n",
       "newest_version                                Not Asked\n",
       "oldest_version                                Not Asked\n",
       "gender                                           Female\n",
       "cap_id                                                1\n",
       "cert_id                                               3\n",
       "ctr_id                                                2\n",
       "edu_id                                                2\n",
       "sec_id                                                1\n",
       "emp_id                                                2\n",
       "mcp_id                                                7\n",
       "pop_id                                                6\n",
       "look_id                                               3\n",
       "sdg_id                                                4\n",
       "job_id                                                9\n",
       "primary_db_id                                         1\n",
       "Name: 4949, dtype: object"
      ]
     },
     "execution_count": 328,
     "metadata": {},
     "output_type": "execute_result"
    }
   ],
   "source": [
    "#sondage_item_df.index+=1\n",
    "sondage_item_df.iloc[4948]"
   ]
  },
  {
   "cell_type": "code",
   "execution_count": 329,
   "metadata": {},
   "outputs": [],
   "source": [
    "#sondage_item_df.to_sql(\"sondage_item\",if_exists=\"append\", con=engine, index=False)"
   ]
  },
  {
   "cell_type": "code",
   "execution_count": null,
   "metadata": {},
   "outputs": [],
   "source": []
  },
  {
   "cell_type": "code",
   "execution_count": null,
   "metadata": {},
   "outputs": [],
   "source": []
  }
 ],
 "metadata": {
  "interpreter": {
   "hash": "64b474f71659f9be32f34132c3eef93d33d176ead871b80ca6db3fa26bc83f65"
  },
  "kernelspec": {
   "display_name": "Python 3.8.5 64-bit ('base': conda)",
   "name": "python3"
  },
  "language_info": {
   "name": "python",
   "version": ""
  },
  "metadata": {
   "interpreter": {
    "hash": "64b474f71659f9be32f34132c3eef93d33d176ead871b80ca6db3fa26bc83f65"
   }
  },
  "orig_nbformat": 3
 },
 "nbformat": 4,
 "nbformat_minor": 2
}