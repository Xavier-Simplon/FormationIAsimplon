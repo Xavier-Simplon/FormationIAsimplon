{
 "cells": [
  {
   "cell_type": "code",
   "execution_count": 8,
   "metadata": {},
   "outputs": [
    {
     "name": "stdout",
     "output_type": "stream",
     "text": [
      "o\n",
      "j\n",
      "njou\n",
      "BONJOUR\n",
      "bonsoir\n",
      "-1\n"
     ]
    }
   ],
   "source": [
    "A='bonjourjour'\n",
    "print(A[1])\n",
    "print(A[-4])\n",
    "print(A[2:-1])\n",
    "print(A.upper())\n",
    "print(A.replace('jour','soir'))\n",
    "print(A.find('jour'))\n"
   ]
  },
  {
   "cell_type": "code",
   "execution_count": 37,
   "metadata": {},
   "outputs": [
    {
     "name": "stdout",
     "output_type": "stream",
     "text": [
      "saisir un verbe du premier groupe\n",
      "recherche\n",
      "saisir un verbe du premier groupe\n",
      "rechercher\n",
      "recherche\n",
      "recherches\n",
      "recherche\n",
      "recherchons\n",
      "recherchez\n",
      "recherchent\n"
     ]
    }
   ],
   "source": [
    "##1. Le présent de l’indicatif\n",
    "\n",
    "verbe=''\n",
    "while verbe[-2:]!='er':\n",
    "    print('saisir un verbe du premier groupe')\n",
    "    verbe=input()\n",
    "    \n",
    "r=verbe[:-2]\n",
    "print(r+'e')\n",
    "print(r+'es')\n",
    "print(r+'e')\n",
    "print(r+'ons')\n",
    "print(r+'ez')\n",
    "print(r+'ent')"
   ]
  },
  {
   "cell_type": "code",
   "execution_count": 15,
   "metadata": {},
   "outputs": [
    {
     "name": "stdout",
     "output_type": "stream",
     "text": [
      "Saisir deux mots de la meme longeur\n",
      "mot numéro 1JAPON\n",
      "mot numéro 2SAVON\n",
      "la distance de Hamming est de  2\n"
     ]
    }
   ],
   "source": [
    "##2. Distance entre deux mots\n",
    "\n",
    "a=''\n",
    "b='a'\n",
    "i=0\n",
    "while len(a)!=len(b):\n",
    "    print('Saisir deux mots de la meme longeur')\n",
    "    a=input('mot numéro 1 ')\n",
    "    b=input('mot numéro 2 ')\n",
    "    if i>0:\n",
    "        print('erreur il faut saisir deux mots de la meme longueur')\n",
    "    i=+1\n",
    "\n",
    "H=0\n",
    "for z in range(len(a)):\n",
    "    if b[z]!= a[z]:\n",
    "        H=H+1\n",
    "print('la distance de Hamming est de ', H)"
   ]
  },
  {
   "cell_type": "code",
   "execution_count": 25,
   "metadata": {},
   "outputs": [
    {
     "name": "stdout",
     "output_type": "stream",
     "text": [
      "azertyuiop\n",
      "poiuytreza"
     ]
    }
   ],
   "source": [
    "##3. Afficher un mot à l’envers \n",
    "\n",
    "a=input()\n",
    "for i in range(len(a)+1):\n",
    "    if i!=0:\n",
    "        print(a[-i],end='')"
   ]
  },
  {
   "cell_type": "code",
   "execution_count": 42,
   "metadata": {},
   "outputs": [
    {
     "name": "stdout",
     "output_type": "stream",
     "text": [
      "entrer le nombre représentant le a dans ax² + bx + c = 03\n",
      "entrer le nombre représentant le b dans ax² + bx + c = 07\n",
      "entrer le nombre représentant le c dans ax² + bx + c = 0-7\n",
      "les solutions de l'équation  3.0 x²+ 7.0 x+ -7.0  sont  -27.798843892006197 6.798843892006195\n"
     ]
    }
   ],
   "source": [
    "##4. Calculer les solutions, si elles existe, du polynôme ax² + bx + c = 0\n",
    "\n",
    "a=float(input('entrer le nombre représentant le a dans ax² + bx + c = 0'))\n",
    "b=float(input('entrer le nombre représentant le b dans ax² + bx + c = 0'))\n",
    "c=float(input('entrer le nombre représentant le c dans ax² + bx + c = 0'))\n",
    "\n",
    "solutions2Degres(a,b,c)\n",
    "\n",
    "def solutions2Degres(a,b,c):\n",
    "    d=b**2-4*a*c\n",
    "    if d<0:\n",
    "        print('les solutions se trouve dans le dommaines des nombres imaginaires')\n",
    "        return \n",
    "    else:\n",
    "        x1=(-b-(d)**(0.5))/2*a\n",
    "        x2=(-b+(d)**(0.5))/2*a\n",
    "        print(\"les solutions de l'équation \",a,\"x² +\",b,\"x +\",c,\"= 0 sont \",x1 , x2)\n",
    "        return"
   ]
  },
  {
   "cell_type": "code",
   "execution_count": 44,
   "metadata": {},
   "outputs": [
    {
     "name": "stdout",
     "output_type": "stream",
     "text": [
      "entrer un nombre10\n",
      "55\n"
     ]
    }
   ],
   "source": [
    "##5. Additionner les n premiers entiers\n",
    "\n",
    "n=int(input('entrer un nombre'))\n",
    "r=0\n",
    "for i in range(1,n+1):\n",
    "    r=r+i\n",
    "print(r)"
   ]
  },
  {
   "cell_type": "code",
   "execution_count": 56,
   "metadata": {
    "scrolled": true
   },
   "outputs": [
    {
     "name": "stdout",
     "output_type": "stream",
     "text": [
      "XX01234567890123456789012345678901234567890123456789\n",
      "0.50000000000000000000000000000000000000000000000000\n",
      "0.25000000000000000000000000000000000000000000000000\n",
      "0.12500000000000000000000000000000000000000000000000\n",
      "0.06250000000000000000000000000000000000000000000000\n",
      "0.03125000000000000000000000000000000000000000000000\n",
      "0.01562500000000000000000000000000000000000000000000\n",
      "0.00781250000000000000000000000000000000000000000000\n",
      "0.00390625000000000000000000000000000000000000000000\n",
      "0.00195312500000000000000000000000000000000000000000\n",
      "0.00097656250000000000000000000000000000000000000000\n",
      "0.00048828125000000000000000000000000000000000000000\n",
      "0.00024414062500000000000000000000000000000000000000\n",
      "0.00012207031250000000000000000000000000000000000000\n",
      "0.00006103515625000000000000000000000000000000000000\n",
      "0.00003051757812500000000000000000000000000000000000\n",
      "0.00001525878906250000000000000000000000000000000000\n",
      "0.00000762939453125000000000000000000000000000000000\n",
      "0.00000381469726562500000000000000000000000000000000\n",
      "0.00000190734863281250000000000000000000000000000000\n",
      "0.00000095367431640625000000000000000000000000000000\n",
      "0.00000047683715820312500000000000000000000000000000\n",
      "0.00000023841857910156250000000000000000000000000000\n",
      "0.00000011920928955078125000000000000000000000000000\n",
      "0.00000005960464477539062500000000000000000000000000\n",
      "0.00000002980232238769531250000000000000000000000000\n",
      "0.00000001490116119384765625000000000000000000000000\n",
      "0.00000000745058059692382812500000000000000000000000\n",
      "0.00000000372529029846191406250000000000000000000000\n",
      "0.00000000186264514923095703125000000000000000000000\n",
      "0.00000000093132257461547851562500000000000000000000\n",
      "0.00000000046566128730773925781250000000000000000000\n",
      "0.00000000023283064365386962890625000000000000000000\n",
      "0.00000000011641532182693481445312500000000000000000\n",
      "0.00000000005820766091346740722656250000000000000000\n",
      "0.00000000002910383045673370361328125000000000000000\n",
      "0.00000000001455191522836685180664062500000000000000\n",
      "0.00000000000727595761418342590332031250000000000000\n",
      "0.00000000000363797880709171295166015625000000000000\n",
      "0.00000000000181898940354585647583007812500000000000\n",
      "0.00000000000090949470177292823791503906250000000000\n",
      "0.00000000000045474735088646411895751953125000000000\n",
      "0.00000000000022737367544323205947875976562500000000\n",
      "0.00000000000011368683772161602973937988281250000000\n",
      "0.00000000000005684341886080801486968994140625000000\n",
      "0.00000000000002842170943040400743484497070312500000\n",
      "0.00000000000001421085471520200371742248535156250000\n",
      "0.00000000000000710542735760100185871124267578125000\n",
      "0.00000000000000355271367880050092935562133789062500\n",
      "0.00000000000000177635683940025046467781066894531250\n",
      "0.00000000000000088817841970012523233890533447265625\n"
     ]
    }
   ],
   "source": [
    "##6. L’infiniment petit \n",
    "\n",
    "print(\"XX\"+\"0123456789\" * 5)\n",
    "x=1\n",
    "for i in range(50):\n",
    "    x/=2\n",
    "    print(\"%2.50f\"%x)"
   ]
  },
  {
   "cell_type": "code",
   "execution_count": 7,
   "metadata": {},
   "outputs": [
    {
     "name": "stdout",
     "output_type": "stream",
     "text": [
      "18\n"
     ]
    }
   ],
   "source": [
    "##7. Compter les nombres à deux chiffres ayant le chiffre 7\n",
    "\n",
    "compteur=0\n",
    "\n",
    "for i in range(10,100):\n",
    "    if i // 10 == 7 or i%10==7 :\n",
    "        compteur+=1\n",
    "\n",
    "print(compteur)"
   ]
  },
  {
   "cell_type": "code",
   "execution_count": 11,
   "metadata": {},
   "outputs": [
    {
     "name": "stdout",
     "output_type": "stream",
     "text": [
      "travail\n",
      "travail\n",
      "il y a  4  consonnes dans le mot  travail\n"
     ]
    }
   ],
   "source": [
    "##8. Compter les consonnes dans un mot\n",
    "\n",
    "mot=input()\n",
    "mot.upper()\n",
    "print(mot)\n",
    "voyelles=0\n",
    "\n",
    "for i in range(len(mot)):\n",
    "    if mot[i]==\"a\" or mot[i]==\"e\" or mot[i]==\"i\" or mot[i]==\"o\" or mot[i]==\"u\" or mot[i]==\"y\":\n",
    "        voyelles+=1\n",
    "\n",
    "        \n",
    "consonnes=len(mot)-voyelles\n",
    "print(\"il y a \",consonnes,\" consonnes dans le mot \",mot)"
   ]
  },
  {
   "cell_type": "code",
   "execution_count": 16,
   "metadata": {},
   "outputs": [
    {
     "name": "stdout",
     "output_type": "stream",
     "text": [
      "dupont\n",
      "gxsrqw\n"
     ]
    }
   ],
   "source": [
    "##9. Encoder et décrypter un nom \n",
    "\n",
    "nom=input()\n",
    "resultat=''\n",
    "\n",
    "for i in nom:\n",
    "    if ord(i)==88 or ord(i)==120:\n",
    "        resultat=resultat+'A'\n",
    "    elif ord(i)==89 or ord(i)==121:\n",
    "        resultat=resultat+'B'\n",
    "    elif ord(i)==90 or ord(i)==122:\n",
    "        resultat=resultat+'C'\n",
    "    else:\n",
    "        resultat=resultat+chr((ord(i)+3))\n",
    "        \n",
    "print(resultat)\n",
    "    "
   ]
  },
  {
   "cell_type": "code",
   "execution_count": 19,
   "metadata": {},
   "outputs": [
    {
     "name": "stdout",
     "output_type": "stream",
     "text": [
      "gxsrqw\n",
      "dupont\n"
     ]
    }
   ],
   "source": [
    "##9. Encoder et décrypter un nom inverse\n",
    "\n",
    "nom=input()\n",
    "resultat=''\n",
    "\n",
    "for i in nom:\n",
    "    if ord(i)==65 or ord(i)==97:\n",
    "        resultat=resultat+'X'\n",
    "    elif ord(i)==66 or ord(i)==98:\n",
    "        resultat=resultat+'Y'\n",
    "    elif ord(i)==67 or ord(i)==99:\n",
    "        resultat=resultat+'Z'\n",
    "    else:\n",
    "        resultat=resultat+chr((ord(i)-3))\n",
    "        \n",
    "print(resultat)\n"
   ]
  },
  {
   "cell_type": "code",
   "execution_count": 7,
   "metadata": {
    "scrolled": true
   },
   "outputs": [
    {
     "name": "stdout",
     "output_type": "stream",
     "text": [
      "html\n",
      "head\n",
      "title\n",
      "/title\n",
      "/head\n",
      "body\n",
      "/body\n",
      "/html\n"
     ]
    }
   ],
   "source": [
    "##10. Afficher les balises d’une page HTML \n",
    "\n",
    "code=\"<html> <head> <title> Mon Titre </title> </head> <body> Texte sur la page </body> </html>\"\n",
    "for i in range(len(code)):\n",
    "    if code[i] =='<':\n",
    "        u=i\n",
    "        v=code.find('>',i)\n",
    "        print(code[u+1:v])"
   ]
  },
  {
   "cell_type": "code",
   "execution_count": 20,
   "metadata": {
    "scrolled": false
   },
   "outputs": [
    {
     "name": "stdout",
     "output_type": "stream",
     "text": [
      "entrer le nombre de jour dans le mois31\n",
      "entrer le jour de la semaine ou le mois commence: exemple 1 pour lundi, 7 pour dimanche1\n",
      "LUN MAR MER JEU VEN SAM DIM\n",
      "  1   2   3   4   5   6   7 \n",
      "  8   9  10  11  12  13  14 \n",
      " 15  16  17  18  19  20  21 \n",
      " 22  23  24  25  26  27  28 \n",
      " 29  30  31 \n"
     ]
    }
   ],
   "source": [
    "##11. Afficher le calendrier du mois\n",
    "\n",
    "nb_j=int(input(\"entrer le nombre de jour dans le mois\"))\n",
    "jour_d=int(input(\"entrer le jour de la semaine ou le mois commence: exemple 1 pour lundi, 7 pour dimanche\"))\n",
    "c=1\n",
    "print(\"LUN MAR MER JEU VEN SAM DIM\")\n",
    "print(\"    \"*(jour_d-1),end='')\n",
    "\n",
    "for i in range(1,nb_j+1):\n",
    "    c+=1\n",
    "    print(\"{0:3d} \".format(i), end=\"\")\n",
    "    if c==8:\n",
    "        print()\n",
    "        c=1\n",
    "\n",
    "print()"
   ]
  },
  {
   "cell_type": "code",
   "execution_count": 21,
   "metadata": {},
   "outputs": [
    {
     "name": "stdout",
     "output_type": "stream",
     "text": [
      "17\n",
      "[1, 0, 0, 0, 0, 0, 0, 0, 1, 1, 0, 0, 0, 1, 0, 1, 1]\n",
      "nombre de faces tirés:6/17\n",
      "nombre de pile tirés : 11/17\n"
     ]
    }
   ],
   "source": [
    "##12. Statistiques avec pile ou face \n",
    "\n",
    "import random\n",
    "\n",
    "nbTirages=int(input())\n",
    "\n",
    "counter=[random.randrange(0,2) for i in range(nbTirages)]\n",
    "print(counter)\n",
    "print(f'nombre de faces tirés:{sum(counter)}/{nbTirages}') \n",
    "print(f'nombre de pile tirés : { len(counter)-sum( counter)}/{ nbTirages}')"
   ]
  },
  {
   "cell_type": "code",
   "execution_count": null,
   "metadata": {},
   "outputs": [],
   "source": []
  }
 ],
 "metadata": {
  "kernelspec": {
   "display_name": "Python 3",
   "language": "python",
   "name": "python3"
  },
  "language_info": {
   "codemirror_mode": {
    "name": "ipython",
    "version": 3
   },
   "file_extension": ".py",
   "mimetype": "text/x-python",
   "name": "python",
   "nbconvert_exporter": "python",
   "pygments_lexer": "ipython3",
   "version": "3.8.5"
  }
 },
 "nbformat": 4,
 "nbformat_minor": 4
}
